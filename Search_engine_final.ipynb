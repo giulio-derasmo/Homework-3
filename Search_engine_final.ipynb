{
 "cells": [
  {
   "cell_type": "markdown",
   "id": "cc743901-5a7c-46df-a19c-827488ca49d5",
   "metadata": {},
   "source": [
    "# Search engineeee"
   ]
  },
  {
   "cell_type": "code",
   "execution_count": 1,
   "id": "2601dbc6-b651-4662-adee-da67413a5402",
   "metadata": {},
   "outputs": [],
   "source": [
    "import requests\n",
    "from tqdm import tqdm\n",
    "from bs4 import BeautifulSoup\n",
    "import pandas as pd\n",
    "from datetime import datetime\n",
    "import os\n",
    "import re"
   ]
  },
  {
   "cell_type": "markdown",
   "id": "b7b60f55-3be4-4abb-9625-620f5d922a59",
   "metadata": {},
   "source": [
    "# Crawl synopsis for trying to do search"
   ]
  },
  {
   "cell_type": "code",
   "execution_count": 2,
   "id": "183113f2-78b1-4633-aabb-e0912afe61bc",
   "metadata": {},
   "outputs": [],
   "source": [
    "def scrabbing_search_engine(soup):\n",
    "    anime_info = []\n",
    "    #title\n",
    "    title = str(soup.find(\"h1\", attrs = {\"class\": \"title-name h1_bold_none\"}).string)\n",
    "    anime_info.append(title)\n",
    "    #synopsis\n",
    "    synopsis = str(soup.find(\"p\", attrs = {\"itemprop\": \"description\"}).text)\n",
    "    anime_info.append(synopsis)\n",
    "    \n",
    "    return anime_info"
   ]
  },
  {
   "cell_type": "code",
   "execution_count": 4,
   "id": "78e19dce-2eb2-4749-9c5b-0e2726e8d311",
   "metadata": {},
   "outputs": [
    {
     "name": "stderr",
     "output_type": "stream",
     "text": [
      "100%|██████████████████████████████████████████████████████████████████████████████████| 49/49 [03:05<00:00,  3.79s/it]\n"
     ]
    }
   ],
   "source": [
    "attrs = [\"animeTitle\",\"animeDescription\",\"animeUrl\"]\n",
    "list_of_anime = []\n",
    "\n",
    "# take info\n",
    "for page in tqdm(range(1,50)):\n",
    "    folder = \"./Folder_with_page/page\"+str(page)\n",
    "    for anime in os.listdir(folder):\n",
    "        with open(folder + \"/\" + anime, \"r\",  encoding='utf-8') as fp:\n",
    "            soup = BeautifulSoup(fp, \"html.parser\")\n",
    "        anime_info = scrabbing_search_engine(soup)\n",
    "        anime_info.append(soup.find(\"meta\",  property=\"og:url\")[\"content\"])\n",
    "        list_of_anime.append(anime_info)\n",
    "        \n",
    "# Creating the DataFrame\n",
    "df = pd.DataFrame(list_of_anime, columns = attrs)\n",
    "\n",
    "# Creating the tsv file\n",
    "# Index True, in this way = ID of the anime\n",
    "df.to_csv('prova_search_engine.tsv', index = False, sep = '\\t')"
   ]
  },
  {
   "cell_type": "markdown",
   "id": "614a9602-f54a-47e5-af8c-5d74e1ad1420",
   "metadata": {},
   "source": [
    "# Creating the Search Engine "
   ]
  },
  {
   "cell_type": "markdown",
   "id": "cf2769ac-d7ae-42d1-95df-616d80e9d2a3",
   "metadata": {},
   "source": [
    "First of all lets gather all the documents in one list.\n",
    "* documents: lists of document. Each document correspond to an anime description."
   ]
  },
  {
   "cell_type": "code",
   "execution_count": 5,
   "id": "28da2fc2-ed9d-4ae6-ad2e-b40fe158050a",
   "metadata": {},
   "outputs": [],
   "source": [
    "documents = []\n",
    "for doc in df[\"animeDescription\"]:\n",
    "    documents.append(doc)"
   ]
  },
  {
   "cell_type": "markdown",
   "id": "1068f185-cbf6-4c89-9c24-780f09f075a5",
   "metadata": {},
   "source": [
    "## Clean the documents"
   ]
  },
  {
   "cell_type": "markdown",
   "id": "5bbdc6c4-2a3e-41b2-95d8-8e3866dc691b",
   "metadata": {},
   "source": [
    "Now let's cleaning all the documents. This step is colled preprocessing. We follow this order:\n",
    "- 1) expand contraction form + Normalization (capital lower words)\n",
    "- 2) remove number from text. We want only text string \n",
    "- 3) Tokanize. We divide the string in words.\n",
    "- 4) removing stopwords\n",
    "- 5) removing punctuation\n",
    "- 6) removing some other words or non-text string\n",
    "- 7) stemming "
   ]
  },
  {
   "cell_type": "markdown",
   "id": "bd2677cc-59f9-46a8-b410-e1e50a816629",
   "metadata": {},
   "source": [
    "Let's inspect the document to see what we can delete and what no:\n",
    "- for example: \"Philosopher's Stone—a powerful\" << This is dash\n",
    "- but \"bio-mechanical engineering\" << This is hyphen\n",
    "\n",
    "We decide to keep the hypen and remove the dash\n",
    "\n",
    "Also we encounter a lot of contraction form: using wikipedia https://en.wikipedia.org/wiki/Wikipedia:List_of_English_contractions\n",
    "we store them in a dictionary and restore the long form."
   ]
  },
  {
   "cell_type": "code",
   "execution_count": 6,
   "id": "2273c321-8e63-466d-b16d-26c237e264df",
   "metadata": {},
   "outputs": [],
   "source": [
    "from nltk.tokenize import word_tokenize\n",
    "from nltk.corpus import stopwords\n",
    "from nltk.stem import SnowballStemmer\n",
    "from nltk.stem.wordnet import WordNetLemmatizer\n",
    "import string"
   ]
  },
  {
   "cell_type": "code",
   "execution_count": 7,
   "id": "1d61e8eb-04df-4713-87e4-72cc125906aa",
   "metadata": {},
   "outputs": [],
   "source": [
    "contractions = {\n",
    "\"ain't\": \"am not\",\n",
    "\"aren't\": \"are not\",\n",
    "\"can't\": \"cannot\",\n",
    "\"can't've\": \"cannot have\",\n",
    "\"'cause\": \"because\",\n",
    "\"could've\": \"could have\",\n",
    "\"couldn't\": \"could not\",\n",
    "\"couldn't've\": \"could not have\",\n",
    "\"didn't\": \"did not\",\n",
    "\"doesn't\": \"does not\",\n",
    "\"don't\": \"do not\",\n",
    "\"hadn't\": \"had not\",\n",
    "\"hadn't've\": \"had not have\",\n",
    "\"hasn't\": \"has not\",\n",
    "\"haven't\": \"have not\",\n",
    "\"he'd\": \"he had\",\n",
    "\"he'd've\": \"he would have\",\n",
    "\"he'll\": \"he shall\",\n",
    "\"he'll've\": \"he shall have\",\n",
    "\"he's\": \"he has\",\n",
    "\"how'd\": \"how did\",\n",
    "\"how'd'y\": \"how do you\",\n",
    "\"how'll\": \"how will\",\n",
    "\"how's\": \"how has\",\n",
    "\"i'd\": \"I had\",\n",
    "\"i'd've\": \"I would have\",\n",
    "\"i'll\": \"I shall\",\n",
    "\"i'll've\": \"I shall have\",\n",
    "\"i'm\": \"I am\",\n",
    "\"i've\": \"I have\",\n",
    "\"isn't\": \"is not\",\n",
    "\"it'd\": \"it had\",\n",
    "\"it'd've\": \"it would have\",\n",
    "\"it'll\": \"it shall\",\n",
    "\"it'll've\": \"it shall have\",\n",
    "\"it's\": \"it has\",\n",
    "\"let's\": \"let us\",\n",
    "\"ma'am\": \"madam\",\n",
    "\"mayn't\": \"may not\",\n",
    "\"might've\": \"might have\",\n",
    "\"mightn't\": \"might not\",\n",
    "\"mightn't've\": \"might not have\",\n",
    "\"must've\": \"must have\",\n",
    "\"mustn't\": \"must not\",\n",
    "\"mustn't've\": \"must not have\",\n",
    "\"needn't\": \"need not\",\n",
    "\"needn't've\": \"need not have\",\n",
    "\"o'clock\": \"of the clock\",\n",
    "\"oughtn't\": \"ought not\",\n",
    "\"oughtn't've\": \"ought not have\",\n",
    "\"shan't\": \"shall not\",\n",
    "\"sha'n't\": \"shall not\",\n",
    "\"shan't've\": \"shall not have\",\n",
    "\"she'd\": \"she had\",\n",
    "\"she'd've\": \"she would have\",\n",
    "\"she'll\": \"she shall\",\n",
    "\"she'll've\": \"she shall have\",\n",
    "\"she's\": \"she has\",\n",
    "\"should've\": \"should have\",\n",
    "\"shouldn't\": \"should not\",\n",
    "\"shouldn't've\": \"should not have\",\n",
    "\"so've\": \"so have\",\n",
    "\"so's\": \"so as\",\n",
    "\"that'd\": \"that would\",\n",
    "\"that'd've\": \"that would have\",\n",
    "\"that's\": \"that has\",\n",
    "\"there'd\": \"there had\",\n",
    "\"there'd've\": \"there would have\",\n",
    "\"there's\": \"there has\",\n",
    "\"they'd\": \"they had\",\n",
    "\"they'd've\": \"they would have\",\n",
    "\"they'll\": \"they shall\",\n",
    "\"they'll've\": \"they shall have\",\n",
    "\"they're\": \"they are\",\n",
    "\"they've\": \"they have\",\n",
    "\"to've\": \"to have\",\n",
    "\"wasn't\": \"was not\",\n",
    "\"we'd\": \"we had\",\n",
    "\"we'd've\": \"we would have\",\n",
    "\"we'll\": \"we will\",\n",
    "\"we'll've\": \"we will have\",\n",
    "\"we're\": \"we are\",\n",
    "\"we've\": \"we have\",\n",
    "\"weren't\": \"were not\",\n",
    "\"what'll\": \"what shall\",\n",
    "\"what'll've\": \"what shall have\",\n",
    "\"what're\": \"what are\",\n",
    "\"what's\": \"what has\",\n",
    "\"what've\": \"what have\",\n",
    "\"when's\": \"when has\",\n",
    "\"when've\": \"when have\",\n",
    "\"where'd\": \"where did\",\n",
    "\"where's\": \"where has\",\n",
    "\"where've\": \"where have\",\n",
    "\"who'll\": \"who shall\",\n",
    "\"who'll've\": \"who shall have\",\n",
    "\"who's\": \"who has\",\n",
    "\"who've\": \"who have\",\n",
    "\"why's\": \"why has\",\n",
    "\"why've\": \"why have\",\n",
    "\"will've\": \"will have\",\n",
    "\"won't\": \"will not\",\n",
    "\"won't've\": \"will not have\",\n",
    "\"would've\": \"would have\",\n",
    "\"wouldn't\": \"would not\",\n",
    "\"wouldn't've\": \"would not have\",\n",
    "\"y'all\": \"you all\",\n",
    "\"y'all'd\": \"you all would\",\n",
    "\"y'all'd've\": \"you all would have\",\n",
    "\"y'all're\": \"you all are\",\n",
    "\"y'all've\": \"you all have\",\n",
    "\"you'd\": \"you had\",\n",
    "\"you'd've\": \"you would have\",\n",
    "\"you'll\": \"you shall\",\n",
    "\"you'll've\": \"you shall have\",\n",
    "\"you're\": \"you are\",\n",
    "\"you've\": \"you have\"\n",
    "}\n",
    "\n",
    "def replace_words(d, contractions):\n",
    "    for key, value in contractions.items():\n",
    "        d = d.replace(key, value)\n",
    "    return d"
   ]
  },
  {
   "cell_type": "code",
   "execution_count": 8,
   "id": "65281d90-6621-4b32-bbf6-b48abc2c913b",
   "metadata": {},
   "outputs": [],
   "source": [
    "def pre_processing(documents):\n",
    "    stop = stopwords.words(\"english\")\n",
    "    snowball_stemmer = SnowballStemmer(\"english\")\n",
    "    lmtzr = WordNetLemmatizer()\n",
    "    remove = [\"Written\", \"MAL\", \"Rewrite\"]+[\"'s\"]+[\"``\",'\"',\"'\",\"“\",\"''\"]\n",
    "\n",
    "    \n",
    "    # removing contraction + Normalization\n",
    "    document_tmp = replace_words(documents.lower(), contractions)\n",
    "    # remove number ( ordinal number too) \n",
    "    document_tmp = re.sub(r'[0-9]+(?:st|nd|rd|th)', '', document_tmp)\n",
    "    # remove dash \"—\"\n",
    "    document_tmp = document_tmp.replace('—',' ')\n",
    "    # Tokenizing + Normalization\n",
    "    document_tmp =  word_tokenize(document_tmp) \n",
    "    # removing stopwords\n",
    "    document_tmp = [ word for word in document_tmp if word not in stop]\n",
    "    # removing punctuation\n",
    "    document_tmp = [ word for word in document_tmp if word not in string.punctuation]\n",
    "    # removing \"Written MAL Rewrite\" and other stuff\n",
    "    document_tmp = [ word for word in document_tmp if word not in remove]\n",
    "    # lemmatize\n",
    "    document_tmp = [ lmtzr.lemmatize(word) for word in document_tmp]\n",
    "    # stemming \n",
    "    document_tmp = [ snowball_stemmer.stem(word) for word in document_tmp]\n",
    "\n",
    "    \n",
    "    return document_tmp"
   ]
  },
  {
   "cell_type": "markdown",
   "id": "1bf7df27-6f94-48c8-b4f7-3ef0c4ae4724",
   "metadata": {},
   "source": [
    "- documents_clean: is a list of list of the documents cleaned. Each list contain the tokenize cleaning document text."
   ]
  },
  {
   "cell_type": "code",
   "execution_count": 9,
   "id": "a028b058-9f22-4ea3-87e6-ec58fddcb9ca",
   "metadata": {},
   "outputs": [],
   "source": [
    "# cleaning the documents\n",
    "documents_clean = []\n",
    "for d in documents:\n",
    "    documents_clean.append(pre_processing(d))"
   ]
  },
  {
   "cell_type": "markdown",
   "id": "2d015970-671c-4d90-a4b6-6232b6093e6a",
   "metadata": {},
   "source": [
    "Let's view how a document is processed:"
   ]
  },
  {
   "cell_type": "code",
   "execution_count": 10,
   "id": "1fb606de-f5e8-4b92-9356-46aef73d3b87",
   "metadata": {},
   "outputs": [
    {
     "data": {
      "text/plain": [
       "['horrif',\n",
       " 'alchemi',\n",
       " 'experi',\n",
       " 'go',\n",
       " 'wrong',\n",
       " 'elric',\n",
       " 'household',\n",
       " 'brother',\n",
       " 'edward',\n",
       " 'alphons']"
      ]
     },
     "execution_count": 10,
     "metadata": {},
     "output_type": "execute_result"
    }
   ],
   "source": [
    "documents_clean[0][:10]"
   ]
  },
  {
   "cell_type": "markdown",
   "id": "bfc32eac-77c4-4e8e-a635-daa8bbb9ee56",
   "metadata": {},
   "source": [
    "# Creating vocabulary"
   ]
  },
  {
   "cell_type": "code",
   "execution_count": 11,
   "id": "cad07d1f-2919-4b7b-b632-3e0823c49dab",
   "metadata": {},
   "outputs": [],
   "source": [
    "import itertools\n",
    "import numpy as np"
   ]
  },
  {
   "cell_type": "markdown",
   "id": "63e6aff5-25f4-466f-90f3-7488bf417b19",
   "metadata": {},
   "source": [
    "I will create a list of each unique word among the all documents"
   ]
  },
  {
   "cell_type": "code",
   "execution_count": 12,
   "id": "d318ef46-339d-4594-9197-05dc90ce1a56",
   "metadata": {},
   "outputs": [],
   "source": [
    "# the list of all words\n",
    "word_list = list(set(list(itertools.chain.from_iterable(documents_clean))))"
   ]
  },
  {
   "cell_type": "markdown",
   "id": "ce83f12b-ed4b-453e-8f49-548245d56acc",
   "metadata": {},
   "source": [
    "Creating a dictionary that maps each word to an integer"
   ]
  },
  {
   "cell_type": "code",
   "execution_count": 13,
   "id": "d94d5fd1-7a84-4278-bd05-7f48e30d0bc4",
   "metadata": {},
   "outputs": [],
   "source": [
    "vocabolary = dict(zip(word_list, range(len(word_list))))"
   ]
  },
  {
   "cell_type": "code",
   "execution_count": 14,
   "id": "a2da4690-0e16-4d33-acfb-e4953f4a960f",
   "metadata": {},
   "outputs": [
    {
     "name": "stdout",
     "output_type": "stream",
     "text": [
      "reliabl --> 0\n",
      "note --> 1\n",
      "prank --> 2\n",
      "qiao --> 3\n",
      "theft --> 4\n",
      "ill-assort --> 5\n",
      "plaster --> 6\n",
      "sight --> 7\n",
      "self-discoveri --> 8\n",
      "re-liv --> 9\n"
     ]
    }
   ],
   "source": [
    "# view the vocabolary\n",
    "count = 0\n",
    "for key, mapped_int in vocabolary.items():\n",
    "    count +=1\n",
    "    print(key,\"-->\",mapped_int)\n",
    "    if count == 10: break"
   ]
  },
  {
   "cell_type": "markdown",
   "id": "79e08568-f97c-47b1-8098-7754749c03a3",
   "metadata": {},
   "source": [
    "## Search Engine v1 Conjunctive query"
   ]
  },
  {
   "cell_type": "markdown",
   "id": "bf40d6c6-b30b-4d95-9a8e-6f08861766f6",
   "metadata": {},
   "source": [
    "For this type of search engine we need only to have a search engine based on the query appear or not in each documents. \n"
   ]
  },
  {
   "cell_type": "markdown",
   "id": "a28b4c70-122c-4aa5-891e-bbaebc781b17",
   "metadata": {},
   "source": [
    "* ### Prepare the mapped document"
   ]
  },
  {
   "cell_type": "markdown",
   "id": "dfb47079-c2de-4529-958a-ab02afd83c6d",
   "metadata": {},
   "source": [
    "To do this we will create an array of documents of each len(document_j) in which thare are converted the word into integer based on the vocabolary\n",
    "\n",
    "We will use numpy array for time optimitation."
   ]
  },
  {
   "cell_type": "code",
   "execution_count": 34,
   "id": "23e5b1dc-bd09-4c00-9aed-2911c22c03d8",
   "metadata": {},
   "outputs": [],
   "source": [
    "# function that map document text to integer\n",
    "\n",
    "def word_to_int(document, vocabolary):\n",
    "    int_doc = np.zeros(len(document), dtype = np.int64)\n",
    "    # iterating over the document that has len(d)<<len(vocabolary)\n",
    "    # change the value of the document, otherwise remain zero\n",
    "    for i, word in enumerate(document):\n",
    "        # vocabolary[word] is the mapping function that return an integer i.e the index\n",
    "        int_doc[i] = vocabolary[word]\n",
    "        \n",
    "    return np.sort(int_doc)"
   ]
  },
  {
   "cell_type": "markdown",
   "id": "4d8a4281-2912-49e5-ac45-c0214c0b8732",
   "metadata": {},
   "source": [
    "* documents_mapped: is a list of list that have the words mapped"
   ]
  },
  {
   "cell_type": "code",
   "execution_count": 39,
   "id": "6b3b8b9e-cb82-4d85-a3ee-91eba7c05dfe",
   "metadata": {},
   "outputs": [],
   "source": [
    "documents_mapped = []\n",
    "for d in documents_clean:\n",
    "    documents_mapped.append(word_to_int(d,vocabolary))"
   ]
  },
  {
   "cell_type": "code",
   "execution_count": 62,
   "id": "fa0acee4-4694-43b1-907c-02c03e8b80e4",
   "metadata": {},
   "outputs": [
    {
     "data": {
      "text/plain": [
       "array([  118,   356,   437,   496,  1031,  1031,  1353,  1515,  1602,\n",
       "        1730,  1796,  2040,  2049,  2122,  2129,  2211,  2230,  2233,\n",
       "        2307,  2716,  2813,  2886,  3080,  3116,  3395,  3414,  3581,\n",
       "        3754,  4352,  4739,  4772,  5031,  5031,  5031,  5031,  5554,\n",
       "        5629,  5690,  5780,  6040,  6165,  6190,  6794,  6940,  7043,\n",
       "        7120,  7368,  7372,  7824,  7882,  7964,  8258,  8468,  8483,\n",
       "        8665,  8862,  8862,  8932,  9132,  9361,  9511, 10137, 10293,\n",
       "       10313, 10582, 10734, 10734, 10734, 10742, 10890, 10905, 11053,\n",
       "       11119, 11119, 11131, 11290, 11368, 11471, 11624, 11817, 11905,\n",
       "       11980, 11980, 12290, 12569, 12590, 12971, 13063, 13164, 13176,\n",
       "       13191, 13569, 13655, 13782, 13931, 14183, 14442, 14599, 14791,\n",
       "       14920, 15212, 15212, 15237, 15237, 15413, 15518, 15665, 15665,\n",
       "       15665, 15725, 15832, 15834, 16056], dtype=int64)"
      ]
     },
     "execution_count": 62,
     "metadata": {},
     "output_type": "execute_result"
    }
   ],
   "source": [
    "documents_mapped[0]"
   ]
  },
  {
   "cell_type": "markdown",
   "id": "2bb014c6-1456-4524-aafb-73b8b02285c2",
   "metadata": {},
   "source": [
    "* ### Inverted Index v1"
   ]
  },
  {
   "cell_type": "code",
   "execution_count": 42,
   "id": "6cc8d811-ed80-40e8-bcf5-7186b4bd0888",
   "metadata": {},
   "outputs": [],
   "source": [
    "from collections import defaultdict  "
   ]
  },
  {
   "cell_type": "code",
   "execution_count": 43,
   "id": "871ca101-62d6-409a-9dbd-278b31ded98d",
   "metadata": {},
   "outputs": [],
   "source": [
    "Inverted_index = defaultdict(list)"
   ]
  },
  {
   "cell_type": "markdown",
   "id": "b97f5415-0e3c-4771-b458-9a04c79eea53",
   "metadata": {},
   "source": [
    "To compute the Inverted Index we iterating over each document. Every time we encounter a word (that is now a integer) we insert in the dictionary the id of the documents, which is the row index in documents_mapped or in the dataframe."
   ]
  },
  {
   "cell_type": "code",
   "execution_count": 44,
   "id": "ae9acdc8-8fd4-44a8-bfdc-0a5b06c908dc",
   "metadata": {},
   "outputs": [],
   "source": [
    "for i,d in enumerate(documents_mapped):\n",
    "    for word in set(d):\n",
    "        Inverted_index[word].append(i)"
   ]
  },
  {
   "cell_type": "markdown",
   "id": "71f2b3f4-ae19-4dba-8eda-acd9a6fa99e3",
   "metadata": {},
   "source": [
    "Saving the Inverted Index in memory"
   ]
  },
  {
   "cell_type": "code",
   "execution_count": 394,
   "id": "4859da2e-2f6c-4fa0-9d0e-862a4c548234",
   "metadata": {},
   "outputs": [],
   "source": [
    "import json\n",
    "\n",
    "file = open(\"Inverted_index.json\", \"w\")\n",
    "json.dump(Inverted_index, file)\n",
    "file.close()"
   ]
  },
  {
   "cell_type": "markdown",
   "id": "2c3282bc-8595-400b-acde-1f3ecb13c73e",
   "metadata": {},
   "source": [
    "* ### Searching"
   ]
  },
  {
   "cell_type": "code",
   "execution_count": 46,
   "id": "de715e2b-272c-433f-9c3b-a4ad59dadeb8",
   "metadata": {},
   "outputs": [
    {
     "name": "stdin",
     "output_type": "stream",
     "text": [
      " alchemist alchemy\n"
     ]
    }
   ],
   "source": [
    "# input query\n",
    "query_text = input()"
   ]
  },
  {
   "cell_type": "code",
   "execution_count": 47,
   "id": "8e05cfd6-66f6-47c1-bba3-4c6edc21e81b",
   "metadata": {},
   "outputs": [],
   "source": [
    "# pre-processing the query\n",
    "query_clean = pre_processing(query_text)\n",
    "query_int = word_to_int(query_clean, vocabolary)"
   ]
  },
  {
   "cell_type": "code",
   "execution_count": 48,
   "id": "3143b0f2-01d4-4d8b-99be-6b2c8f86bd37",
   "metadata": {},
   "outputs": [
    {
     "data": {
      "text/plain": [
       "array([ 4772, 11119], dtype=int64)"
      ]
     },
     "execution_count": 48,
     "metadata": {},
     "output_type": "execute_result"
    }
   ],
   "source": [
    "query_int"
   ]
  },
  {
   "cell_type": "markdown",
   "id": "b651b2af-2317-47b0-9ea0-56eb8bcea969",
   "metadata": {},
   "source": [
    "We create a list named index that store a list of list, each one is the output from the inverted_index corrisponding to a query element. Than we intersect for obtain the documents that match ALL the query elements."
   ]
  },
  {
   "cell_type": "code",
   "execution_count": 54,
   "id": "ea21b145-f0b5-453c-b563-8fe0eace0b1d",
   "metadata": {},
   "outputs": [
    {
     "name": "stdout",
     "output_type": "stream",
     "text": [
      "[0, 393, 525, 167]\n"
     ]
    }
   ],
   "source": [
    "index = []\n",
    "for query in query_int:\n",
    "    index.append(set(Inverted_index[query]))\n",
    "\n",
    "index = list(index[0].intersection(*index))\n",
    "print(index)"
   ]
  },
  {
   "cell_type": "code",
   "execution_count": 55,
   "id": "545f7995-6e28-4690-9186-561dd9bfed98",
   "metadata": {},
   "outputs": [
    {
     "data": {
      "text/html": [
       "<div>\n",
       "<style scoped>\n",
       "    .dataframe tbody tr th:only-of-type {\n",
       "        vertical-align: middle;\n",
       "    }\n",
       "\n",
       "    .dataframe tbody tr th {\n",
       "        vertical-align: top;\n",
       "    }\n",
       "\n",
       "    .dataframe thead th {\n",
       "        text-align: right;\n",
       "    }\n",
       "</style>\n",
       "<table border=\"1\" class=\"dataframe\">\n",
       "  <thead>\n",
       "    <tr style=\"text-align: right;\">\n",
       "      <th></th>\n",
       "      <th>animeTitle</th>\n",
       "      <th>animeDescription</th>\n",
       "      <th>animeUrl</th>\n",
       "    </tr>\n",
       "  </thead>\n",
       "  <tbody>\n",
       "    <tr>\n",
       "      <th>0</th>\n",
       "      <td>Fullmetal Alchemist: Brotherhood</td>\n",
       "      <td>After a horrific alchemy experiment goes wrong...</td>\n",
       "      <td>https://myanimelist.net/anime/5114/Fullmetal_A...</td>\n",
       "    </tr>\n",
       "    <tr>\n",
       "      <th>393</th>\n",
       "      <td>Fullmetal Alchemist</td>\n",
       "      <td>Edward Elric, a young, brilliant alchemist, ha...</td>\n",
       "      <td>https://myanimelist.net/anime/121/Fullmetal_Al...</td>\n",
       "    </tr>\n",
       "    <tr>\n",
       "      <th>525</th>\n",
       "      <td>Fullmetal Alchemist: Brotherhood Specials</td>\n",
       "      <td>Amazing secrets and startling facts are expose...</td>\n",
       "      <td>https://myanimelist.net/anime/6421/Fullmetal_A...</td>\n",
       "    </tr>\n",
       "    <tr>\n",
       "      <th>167</th>\n",
       "      <td>Baccano!</td>\n",
       "      <td>During the early 1930s in Chicago, the transco...</td>\n",
       "      <td>https://myanimelist.net/anime/2251/Baccano</td>\n",
       "    </tr>\n",
       "  </tbody>\n",
       "</table>\n",
       "</div>"
      ],
      "text/plain": [
       "                                    animeTitle  \\\n",
       "0             Fullmetal Alchemist: Brotherhood   \n",
       "393                        Fullmetal Alchemist   \n",
       "525  Fullmetal Alchemist: Brotherhood Specials   \n",
       "167                                   Baccano!   \n",
       "\n",
       "                                      animeDescription  \\\n",
       "0    After a horrific alchemy experiment goes wrong...   \n",
       "393  Edward Elric, a young, brilliant alchemist, ha...   \n",
       "525  Amazing secrets and startling facts are expose...   \n",
       "167  During the early 1930s in Chicago, the transco...   \n",
       "\n",
       "                                              animeUrl  \n",
       "0    https://myanimelist.net/anime/5114/Fullmetal_A...  \n",
       "393  https://myanimelist.net/anime/121/Fullmetal_Al...  \n",
       "525  https://myanimelist.net/anime/6421/Fullmetal_A...  \n",
       "167         https://myanimelist.net/anime/2251/Baccano  "
      ]
     },
     "execution_count": 55,
     "metadata": {},
     "output_type": "execute_result"
    }
   ],
   "source": [
    "df.iloc[index,:]"
   ]
  },
  {
   "cell_type": "markdown",
   "id": "bcde8113-3578-40f9-a5d9-42275a5023af",
   "metadata": {},
   "source": [
    "# Searching Engine v2 Ranking"
   ]
  },
  {
   "cell_type": "markdown",
   "id": "84f5eace-32ea-4400-9b1c-1d4c4213a438",
   "metadata": {},
   "source": [
    "Now we want for our Inverted_index two element:\n",
    "\n",
    "* $\\text{tf}_{i,j}$: occurancy of term $j$ in document $i$\n",
    "* $\\text{idf}_{j}$: Inverse Document Frequency of term $j$"
   ]
  },
  {
   "cell_type": "markdown",
   "id": "b3aa3a97-b75f-43b5-b39a-9074e22ef984",
   "metadata": {},
   "source": [
    "Creating the $\\text{tf}_{i,j}$ matrix:"
   ]
  },
  {
   "cell_type": "code",
   "execution_count": 76,
   "id": "4b6d7e7c-4089-42d1-be93-054397703aa5",
   "metadata": {},
   "outputs": [],
   "source": [
    "# document: the document in exam\n",
    "# n_words: total number of words in vocabolary\n",
    "\n",
    "def tfij(documents,n_words):\n",
    "    tf = np.zeros((len(documents), n_words), dtype = np.int64)\n",
    "    \n",
    "    for i,d in enumerate(documents):\n",
    "        for word in d:\n",
    "            tf[i][word] += 1\n",
    "        \n",
    "    return tf"
   ]
  },
  {
   "cell_type": "markdown",
   "id": "35c14d83-bfd8-47b1-8be5-f50beb47fd9d",
   "metadata": {},
   "source": [
    "Define:\n",
    "\n",
    "* n_words = total number of words in vocabolary\n",
    "* n = number of documents"
   ]
  },
  {
   "cell_type": "code",
   "execution_count": 79,
   "id": "2df21287-b188-4297-8094-fcba1e66980f",
   "metadata": {},
   "outputs": [],
   "source": [
    "# tf_ij\n",
    "\n",
    "n_words = len(vocabolary)\n",
    "n = len(documents)\n",
    "\n",
    "tf = tfij(documents_mapped, n_words)"
   ]
  },
  {
   "cell_type": "markdown",
   "id": "c4ca1673-d325-4061-b07a-ac1eb9ae3654",
   "metadata": {},
   "source": [
    "Creating the $\\text{idf}_{j}$ array:\n",
    "* I need the $n_j$: number of documents containing term j"
   ]
  },
  {
   "cell_type": "code",
   "execution_count": 80,
   "id": "a81dbd76-9ee6-471f-9136-a1f34a35c854",
   "metadata": {},
   "outputs": [],
   "source": [
    "nj = np.zeros(n_words, dtype = np.int64)\n",
    "\n",
    "for d in documents_mapped:\n",
    "    for word in set(d):\n",
    "        nj[word] += 1"
   ]
  },
  {
   "cell_type": "code",
   "execution_count": 81,
   "id": "2c96f439-fa25-42f4-a17d-27fdf58898e7",
   "metadata": {},
   "outputs": [],
   "source": [
    "# creating idf_j\n",
    "\n",
    "idf = np.zeros(n_words, dtype = np.float64)\n",
    "\n",
    "idf = np.log(n/nj) / np.log(n)\n",
    "    "
   ]
  },
  {
   "cell_type": "code",
   "execution_count": 84,
   "id": "ae6f24fd-05a3-44e8-953e-f3929ef91913",
   "metadata": {},
   "outputs": [],
   "source": [
    "tfIdf = np.multiply(tf,idf)"
   ]
  },
  {
   "cell_type": "code",
   "execution_count": 85,
   "id": "b62d990e-875b-4259-a4db-759cdc320cf5",
   "metadata": {},
   "outputs": [
    {
     "data": {
      "text/plain": [
       "array([[0., 0., 0., ..., 0., 0., 0.],\n",
       "       [0., 0., 0., ..., 0., 0., 0.],\n",
       "       [0., 0., 0., ..., 0., 0., 0.],\n",
       "       ...,\n",
       "       [0., 0., 0., ..., 0., 0., 0.],\n",
       "       [0., 0., 0., ..., 0., 0., 0.],\n",
       "       [0., 0., 0., ..., 0., 0., 0.]])"
      ]
     },
     "execution_count": 85,
     "metadata": {},
     "output_type": "execute_result"
    }
   ],
   "source": [
    "tfIdf"
   ]
  },
  {
   "cell_type": "markdown",
   "id": "97126690-caf1-4ab9-b1d2-8830593aa4fe",
   "metadata": {},
   "source": [
    "* ### Inverted indexi v2"
   ]
  },
  {
   "cell_type": "code",
   "execution_count": 42,
   "id": "bf717bc4-d645-4c30-bceb-5563a9ccde52",
   "metadata": {},
   "outputs": [],
   "source": [
    "from collections import defaultdict  "
   ]
  },
  {
   "cell_type": "code",
   "execution_count": 171,
   "id": "320fbce1-4a8c-4421-90c9-55d7b541a744",
   "metadata": {},
   "outputs": [],
   "source": [
    "Inverted_index = defaultdict(list)"
   ]
  },
  {
   "cell_type": "markdown",
   "id": "ccd1e876-00b4-4667-8d9c-97ae4126dc8a",
   "metadata": {},
   "source": [
    "To compute the Inverted Index we iterating over each document. Every time we encounter a word (that is now a integer) we insert in the dictionary the __tupla__ of _id_ of the documents and the _tfIdf_."
   ]
  },
  {
   "cell_type": "code",
   "execution_count": 172,
   "id": "fffbd38e-ab21-405d-ac34-9129956e6b0f",
   "metadata": {},
   "outputs": [],
   "source": [
    "for i,d in enumerate(documents_mapped):\n",
    "    for word in set(d):\n",
    "        Inverted_index[word].append((i,tfIdf[i,word]))"
   ]
  },
  {
   "cell_type": "markdown",
   "id": "8cf89239-e185-4cc8-98ef-861c27856db8",
   "metadata": {},
   "source": [
    "Saving the Inverted Index in memory"
   ]
  },
  {
   "cell_type": "code",
   "execution_count": 394,
   "id": "21dd4b0d-0feb-48c0-84f7-9a825b6d7575",
   "metadata": {},
   "outputs": [],
   "source": [
    "import json\n",
    "\n",
    "file = open(\"Inverted_index.json\", \"w\")\n",
    "json.dump(Inverted_index, file)\n",
    "file.close()"
   ]
  },
  {
   "cell_type": "markdown",
   "id": "25c0ed56-c4dc-483e-bd55-5b15db9a6d1b",
   "metadata": {},
   "source": [
    "* ### Searching"
   ]
  },
  {
   "cell_type": "code",
   "execution_count": 216,
   "id": "cf0edd28-7ddb-4caf-ae01-2b559fa5f1af",
   "metadata": {},
   "outputs": [
    {
     "name": "stdin",
     "output_type": "stream",
     "text": [
      " alchemist alchemy mother\n"
     ]
    }
   ],
   "source": [
    "# input query\n",
    "query_text = input()"
   ]
  },
  {
   "cell_type": "code",
   "execution_count": 217,
   "id": "85254e6f-4ae0-4873-8589-df6e79446cc6",
   "metadata": {},
   "outputs": [],
   "source": [
    "query_clean = pre_processing(query_text)\n",
    "query_int = word_to_int(query_clean, vocabolary)\n",
    "\n",
    "q_tf = np.zeros(n_words, dtype=np.int64)\n",
    "for value in query_int:\n",
    "    q_tf[value] += 1"
   ]
  },
  {
   "cell_type": "markdown",
   "id": "d689824f-847c-4e58-bafd-d539992cfd79",
   "metadata": {},
   "source": [
    "We define the cosine similarity as:\n",
    "$$\n",
    "\\begin{equation}\n",
    "\\cos(q,d^i) =  \\frac{\\sum_{j=1}^d q_j*d_{ij}}{||d^i||}\n",
    "\\end{equation}\n",
    "$$\n",
    "we elimate the $||d^i||$ because is equal to all the documents and I'm interested in ranking.\n",
    "$$\n",
    "\\begin{equation}\n",
    "score(q,d^i) =  \\cos(q,d^i)*||q||\n",
    "\\end{equation}\n",
    "$$\n",
    "Recall: $d^i = [\\text{tfIdf}_{i1}, \\text{tfIdf}_{i2}, \\ldots]$ "
   ]
  },
  {
   "cell_type": "code",
   "execution_count": 218,
   "id": "0d6585f6-698a-4df9-a3f5-c87fa9829933",
   "metadata": {},
   "outputs": [],
   "source": [
    "def score(q,d):\n",
    "    q_norm = np.linalg.norm(q)\n",
    "    d_norm = np.linalg.norm(d)\n",
    "    \n",
    "    score = np.dot(q,d)*(q_norm/d_norm)\n",
    "    return score"
   ]
  },
  {
   "cell_type": "code",
   "execution_count": 219,
   "id": "e71fe254-31e3-448e-bc1d-dd64352fac0b",
   "metadata": {},
   "outputs": [
    {
     "data": {
      "text/plain": [
       "array([ 4772, 11119, 13176], dtype=int64)"
      ]
     },
     "execution_count": 219,
     "metadata": {},
     "output_type": "execute_result"
    }
   ],
   "source": [
    "query_int"
   ]
  },
  {
   "cell_type": "markdown",
   "id": "af841b87-ad92-4efa-9282-f1a7c2a24383",
   "metadata": {},
   "source": [
    "Create the list of each match "
   ]
  },
  {
   "cell_type": "code",
   "execution_count": 220,
   "id": "28cee736-7b52-4bbf-9c45-d66bb7e4fc94",
   "metadata": {},
   "outputs": [],
   "source": [
    "match_list = []\n",
    "for query in query_int:\n",
    "    match_list.append(Inverted_index[query])"
   ]
  },
  {
   "cell_type": "code",
   "execution_count": 252,
   "id": "11454fff-ce36-4428-9864-c1bdca9e7894",
   "metadata": {},
   "outputs": [
    {
     "name": "stdout",
     "output_type": "stream",
     "text": [
      "miao\n"
     ]
    }
   ],
   "source": [
    "match = True\n",
    "pointer = np.zeros(len(query_int), dtype = np.int64)\n",
    "scores = []\n",
    "while(match):\n",
    "    # take the element in the pointer \n",
    "    idd = []\n",
    "    d_tfidf = []\n",
    "    for i in range(len(query_int)):\n",
    "        idd_tmp, d_tmp = match_list[i][pointer[i]]\n",
    "        idd.append(idd_tmp)\n",
    "        d_tfidf.append(d_tmp)\n",
    "    \n",
    "    if len(set(idd)) > 1: # they are not ugual\n",
    "        min_value = min(idd)\n",
    "        min_index = idd.index(min_value)\n",
    "        pointer[min_index] += 1\n",
    "        if pointer[min_index] > 40:\n",
    "            print(\"miao\")\n",
    "            match = False\n",
    "    else:\n",
    "        scores.append(score(d_tfidf,tfIdf[idd[0]],q_tf))\n",
    "        pointer += 1"
   ]
  },
  {
   "cell_type": "code",
   "execution_count": 253,
   "id": "28a5bf2d-0112-4627-9db8-e88207487dee",
   "metadata": {},
   "outputs": [
    {
     "data": {
      "text/plain": [
       "[0.5833176535311918, 1.0333026264161131]"
      ]
     },
     "execution_count": 253,
     "metadata": {},
     "output_type": "execute_result"
    }
   ],
   "source": [
    "scores"
   ]
  },
  {
   "cell_type": "code",
   "execution_count": 243,
   "id": "6e4d77c1-5ed5-4951-a79f-7a15dbbd45e1",
   "metadata": {},
   "outputs": [],
   "source": [
    "def score(d_match, d, q):\n",
    "    q_norm = np.linalg.norm(q)\n",
    "    d_norm = np.linalg.norm(d)\n",
    "    \n",
    "    score = sum(d_match)*(q_norm)/(d_norm)\n",
    "    return score"
   ]
  },
  {
   "cell_type": "code",
   "execution_count": 254,
   "id": "f4648bbd-a5c8-49db-a414-35a461f041ea",
   "metadata": {},
   "outputs": [],
   "source": [
    "import heapq as hp"
   ]
  },
  {
   "cell_type": "code",
   "execution_count": 255,
   "id": "d7f3e173-1753-4a6b-b258-1d2e3d076fef",
   "metadata": {},
   "outputs": [],
   "source": [
    "max_score = hp.nlargest(10, list(scores))\n",
    "index = []\n",
    "for i in max_score:\n",
    "    index.append(int(np.where(scores == i)[0]))"
   ]
  },
  {
   "cell_type": "code",
   "execution_count": 256,
   "id": "00ad549f-da46-43fd-9570-4db126b48ade",
   "metadata": {},
   "outputs": [
    {
     "data": {
      "text/plain": [
       "[1, 0]"
      ]
     },
     "execution_count": 256,
     "metadata": {},
     "output_type": "execute_result"
    }
   ],
   "source": [
    "index"
   ]
  },
  {
   "cell_type": "code",
   "execution_count": 257,
   "id": "c3f240b7-da88-4e33-8204-0ead8f031a2c",
   "metadata": {},
   "outputs": [],
   "source": [
    "topk = df.iloc[index].copy()\n",
    "topk[\"scores\"] = max_score"
   ]
  },
  {
   "cell_type": "code",
   "execution_count": 258,
   "id": "2b54d274-7c7f-4d27-aa19-e11f80cb2589",
   "metadata": {},
   "outputs": [
    {
     "data": {
      "text/html": [
       "<div>\n",
       "<style scoped>\n",
       "    .dataframe tbody tr th:only-of-type {\n",
       "        vertical-align: middle;\n",
       "    }\n",
       "\n",
       "    .dataframe tbody tr th {\n",
       "        vertical-align: top;\n",
       "    }\n",
       "\n",
       "    .dataframe thead th {\n",
       "        text-align: right;\n",
       "    }\n",
       "</style>\n",
       "<table border=\"1\" class=\"dataframe\">\n",
       "  <thead>\n",
       "    <tr style=\"text-align: right;\">\n",
       "      <th></th>\n",
       "      <th>animeTitle</th>\n",
       "      <th>animeDescription</th>\n",
       "      <th>animeUrl</th>\n",
       "      <th>scores</th>\n",
       "    </tr>\n",
       "  </thead>\n",
       "  <tbody>\n",
       "    <tr>\n",
       "      <th>1</th>\n",
       "      <td>Gintama: The Final</td>\n",
       "      <td>New Gintama movie.</td>\n",
       "      <td>https://myanimelist.net/anime/39486/Gintama__T...</td>\n",
       "      <td>1.033303</td>\n",
       "    </tr>\n",
       "    <tr>\n",
       "      <th>0</th>\n",
       "      <td>Fullmetal Alchemist: Brotherhood</td>\n",
       "      <td>After a horrific alchemy experiment goes wrong...</td>\n",
       "      <td>https://myanimelist.net/anime/5114/Fullmetal_A...</td>\n",
       "      <td>0.583318</td>\n",
       "    </tr>\n",
       "  </tbody>\n",
       "</table>\n",
       "</div>"
      ],
      "text/plain": [
       "                         animeTitle  \\\n",
       "1                Gintama: The Final   \n",
       "0  Fullmetal Alchemist: Brotherhood   \n",
       "\n",
       "                                    animeDescription  \\\n",
       "1                                 New Gintama movie.   \n",
       "0  After a horrific alchemy experiment goes wrong...   \n",
       "\n",
       "                                            animeUrl    scores  \n",
       "1  https://myanimelist.net/anime/39486/Gintama__T...  1.033303  \n",
       "0  https://myanimelist.net/anime/5114/Fullmetal_A...  0.583318  "
      ]
     },
     "execution_count": 258,
     "metadata": {},
     "output_type": "execute_result"
    }
   ],
   "source": [
    "topk"
   ]
  },
  {
   "cell_type": "code",
   "execution_count": null,
   "id": "2210adfa-73aa-471c-bcbd-3c4574a3dedd",
   "metadata": {},
   "outputs": [],
   "source": []
  },
  {
   "cell_type": "code",
   "execution_count": null,
   "id": "eaec0399-e0f0-4d9c-87a6-b0d9e194d658",
   "metadata": {},
   "outputs": [],
   "source": []
  }
 ],
 "metadata": {
  "kernelspec": {
   "display_name": "Python 3 (ipykernel)",
   "language": "python",
   "name": "python3"
  },
  "language_info": {
   "codemirror_mode": {
    "name": "ipython",
    "version": 3
   },
   "file_extension": ".py",
   "mimetype": "text/x-python",
   "name": "python",
   "nbconvert_exporter": "python",
   "pygments_lexer": "ipython3",
   "version": "3.8.8"
  }
 },
 "nbformat": 4,
 "nbformat_minor": 5
}
