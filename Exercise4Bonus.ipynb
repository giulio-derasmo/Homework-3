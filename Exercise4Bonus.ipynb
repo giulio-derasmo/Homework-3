{
 "cells": [
  {
   "cell_type": "markdown",
   "id": "a1ac1794-690b-439a-8b11-707599363e05",
   "metadata": {},
   "source": [
    "# [EX4]"
   ]
  },
  {
   "cell_type": "code",
   "execution_count": 1,
   "id": "40349abd-4845-444c-b538-45200b8d42f0",
   "metadata": {},
   "outputs": [],
   "source": [
    "import requests\n",
    "from tqdm import tqdm\n",
    "from bs4 import BeautifulSoup\n",
    "import pandas as pd\n",
    "from datetime import datetime\n",
    "import os\n",
    "import re\n",
    "from natsort import natsorted"
   ]
  },
  {
   "cell_type": "markdown",
   "id": "8572c131-1134-4bec-b2a7-c65626aef3f9",
   "metadata": {},
   "source": [
    "The reviews of each anime are under the __./reviews__ site"
   ]
  },
  {
   "cell_type": "code",
   "execution_count": 77,
   "id": "1d41f4ff-648a-4a99-b2b7-94f911146f5a",
   "metadata": {},
   "outputs": [
    {
     "name": "stdout",
     "output_type": "stream",
     "text": [
      "['https://myanimelist.net/anime/5114/Fullmetal_Alchemist__Brotherhood/reviews', 'https://myanimelist.net/anime/28977/Gintama°/reviews', 'https://myanimelist.net/anime/38524/Shingeki_no_Kyojin_Season_3_Part_2/reviews', 'https://myanimelist.net/anime/9253/Steins_Gate/reviews', 'https://myanimelist.net/anime/42938/Fruits_Basket__The_Final/reviews', 'https://myanimelist.net/anime/9969/Gintama/reviews', 'https://myanimelist.net/anime/11061/Hunter_x_Hunter_2011/reviews', 'https://myanimelist.net/anime/820/Ginga_Eiyuu_Densetsu/reviews', 'https://myanimelist.net/anime/15417/Gintama__Enchousen/reviews', 'https://myanimelist.net/anime/39486/Gintama__The_Final/reviews', 'https://myanimelist.net/anime/34096/Gintama/reviews', 'https://myanimelist.net/anime/35180/3-gatsu_no_Lion_2nd_Season/reviews', 'https://myanimelist.net/anime/28851/Koe_no_Katachi/reviews', 'https://myanimelist.net/anime/4181/Clannad__After_Story/reviews', 'https://myanimelist.net/anime/918/Gintama/reviews', 'https://myanimelist.net/anime/15335/Gintama_Movie_2__Kanketsu-hen_-_Yorozuya_yo_Eien_Nare/reviews', 'https://myanimelist.net/anime/37987/Violet_Evergarden_Movie/reviews', 'https://myanimelist.net/anime/35247/Owarimonogatari_2nd_Season/reviews', 'https://myanimelist.net/anime/40028/Shingeki_no_Kyojin__The_Final_Season/reviews', 'https://myanimelist.net/anime/2904/Code_Geass__Hangyaku_no_Lelouch_R2/reviews', 'https://myanimelist.net/anime/32281/Kimi_no_Na_wa/reviews', 'https://myanimelist.net/anime/37491/Gintama__Shirogane_no_Tamashii-hen_-_Kouhan-sen/reviews', 'https://myanimelist.net/anime/44074/Shiguang_Dailiren/reviews', 'https://myanimelist.net/anime/37510/Mob_Psycho_100_II/reviews', 'https://myanimelist.net/anime/36838/Gintama__Shirogane_no_Tamashii-hen/reviews', 'https://myanimelist.net/anime/32935/Haikyuu__Karasuno_Koukou_vs_Shiratorizawa_Gakuen_Koukou/reviews', 'https://myanimelist.net/anime/31758/Kizumonogatari_III__Reiketsu-hen/reviews', 'https://myanimelist.net/anime/19/Monster/reviews', 'https://myanimelist.net/anime/46102/Odd_Taxi/reviews', 'https://myanimelist.net/anime/199/Sen_to_Chihiro_no_Kamikakushi/reviews', 'https://myanimelist.net/anime/17074/Monogatari_Series__Second_Season/reviews']\n"
     ]
    }
   ],
   "source": [
    "review = []\n",
    "\n",
    "url_anime = []\n",
    "with open(\"./anime_url.txt\", \"r\",  encoding='utf-8') as f:\n",
    "    for i,line in enumerate(f):\n",
    "        url = line.split(\"\\n\")[0]\n",
    "        url_anime.append(url+\"/reviews\")\n",
    "        if i == 30:\n",
    "            break\n",
    "            \n",
    "print(url_anime)\n"
   ]
  },
  {
   "cell_type": "markdown",
   "id": "ef7a62fe-9b73-4b14-a190-9b4ee5c547a2",
   "metadata": {},
   "source": [
    "Creating the html of each review page"
   ]
  },
  {
   "cell_type": "code",
   "execution_count": 80,
   "id": "e970175d-e487-493b-a63b-bd325c84c73a",
   "metadata": {},
   "outputs": [],
   "source": [
    "for i,url in enumerate(url_anime):\n",
    "    response = requests.get(url)\n",
    "    if response.status_code == 200:\n",
    "        filename = r\"./Anime_reviews\"+\"/anime_\"+str(i+1)+\".html\"\n",
    "        with open(filename,'w', encoding='utf-8') as f:\n",
    "            f.write(response.text)\n",
    "    "
   ]
  },
  {
   "cell_type": "markdown",
   "id": "11e425ad-ef66-455d-97b1-e529092f09d6",
   "metadata": {},
   "source": [
    "Grabbing the first 5 reviews:"
   ]
  },
  {
   "cell_type": "code",
   "execution_count": 54,
   "id": "1414f477-14ce-49ac-a18f-971aade1b501",
   "metadata": {},
   "outputs": [
    {
     "name": "stdout",
     "output_type": "stream",
     "text": [
      "ITEM:  \n",
      "\n",
      "                          \n",
      "    First of all, I have seen the original FMA and although it was very popular and original, the pacing and conclusion did not sit too well with me. Brotherhood is meant to be a remake of the original, this time sticking to the manga all the way through, but there were people who thought it would spoil the franchise. That myth should be dispelled, as there's only one word to describe this series - EPIC.\n",
      "ITEM:  \n",
      "\n",
      "                          \n",
      "    Fullmetal Alchemist: Brotherhood gets an immense amount of praise in the MAL community, is the #1 ranked show and is constantly referred to as a masterpiece and the greatest show ever created. I've seen many fans preach about how \"it lives up to the hype\" and \"can never receive too much praise\". Now this is just the opinion of one guy. I'm certainly not the law of the land or anything. However, I personally feel as though calling FMA:B a masterpiece and the champion of all shows is a bit of a stretch. That's not to say that I didn't enjoy it or that it\n",
      "\n",
      "          \n",
      "ITEM:  \n",
      "\n",
      "                          \n",
      "    Adaptations have long been a thorn in the side of anime viewers, but not because they are inherently bad. No, the main problem has been that many studios have regarded the original work almost as an afterthought, and there are a number of shows that could have been wonderful if the writers had simply stuck to the original story.\n",
      "ITEM:  \n",
      "\n",
      "                          \n",
      "    Overview:\n"
     ]
    }
   ],
   "source": [
    "html = r\"./Anime_reviews/anime_1.html\"\n",
    "\n",
    "with open(html, \"r\",  encoding='utf-8') as fp:\n",
    "    soup = BeautifulSoup(fp, \"html.parser\")\n",
    "    \n",
    "anime_reviews = []\n",
    "\n",
    "for i,tag in enumerate(soup.find_all(\"div\" , attrs = {\"class\": \"borderDark\", \"style\": \"padding: 4px 0;\"})):\n",
    "    inner = tag.find(\"div\", attrs = {\"style\": \"float: left; display: none; margin: 0 10px 10px 0\"})\n",
    "    for item in inner.next_siblings:\n",
    "        print(\"ITEM: \", item)\n",
    "        break\n",
    "    if i == 5:\n",
    "        break"
   ]
  },
  {
   "cell_type": "code",
   "execution_count": 202,
   "id": "f61121c1-a31c-4b71-b9c4-5b7156808444",
   "metadata": {},
   "outputs": [
    {
     "name": "stdout",
     "output_type": "stream",
     "text": [
      "[[\"First of all, I have seen the original FMA and although it was very popular and original, the pacing and conclusion did not sit too well with me. Brotherhood is meant to be a remake of the original, this time sticking to the manga all the way through, but there were people who thought it would spoil the franchise. That myth should be dispelled, as there's only one word to describe this series - EPIC.\"], ['Fullmetal Alchemist: Brotherhood gets an immense amount of praise in the MAL community, is the #1 ranked show and is constantly referred to as a masterpiece and the greatest show ever created. I\\'ve seen many fans preach about how \"it lives up to the hype\" and \"can never receive too much praise\". Now this is just the opinion of one guy. I\\'m certainly not the law of the land or anything. However, I personally feel as though calling FMA:B a masterpiece and the champion of all shows is a bit of a stretch. That\\'s not to say that I didn\\'t enjoy it or that it'], ['Adaptations have long been a thorn in the side of anime viewers, but not because they are inherently bad. No, the main problem has been that many studios have regarded the original work almost as an afterthought, and there are a number of shows that could have been wonderful if the writers had simply stuck to the original story.'], ['Overview:FMA Brotherhood is an anime that needs no introduction. This is the highest rated anime on all of MAL. This is the anime that the current generation of anime fans holds above all others as the greatest single anime EVER made! In the following paragraphs, I will be reviewing this legendary series and discussing whether or not it truly deserves this title. SPOILERS for both Brotherhood and 2003 FMA!!!! Plot: The plot takes place in the'], [\"Since I couldn't find any legitimate objective analysis in any of these fanboy reviews, I decided put my own review:Here's why FMA:B and it's Manga counterpart don't work: It's just a disjointed piece of art. The initial premise of the narrative: two young siblings that horrifically lose their mother and parts of themselves is incredibly dark and powerfully poignant. Their journey to find the philosophers stone is one that's objectively adventurous but the endpoint is still\"]]\n",
      "['Fullmetal Alchemist: Brotherhood', [[\"First of all, I have seen the original FMA and although it was very popular and original, the pacing and conclusion did not sit too well with me. Brotherhood is meant to be a remake of the original, this time sticking to the manga all the way through, but there were people who thought it would spoil the franchise. That myth should be dispelled, as there's only one word to describe this series - EPIC.\"], ['Fullmetal Alchemist: Brotherhood gets an immense amount of praise in the MAL community, is the #1 ranked show and is constantly referred to as a masterpiece and the greatest show ever created. I\\'ve seen many fans preach about how \"it lives up to the hype\" and \"can never receive too much praise\". Now this is just the opinion of one guy. I\\'m certainly not the law of the land or anything. However, I personally feel as though calling FMA:B a masterpiece and the champion of all shows is a bit of a stretch. That\\'s not to say that I didn\\'t enjoy it or that it'], ['Adaptations have long been a thorn in the side of anime viewers, but not because they are inherently bad. No, the main problem has been that many studios have regarded the original work almost as an afterthought, and there are a number of shows that could have been wonderful if the writers had simply stuck to the original story.'], ['Overview:FMA Brotherhood is an anime that needs no introduction. This is the highest rated anime on all of MAL. This is the anime that the current generation of anime fans holds above all others as the greatest single anime EVER made! In the following paragraphs, I will be reviewing this legendary series and discussing whether or not it truly deserves this title. SPOILERS for both Brotherhood and 2003 FMA!!!! Plot: The plot takes place in the'], [\"Since I couldn't find any legitimate objective analysis in any of these fanboy reviews, I decided put my own review:Here's why FMA:B and it's Manga counterpart don't work: It's just a disjointed piece of art. The initial premise of the narrative: two young siblings that horrifically lose their mother and parts of themselves is incredibly dark and powerfully poignant. Their journey to find the philosophers stone is one that's objectively adventurous but the endpoint is still\"]]]\n"
     ]
    }
   ],
   "source": [
    "folder = r\"./Anime_reviews/\"\n",
    "\n",
    "attrs = [\"animeTitle\", \"animeReviews\"]\n",
    "for anime in natsorted(os.listdir(folder)):\n",
    "    anime_info = []\n",
    "    with open(folder+anime, \"r\",  encoding='utf-8') as fp:\n",
    "        soup = BeautifulSoup(fp, \"html.parser\")\n",
    "    \n",
    "    title = soup.find(\"h1\", attrs = {\"class\": \"title-name h1_bold_none\"}).string\n",
    "    anime_info.append(title)\n",
    "    \n",
    "    anime_reviews = soup.find_all(\"div\", attrs = {\"class\": \"borderDark\"})\n",
    "    if len(anime_reviews) >= 5:\n",
    "        anime_reviews = anime_reviews[:5]\n",
    "    \n",
    "    reviews_list = []\n",
    "    for rev in anime_reviews:\n",
    "        text1 = rev.select('div.spaceit.textReadability.word-break.pt8')[0].contents[2].strip()\n",
    "        l1 = len(text1.split())\n",
    "        # 50 words are at least two row of a text (3 row are at least 77)\n",
    "        # counting using line in MyAnimeList space text\n",
    "        if not l1 >= 50:\n",
    "            try:\n",
    "                text2 = rev.select('div.spaceit.textReadability.word-break.pt8')[0].contents[3].text.strip()\n",
    "                maxlen = 77-l1\n",
    "                text1 = text1 + \" \".join(text2.split()[:maxlen])\n",
    "            except:\n",
    "                text1 = text1\n",
    "        reviews_list.append([text1])\n",
    "    print(reviews_list)\n",
    "    anime_info.append(reviews_list)\n",
    "    print(anime_info)\n",
    "    break\n",
    "    # Creating the DataFrame\n",
    "    df = pd.DataFrame([anime_info], columns = attrs)\n",
    "    # Creating the tsv file, take the anime number (the id)\n",
    "    name = re.sub(\".html\",\"\",anime)\n",
    "    df.to_csv(\"./tsv_review_anime/\"+name+\".tsv\", index = False, sep = \"\\t\")"
   ]
  },
  {
   "cell_type": "code",
   "execution_count": 214,
   "id": "59b676df-cb01-48c9-9190-990fc51890df",
   "metadata": {},
   "outputs": [
    {
     "name": "stdout",
     "output_type": "stream",
     "text": [
      "[[\"First of all, I have seen the original FMA and although it was very popular and original, the pacing and conclusion did not sit too well with me. Brotherhood is meant to be a remake of the original, this time sticking to the manga all the way through, but there were people who thought it would spoil the franchise. That myth should be dispelled, as there's only one word to describe this series - EPIC.\"], ['Fullmetal Alchemist: Brotherhood gets an immense amount of praise in the MAL community, is the #1 ranked show and is constantly referred to as a masterpiece and the greatest show ever created. I\\'ve seen many fans preach about how \"it lives up to the hype\" and \"can never receive too much praise\". Now this is just the opinion of one guy. I\\'m certainly not the law of the land or anything. However, I personally feel as though calling FMA:B a masterpiece and the champion of all shows is a bit of a stretch. That\\'s not to say that I didn\\'t enjoy it or that it'], ['Adaptations have long been a thorn in the side of anime viewers, but not because they are inherently bad. No, the main problem has been that many studios have regarded the original work almost as an afterthought, and there are a number of shows that could have been wonderful if the writers had simply stuck to the original story.'], ['Overview:FMA Brotherhood is an anime that needs no introduction. This is the highest rated anime on all of MAL. This is the anime that the current generation of anime fans holds above all others as the greatest single anime EVER made! In the following paragraphs, I will be reviewing this legendary series and discussing whether or not it truly deserves this title. SPOILERS for both Brotherhood and 2003 FMA!!!! Plot: The plot takes place in the'], [\"Since I couldn't find any legitimate objective analysis in any of these fanboy reviews, I decided put my own review:Here's why FMA:B and it's Manga counterpart don't work: It's just a disjointed piece of art. The initial premise of the narrative: two young siblings that horrifically lose their mother and parts of themselves is incredibly dark and powerfully poignant. Their journey to find the philosophers stone is one that's objectively adventurous but the endpoint is still\"]]\n"
     ]
    }
   ],
   "source": [
    "for tx in txt:\n",
    "    print(tx)"
   ]
  },
  {
   "cell_type": "code",
   "execution_count": null,
   "id": "b3624c29-1563-44ea-8dad-b5a35f7e3533",
   "metadata": {},
   "outputs": [],
   "source": []
  }
 ],
 "metadata": {
  "kernelspec": {
   "display_name": "Python 3 (ipykernel)",
   "language": "python",
   "name": "python3"
  },
  "language_info": {
   "codemirror_mode": {
    "name": "ipython",
    "version": 3
   },
   "file_extension": ".py",
   "mimetype": "text/x-python",
   "name": "python",
   "nbconvert_exporter": "python",
   "pygments_lexer": "ipython3",
   "version": "3.8.8"
  }
 },
 "nbformat": 4,
 "nbformat_minor": 5
}
