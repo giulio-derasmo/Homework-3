{
 "cells": [
  {
   "cell_type": "markdown",
   "id": "03f13a65-a36a-41d9-b016-b8b528838500",
   "metadata": {},
   "source": [
    "# Web Scrabbing"
   ]
  },
  {
   "cell_type": "code",
   "execution_count": 2,
   "id": "dd50be05",
   "metadata": {},
   "outputs": [],
   "source": [
    "import requests\n",
    "from bs4 import BeautifulSoup\n",
    "from tqdm import tqdm"
   ]
  },
  {
   "cell_type": "code",
   "execution_count": 3,
   "id": "f0e4588b",
   "metadata": {},
   "outputs": [],
   "source": [
    "Anime = []"
   ]
  },
  {
   "cell_type": "code",
   "execution_count": 16,
   "id": "11e7f780",
   "metadata": {},
   "outputs": [
    {
     "name": "stderr",
     "output_type": "stream",
     "text": [
      "100%|████████████████████████████████████████████████████████████████████████████████| 383/383 [05:08<00:00,  1.24it/s]\n"
     ]
    }
   ],
   "source": [
    "for page in tqdm(range(0, 400)):\n",
    "    url = \"https://myanimelist.net/topanime.php?limit=\"+str(page*50)\n",
    "    response = requests.get(url)\n",
    "    \n",
    "    soup = BeautifulSoup(response.text, \"html.parser\")\n",
    "    for tag in soup.find_all(\"tr\"):\n",
    "        links = tag.find_all(\"a\")\n",
    "        for link in links:\n",
    "            if type(link.get(\"id\")) == str and len(link.contents[0]) > 1:\n",
    "                Anime.append( link.get(\"href\") )"
   ]
  },
  {
   "cell_type": "code",
   "execution_count": 17,
   "id": "e53cc7f4",
   "metadata": {},
   "outputs": [
    {
     "data": {
      "text/plain": [
       "19118"
      ]
     },
     "execution_count": 17,
     "metadata": {},
     "output_type": "execute_result"
    }
   ],
   "source": [
    "len(Anime)"
   ]
  },
  {
   "cell_type": "code",
   "execution_count": 14,
   "id": "6e389906",
   "metadata": {},
   "outputs": [],
   "source": [
    "filename = r\"C:\\Users\\Giulio\\Documents\\UNI_magistrale\\ADM_Homework/Homework_3/anime4_url.txt\"\n",
    "\n",
    "with open(filename,'w', encoding='utf-8') as f:\n",
    "    for url in Anime:\n",
    "        f.write(url+\"\\n\")"
   ]
  },
  {
   "cell_type": "code",
   "execution_count": null,
   "id": "ad6755c4-be1e-4ff3-9f49-0ef650e899c4",
   "metadata": {},
   "outputs": [],
   "source": []
  }
 ],
 "metadata": {
  "kernelspec": {
   "display_name": "Python 3 (ipykernel)",
   "language": "python",
   "name": "python3"
  },
  "language_info": {
   "codemirror_mode": {
    "name": "ipython",
    "version": 3
   },
   "file_extension": ".py",
   "mimetype": "text/x-python",
   "name": "python",
   "nbconvert_exporter": "python",
   "pygments_lexer": "ipython3",
   "version": "3.8.8"
  }
 },
 "nbformat": 4,
 "nbformat_minor": 5
}
