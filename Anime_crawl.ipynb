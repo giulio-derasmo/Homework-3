{
 "cells": [
  {
   "cell_type": "markdown",
   "id": "7c98de0c-8c1b-4caa-bd23-bc55aec3a037",
   "metadata": {},
   "source": [
    "# ANIME CRAWL"
   ]
  },
  {
   "cell_type": "markdown",
   "id": "4ac9f678-d87e-483b-84ae-8ba11b4d777f",
   "metadata": {},
   "source": [
    "Creating a list with all the anime url"
   ]
  },
  {
   "cell_type": "code",
   "execution_count": 1,
   "id": "8d3a94ce-3df6-426d-9bec-d817b798cf2a",
   "metadata": {},
   "outputs": [],
   "source": [
    "filename = r\"./anime_url.txt\"\n",
    "\n",
    "lines = []\n",
    "with open(filename, \"r\", encoding='utf-8') as f:\n",
    "    for line in f:\n",
    "        lines.append(line)"
   ]
  },
  {
   "cell_type": "markdown",
   "id": "5dfd9d06-4457-4449-a894-2bd7ed8319c1",
   "metadata": {},
   "source": [
    "## Verifying and understand [ you can skip ]"
   ]
  },
  {
   "cell_type": "code",
   "execution_count": 6,
   "id": "021d4d2c-20f0-4a7c-9ad5-1788c4ba2db9",
   "metadata": {},
   "outputs": [
    {
     "data": {
      "text/plain": [
       "19118"
      ]
     },
     "execution_count": 6,
     "metadata": {},
     "output_type": "execute_result"
    }
   ],
   "source": [
    "len(lines)"
   ]
  },
  {
   "cell_type": "markdown",
   "id": "c5f7954c-8fb1-4072-a31b-f3bdd4b6ad4a",
   "metadata": {},
   "source": [
    "Taken the 1-6500 (i.e the index 0-6499)"
   ]
  },
  {
   "cell_type": "code",
   "execution_count": 18,
   "id": "7ddc1798-0551-498e-96f5-87ad807a85ad",
   "metadata": {},
   "outputs": [],
   "source": [
    "lines = lines[0:6500]"
   ]
  },
  {
   "cell_type": "code",
   "execution_count": 19,
   "id": "9feee44f-aa32-490e-8a35-e52a82226f05",
   "metadata": {},
   "outputs": [
    {
     "data": {
      "text/plain": [
       "6500"
      ]
     },
     "execution_count": 19,
     "metadata": {},
     "output_type": "execute_result"
    }
   ],
   "source": [
    "len(lines)"
   ]
  },
  {
   "cell_type": "code",
   "execution_count": 21,
   "id": "437fd8da-e00a-48a7-8836-d6ef8b2abc60",
   "metadata": {},
   "outputs": [
    {
     "name": "stdout",
     "output_type": "stream",
     "text": [
      "https://myanimelist.net/anime/5114/Fullmetal_Alchemist__Brotherhood\n",
      "\n",
      "https://myanimelist.net/anime/40431/Starmyu_3rd_Season__Encore\n",
      "\n"
     ]
    }
   ],
   "source": [
    "# first and last URL ANIME\n",
    "print(lines[0])\n",
    "print(lines[-1])"
   ]
  },
  {
   "cell_type": "markdown",
   "id": "ceeb35e1-6e7b-4da2-bf21-f093a856d69c",
   "metadata": {},
   "source": [
    "# Libreries"
   ]
  },
  {
   "cell_type": "code",
   "execution_count": 2,
   "id": "7d41047f-a06a-4ae7-ad7f-647547c7d0b4",
   "metadata": {},
   "outputs": [],
   "source": [
    "import requests\n",
    "from tqdm import tqdm\n",
    "from bs4 import BeautifulSoup\n",
    "from time import sleep\n"
   ]
  },
  {
   "cell_type": "markdown",
   "id": "25a0fe53-e875-41a4-8936-9984d8f8ebcd",
   "metadata": {},
   "source": [
    "# Creating the folder for each page of the 50 rank each + crawl the html for each anime and separate in folder"
   ]
  },
  {
   "cell_type": "markdown",
   "id": "d4342a97-482d-4042-9491-94e395df58e4",
   "metadata": {},
   "source": [
    "Create in the folder with the anime_url.txt file or were you want to save all the pages a folder name: \"Folder_with_page\" or choose your name and change it in the two codes after.\n",
    "\n",
    "Then just run the codes"
   ]
  },
  {
   "cell_type": "markdown",
   "id": "f54c5bbb-aa49-44ef-9f25-b2ce6aedb32c",
   "metadata": {},
   "source": [
    "#### ANIME DIVISION: \n",
    "\n",
    "1-6500 Giulio >>>    \n",
    "* range(1,131)            from folder 1 to 130 in the first code\n",
    "* tqdm(range(0,130))      for array indexing in the second code\n",
    "\n",
    "6501-13000 Adilet >>> \n",
    "* range(131,261)         from folder 131 to 260 in the first code\n",
    "* tqdm(range(130,260))   for array indexing in the second code\n",
    "\n",
    "13001-19118 Giuliana >>>\n",
    "* range(261,383)         from folder 261 to 382 in the first code\n",
    "* tqdm(range(260,382))   for array indexing in the second code\n"
   ]
  },
  {
   "cell_type": "code",
   "execution_count": 7,
   "id": "56706374-ccf7-45f6-8c04-c9a7d7e4339b",
   "metadata": {},
   "outputs": [
    {
     "name": "stderr",
     "output_type": "stream",
     "text": [
      "100%|██████████████████████████████████████████████████████████████████████████████| 130/130 [00:00<00:00, 5431.30it/s]\n"
     ]
    }
   ],
   "source": [
    "import os\n",
    "for page in tqdm(range(1, 131)):\n",
    "    folder = \"page\"+str(page)\n",
    "    path = \"./Folder_with_page/\"+folder\n",
    "    os.mkdir(path)"
   ]
  },
  {
   "cell_type": "code",
   "execution_count": 9,
   "id": "ab6239e4-db0e-4418-851c-7d25d3bb8421",
   "metadata": {},
   "outputs": [
    {
     "name": "stderr",
     "output_type": "stream",
     "text": [
      "100%|████████████████████████████████████████████████████████████████████████████| 120/120 [13:54:56<00:00, 417.47s/it]\n"
     ]
    }
   ],
   "source": [
    "# scrabbed 1-3\n",
    "for page in tqdm(range(10, 130)):  # page 1 --> 130\n",
    "    folder = \"/page\"+str(page+1)\n",
    "    for i in range(0,50):   # 1 -> 50\n",
    "        page_now = 50*page\n",
    "        url = lines[page_now+i]\n",
    "        sleep(5)\n",
    "        response = requests.get(url)\n",
    "        # name   \n",
    "        filename = r\"./Folder_with_page\"+folder+\"/anime_\"+str(page_now+i+1)+\".html\"\n",
    "        with open(filename,'w', encoding='utf-8') as f:\n",
    "            f.write(response.text)"
   ]
  },
  {
   "cell_type": "markdown",
   "id": "6b709d84-462a-4f8b-800d-fbf5ed5be42a",
   "metadata": {},
   "source": [
    "### Creating the folder .txt + as before but in txt file  [ Run ? ]"
   ]
  },
  {
   "cell_type": "markdown",
   "id": "77092413-0b37-40ff-b114-56539e1742fc",
   "metadata": {},
   "source": [
    "Create in the folder with the anime_url.txt file or were you want to save all the pages a folder name: \"Folder_w_txtpage\" or choose your name and change it in the two codes after.\n",
    "\n",
    "Then just run the codes"
   ]
  },
  {
   "cell_type": "code",
   "execution_count": 78,
   "id": "fe8bd884-5b19-4a67-9b33-d5494cedcfd2",
   "metadata": {},
   "outputs": [
    {
     "name": "stderr",
     "output_type": "stream",
     "text": [
      "100%|██████████████████████████████████████████████████████████████████████████████| 130/130 [00:00<00:00, 2606.90it/s]\n"
     ]
    }
   ],
   "source": [
    "import os\n",
    "for page in tqdm(range(1, 131)):\n",
    "    folder = \"page\"+str(page)\n",
    "    path = \"./Folder_w_txtpage/\"+folder\n",
    "    os.mkdir(path)"
   ]
  },
  {
   "cell_type": "code",
   "execution_count": 79,
   "id": "3d7d7de1-2641-43c2-afd7-919b36743e7e",
   "metadata": {},
   "outputs": [
    {
     "name": "stderr",
     "output_type": "stream",
     "text": [
      "100%|████████████████████████████████████████████████████████████████████████████████| 130/130 [14:17<00:00,  6.60s/it]\n"
     ]
    }
   ],
   "source": [
    "for page in tqdm(range(0, 130)):  # page 1 --> 130\n",
    "    folder = \"/page\"+str(page+1)\n",
    "    for i in range(0,50):   # 1 -> 50\n",
    "        page_now = 50*page\n",
    "        url = lines[page_now+i]\n",
    "        response = requests.get(url)\n",
    "        # name      \n",
    "        filename = r\"./Folder_w_txtpage\"+folder+\"/article_\"+str(page_now+i+1)+\".txt\"\n",
    "        with open(filename,'w', encoding='utf-8') as f:\n",
    "            f.write(response.text)"
   ]
  },
  {
   "cell_type": "code",
   "execution_count": null,
   "id": "04305a9b-ef5d-4ba0-b2a8-0cb549e27f47",
   "metadata": {},
   "outputs": [],
   "source": []
  },
  {
   "cell_type": "markdown",
   "id": "076d17a1-8475-4268-a4f1-305aca1f5287",
   "metadata": {},
   "source": [
    "## For the future"
   ]
  },
  {
   "cell_type": "markdown",
   "id": "812c8a02-ef9e-4c96-98fa-7dbb915b05de",
   "metadata": {},
   "source": [
    "The url name has a \"....\\n\" we will want to remove it for better visualitation, for example:"
   ]
  },
  {
   "cell_type": "code",
   "execution_count": 80,
   "id": "cde40035-15cb-4453-af87-281270688641",
   "metadata": {},
   "outputs": [],
   "source": [
    "import re\n",
    "\n",
    "line = 0\n",
    "split = lines[line].split(\"/\")[-1]\n",
    "name = re.split(\"\\n\",split)\n",
    "anime_name = str(name[0])"
   ]
  },
  {
   "cell_type": "code",
   "execution_count": 81,
   "id": "5876548a-c075-48f7-ad3d-6401d8ed04be",
   "metadata": {},
   "outputs": [
    {
     "data": {
      "text/plain": [
       "'Fullmetal_Alchemist__Brotherhood'"
      ]
     },
     "execution_count": 81,
     "metadata": {},
     "output_type": "execute_result"
    }
   ],
   "source": [
    "anime_name"
   ]
  },
  {
   "cell_type": "code",
   "execution_count": null,
   "id": "597c194e-0731-4d6c-9d2a-e5935e0d6257",
   "metadata": {},
   "outputs": [],
   "source": []
  }
 ],
 "metadata": {
  "kernelspec": {
   "display_name": "Python 3 (ipykernel)",
   "language": "python",
   "name": "python3"
  },
  "language_info": {
   "codemirror_mode": {
    "name": "ipython",
    "version": 3
   },
   "file_extension": ".py",
   "mimetype": "text/x-python",
   "name": "python",
   "nbconvert_exporter": "python",
   "pygments_lexer": "ipython3",
   "version": "3.8.8"
  }
 },
 "nbformat": 4,
 "nbformat_minor": 5
}
