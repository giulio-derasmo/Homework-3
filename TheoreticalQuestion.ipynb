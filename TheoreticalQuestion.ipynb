{
 "cells": [
  {
   "cell_type": "markdown",
   "id": "94796a4e",
   "metadata": {},
   "source": [
    "# 5. Algorithmic Question"
   ]
  },
  {
   "cell_type": "markdown",
   "id": "b2ba1239",
   "metadata": {},
   "source": [
    "You consult for a personal trainer who has a back-to-back sequence of requests for appointments. A sequence of requests is of the form > **30, 40, 25, 50, 30, 20** where each number is the time that the person who makes the appointment wants to spend. You need to accept some requests, however you need a break between them, so you cannot accept two consecutive requests. For example, **[30, 50, 20]** is an acceptable solution (of duration 100), but **[30, 40, 50, 20]** is not, because 30 and 40 are two consecutive appointments. Your goal is to provide to the personal trainer a schedule that maximizes the total length of the accepted appointments. For example, in the previous instance, the optimal solution is **[40, 50, 20]**, of total duration **110**."
   ]
  },
  {
   "cell_type": "markdown",
   "id": "a150e30a",
   "metadata": {},
   "source": [
    "### **1. Write an algorithm that computes the acceptable solution with the longest possible duration.**"
   ]
  },
  {
   "cell_type": "markdown",
   "id": "f9e27107",
   "metadata": {},
   "source": [
    "#### FIRST FUNCTION"
   ]
  },
  {
   "cell_type": "markdown",
   "id": "bd68912f",
   "metadata": {},
   "source": [
    "The first function **isnot_adj** takes in input two arrays:\n",
    "* **possiblesolution** that contains a possible sequence of accepted appointments.\n",
    "* **applist** that contains the total sequence of requests. \n",
    "\n",
    "Considering all pairs of adjacent elements in possiblesolution and all pairs of adjacent elements in applist, if even only a couple of adjacent elements in the possiblesolution list is also contained within the applist the possible solution that we are considering is wrong and the function **isnot_adj** return **False**. If there aren't common couples of adjacent elements the possible solution is not wrong and the function **isnot_adj** return **True**."
   ]
  },
  {
   "cell_type": "markdown",
   "id": "48cbf46d",
   "metadata": {},
   "source": [
    "input : array possiblesolution, array applist\n",
    "\n",
    "def isnot_adj (possiblesolution, applist): {\n",
    "\n",
    "    adj_app = list() empty list\n",
    "    adj_sol = list() empty list\n",
    "    for i in range (len(applist)):\n",
    "        adj_app.append(applist[i], applist[i+1])\n",
    "    for j in range (len(possiblesolution)):\n",
    "        adj_sol.append(possiblesolution[j], possiblesolution[j+1])\n",
    "    for z in range (len(adj_sol)):\n",
    "        if(adj_sol[z] in adj_app):\n",
    "            res.append(\"False\")\n",
    "        else:\n",
    "            res.append(\"True\")\n",
    "    if (\"False\" in res):\n",
    "        return (False)\n",
    "    else:\n",
    "        return (True)}"
   ]
  },
  {
   "cell_type": "markdown",
   "id": "8556a77d",
   "metadata": {},
   "source": [
    "#### SECOND FUNCTION"
   ]
  },
  {
   "cell_type": "markdown",
   "id": "a90ceb0f",
   "metadata": {},
   "source": [
    "The second function **optimalSolution** takes in input:\n",
    "* **applist** that contains the total sequence of requests. \n",
    "\n",
    "the function calculate:\n",
    "* **incl** that is the list that contains the sum including the previous element. The first element of incl is equal to the first element of applist, the i-th elements (considering i different to zero) are equal to the last element of excl list + the i-th element of applist.\n",
    "* **excl** that is the list that contains the sum excluding the previous element. The fist element of excl is equal to zero, the i-th elements (considering i different to zero) are equal to the maximum value between the penultimate element of incl list and the last element of excl list. \n",
    "* **maximum** is calculated after finishing calculating incl and excl for each item in the applist and is equal to the maximum between the last element of incl list and the last element of excl list. This value is the optimal total duration of appointments. \n",
    "* **sol** contains the final solution. The final solution is the combination for which the sum of the list elements is equal to maximum and for which the function isnot_adj returns True."
   ]
  },
  {
   "cell_type": "markdown",
   "id": "6320d994",
   "metadata": {},
   "source": [
    "input: array applist\n",
    "\n",
    "def optimalSolution (applist):{\n",
    "\n",
    "    incl, excl, sol: empty lists\n",
    "    for i in range(len(applist)):\n",
    "        if (i == 0):\n",
    "            incl[0] = applist[0]\n",
    "            excl[0] = 0\n",
    "        else:\n",
    "            incl[i] = excl[-1] + applist[i]\n",
    "            excl[i] = max(incl[-2], excl[-1])\n",
    "    maximum = max(excl[-1], incl[-1])\n",
    "    for i in range (len(applist)):\n",
    "        for x in combinations(applist,i):\n",
    "            if(sum(x) == maximum and isnot_adj == True):\n",
    "                sol.append(x)\n",
    "    return maximum, sol}"
   ]
  },
  {
   "cell_type": "markdown",
   "id": "556e6d05",
   "metadata": {},
   "source": [
    "### **2. Implement a program that given in input an instance in the form given above, gives the optimal solution.**"
   ]
  },
  {
   "cell_type": "code",
   "execution_count": 4,
   "id": "e1478727",
   "metadata": {},
   "outputs": [],
   "source": [
    "import numpy as np\n",
    "from more_itertools import pairwise\n",
    "from itertools import combinations"
   ]
  },
  {
   "cell_type": "code",
   "execution_count": 39,
   "id": "4631b666",
   "metadata": {},
   "outputs": [],
   "source": [
    "def solutions (solution, appointments):\n",
    "    adj_app, adj_sol, res = [], [], []\n",
    "    [adj_app.append([x,y]) for x,y in pairwise(appointments)]\n",
    "    [adj_sol.append([x,y]) for x,y in pairwise(solution)]\n",
    "    for z in range (len(adj_sol)):\n",
    "        if(adj_sol[z] in adj_app):\n",
    "            res.append(\"False\")\n",
    "        else:\n",
    "            res.append(\"True\")\n",
    "    if (\"False\" in res):\n",
    "        return (False)\n",
    "    else:\n",
    "        return (True)"
   ]
  },
  {
   "cell_type": "code",
   "execution_count": 40,
   "id": "bc13b5b1",
   "metadata": {},
   "outputs": [],
   "source": [
    "def optimal_solution (arr):\n",
    "    incl, excl, sol = [], [], []\n",
    "    for i in range(0,len(arr)):\n",
    "        if (i == 0):\n",
    "            incl.append(arr[0])\n",
    "            excl.append(0)\n",
    "        else:\n",
    "            incl.append(excl[-1]+ arr[i])\n",
    "            excl.append(max(incl[-2],excl[-1]))\n",
    "    mymax = max(incl[-1], excl[-1])\n",
    "    [sol.append(x) for i in range (len(arr)) for x in combinations(arr,i) if sum(x) == mymax and solutions(x, arr) == True]\n",
    "    return mymax, sol"
   ]
  },
  {
   "cell_type": "code",
   "execution_count": 43,
   "id": "17a0b6aa",
   "metadata": {},
   "outputs": [
    {
     "name": "stdout",
     "output_type": "stream",
     "text": [
      "The optimal solution is:  [(40, 50, 20)]\n",
      "The total duration is:  110\n"
     ]
    }
   ],
   "source": [
    "appointments = [30, 40, 25, 50, 30, 20]\n",
    "duration, app = optimal_solution(appointments)\n",
    "print (\"The optimal solution is: \", app)\n",
    "print (\"The total duration is: \", duration)"
   ]
  }
 ],
 "metadata": {
  "kernelspec": {
   "display_name": "Python 3",
   "language": "python",
   "name": "python3"
  },
  "language_info": {
   "codemirror_mode": {
    "name": "ipython",
    "version": 3
   },
   "file_extension": ".py",
   "mimetype": "text/x-python",
   "name": "python",
   "nbconvert_exporter": "python",
   "pygments_lexer": "ipython3",
   "version": "3.8.8"
  }
 },
 "nbformat": 4,
 "nbformat_minor": 5
}
