{
 "cells": [
  {
   "cell_type": "code",
   "execution_count": 3,
   "id": "1c6feb24-cc57-4a68-a066-70aa66550c87",
   "metadata": {},
   "outputs": [],
   "source": [
    "import requests\n",
    "from tqdm import tqdm\n",
    "from bs4 import BeautifulSoup\n",
    "import pandas as pd\n",
    "from datetime import datetime\n",
    "import os\n",
    "import re"
   ]
  },
  {
   "cell_type": "markdown",
   "id": "0fe84576-ff7d-4955-88b2-f3da25045f5f",
   "metadata": {},
   "source": [
    "# Crawl synopsis for trying to do search"
   ]
  },
  {
   "cell_type": "code",
   "execution_count": 4,
   "id": "14ad1a54-2617-482f-a782-e14992c56edc",
   "metadata": {},
   "outputs": [],
   "source": [
    "def scrabbing_search_engine(soup):\n",
    "    anime_info = []\n",
    "    #title\n",
    "    title = str(soup.find(\"h1\", attrs = {\"class\": \"title-name h1_bold_none\"}).string)\n",
    "    anime_info.append(title)\n",
    "    #synopsis\n",
    "    synopsis = str(soup.find(\"p\", attrs = {\"itemprop\": \"description\"}).text)\n",
    "    anime_info.append(synopsis)\n",
    "    \n",
    "    return anime_info"
   ]
  },
  {
   "cell_type": "code",
   "execution_count": 81,
   "id": "bfab381b-54df-491a-921a-0f1ac2e75509",
   "metadata": {},
   "outputs": [
    {
     "name": "stderr",
     "output_type": "stream",
     "text": [
      "100%|████████████████████████████████████████████████████████████████████████████████| 129/129 [18:55<00:00,  8.80s/it]\n"
     ]
    }
   ],
   "source": [
    "attrs = [\"animeTitle\",\"animeDescription\",\"animeUrl\"]\n",
    "list_of_anime = []\n",
    "\n",
    "# take info\n",
    "for page in tqdm(range(1,130)):\n",
    "    folder = \"./Folder_with_page/page\"+str(page)\n",
    "    for anime in os.listdir(folder):\n",
    "        with open(folder + \"/\" + anime, \"r\",  encoding='utf-8') as fp:\n",
    "            soup = BeautifulSoup(fp, \"html.parser\")\n",
    "        anime_info = scrabbing_search_engine(soup)\n",
    "        anime_info.append(soup.find(\"meta\",  property=\"og:url\")[\"content\"])\n",
    "        list_of_anime.append(anime_info)\n",
    "        \n",
    "# Creating the DataFrame\n",
    "df = pd.DataFrame(list_of_anime, columns = attrs)\n",
    "\n",
    "# Creating the tsv file\n",
    "# Index True, in this way = ID of the anime\n",
    "df.to_csv('prova_search_engine.tsv', index = False, sep = '\\t')"
   ]
  },
  {
   "cell_type": "markdown",
   "id": "52c53303-33e7-456e-8589-5a740b7ba03b",
   "metadata": {},
   "source": [
    "# Creating the document"
   ]
  },
  {
   "cell_type": "code",
   "execution_count": 82,
   "id": "a68867a3-6ac3-442a-8514-4e896c85cefa",
   "metadata": {},
   "outputs": [],
   "source": [
    "documents = []\n",
    "for doc in df[\"animeDescription\"]:\n",
    "    documents.append(doc)"
   ]
  },
  {
   "cell_type": "markdown",
   "id": "22886481-6849-47ce-ad25-df8956a33520",
   "metadata": {},
   "source": [
    "### clean the documents"
   ]
  },
  {
   "cell_type": "code",
   "execution_count": 83,
   "id": "c37d4137-912b-4ba2-894a-1c6189b97719",
   "metadata": {},
   "outputs": [],
   "source": [
    "from nltk.tokenize import word_tokenize\n",
    "from nltk.corpus import stopwords\n",
    "from nltk.stem import SnowballStemmer\n",
    "import string"
   ]
  },
  {
   "cell_type": "code",
   "execution_count": 105,
   "id": "e25048d4-484c-4b0e-9d62-7fbf44571bb3",
   "metadata": {},
   "outputs": [],
   "source": [
    "def pre_processing(documents):\n",
    "    stop = stopwords.words(\"english\")\n",
    "    snowball_stemmer = SnowballStemmer(\"english\")\n",
    "    remove = [\"Written\", \"MAL\", \"Rewrite\"]+[\"'s\",\"``\",'\" \"',\"''\",\"“\"]\n",
    "\n",
    "    # remove number\n",
    "    document_tmp = re.sub(r'[0-9]', '', documents)\n",
    "    # Tokenizing + Normalization\n",
    "    document_tmp =  word_tokenize(document_tmp.lower()) \n",
    "    # removing stopwords\n",
    "    document_tmp = [ word for word in document_tmp if word not in stop]\n",
    "    # removing punctuation\n",
    "    document_tmp = [ word for word in document_tmp if word not in string.punctuation]\n",
    "    # removing \"Written MAL Rewrite\" and other stuff\n",
    "    document_tmp = [ word for word in document_tmp if word not in remove]\n",
    "    # stemming \n",
    "    document_tmp = [ snowball_stemmer.stem(word) for word in document_tmp]\n",
    "    \n",
    "    return document_tmp"
   ]
  },
  {
   "cell_type": "code",
   "execution_count": 106,
   "id": "a223d7c0-8c54-445c-9726-39a135e16b36",
   "metadata": {},
   "outputs": [],
   "source": [
    "# cleaning the documents\n",
    "documents_clean = []\n",
    "for d in documents:\n",
    "    documents_clean.append(pre_processing(d))"
   ]
  },
  {
   "cell_type": "code",
   "execution_count": 139,
   "id": "f7a08f6e-8104-4253-8125-1ebdbedc013f",
   "metadata": {},
   "outputs": [
    {
     "data": {
      "text/plain": [
       "['horrif',\n",
       " 'alchemi',\n",
       " 'experi',\n",
       " 'goe',\n",
       " 'wrong',\n",
       " 'elric',\n",
       " 'household',\n",
       " 'brother',\n",
       " 'edward',\n",
       " 'alphons',\n",
       " 'left',\n",
       " 'catastroph',\n",
       " 'new',\n",
       " 'realiti',\n",
       " 'ignor',\n",
       " 'alchem',\n",
       " 'principl',\n",
       " 'ban',\n",
       " 'human',\n",
       " 'transmut',\n",
       " 'boy',\n",
       " 'attempt',\n",
       " 'bring',\n",
       " 'recent',\n",
       " 'deceas',\n",
       " 'mother',\n",
       " 'back',\n",
       " 'life',\n",
       " 'instead',\n",
       " 'suffer',\n",
       " 'brutal',\n",
       " 'person',\n",
       " 'loss',\n",
       " 'alphons',\n",
       " 'bodi',\n",
       " 'disintegr',\n",
       " 'edward',\n",
       " 'lost',\n",
       " 'leg',\n",
       " 'sacrif',\n",
       " 'arm',\n",
       " 'keep',\n",
       " 'alphons',\n",
       " 'soul',\n",
       " 'physic',\n",
       " 'realm',\n",
       " 'bind',\n",
       " 'hulk',\n",
       " 'suit',\n",
       " 'armor',\n",
       " 'brother',\n",
       " 'rescu',\n",
       " 'neighbor',\n",
       " 'pinako',\n",
       " 'rockbel',\n",
       " 'granddaught',\n",
       " 'winri',\n",
       " 'known',\n",
       " 'bio-mechan',\n",
       " 'engin',\n",
       " 'prodigi',\n",
       " 'winri',\n",
       " 'creat',\n",
       " 'prosthet',\n",
       " 'limb',\n",
       " 'edward',\n",
       " 'util',\n",
       " 'automail',\n",
       " 'tough',\n",
       " 'versatil',\n",
       " 'metal',\n",
       " 'use',\n",
       " 'robot',\n",
       " 'combat',\n",
       " 'armor',\n",
       " 'year',\n",
       " 'train',\n",
       " 'elric',\n",
       " 'brother',\n",
       " 'set',\n",
       " 'quest',\n",
       " 'restor',\n",
       " 'bodi',\n",
       " 'locat',\n",
       " 'philosoph',\n",
       " 'stone—a',\n",
       " 'power',\n",
       " 'gem',\n",
       " 'allow',\n",
       " 'alchemist',\n",
       " 'defi',\n",
       " 'tradit',\n",
       " 'law',\n",
       " 'equival',\n",
       " 'exchang',\n",
       " 'edward',\n",
       " 'becom',\n",
       " 'infam',\n",
       " 'alchemist',\n",
       " 'gain',\n",
       " 'nicknam',\n",
       " 'fullmet',\n",
       " 'boy',\n",
       " 'journey',\n",
       " 'embroil',\n",
       " 'grow',\n",
       " 'conspiraci',\n",
       " 'threaten',\n",
       " 'fate',\n",
       " 'world',\n",
       " 'written',\n",
       " 'mal',\n",
       " 'rewrit']"
      ]
     },
     "execution_count": 139,
     "metadata": {},
     "output_type": "execute_result"
    }
   ],
   "source": [
    "# try some for view exception:\n",
    "\n",
    "documents_clean[0]"
   ]
  },
  {
   "cell_type": "markdown",
   "id": "0d06060f-cdde-4d70-af2c-c79222cc05af",
   "metadata": {},
   "source": [
    "# Creating vocabulary"
   ]
  },
  {
   "cell_type": "code",
   "execution_count": 112,
   "id": "f49b1e65-259b-417e-8c7b-a543877782ea",
   "metadata": {},
   "outputs": [],
   "source": [
    "import itertools"
   ]
  },
  {
   "cell_type": "code",
   "execution_count": 113,
   "id": "56b6b429-4a13-47e4-b1fc-3e0c98e9053f",
   "metadata": {},
   "outputs": [],
   "source": [
    "# the list of all words\n",
    "word_list = list(set(list(itertools.chain.from_iterable(documents_clean))))"
   ]
  },
  {
   "cell_type": "code",
   "execution_count": 114,
   "id": "767c9eca-1ff4-4b3d-94e0-a406588bc6b7",
   "metadata": {},
   "outputs": [],
   "source": [
    "vocabolary = dict(zip(word_list, range(len(word_list))))"
   ]
  },
  {
   "cell_type": "code",
   "execution_count": null,
   "id": "cfac8389-7e9f-4412-a68d-518be1ecfc2c",
   "metadata": {},
   "outputs": [],
   "source": [
    "vocabolary"
   ]
  },
  {
   "cell_type": "code",
   "execution_count": 116,
   "id": "fa4e30ed-c63e-43f0-b328-9f13f7e1ae5a",
   "metadata": {},
   "outputs": [],
   "source": [
    "# function that map word to integer\n",
    "\n",
    "def word_to_int(document, vocabolary):\n",
    "    int_doc = []\n",
    "    \n",
    "    for word in document:\n",
    "        int_doc.append(vocabolary[word])\n",
    "        \n",
    "    return int_doc"
   ]
  },
  {
   "cell_type": "markdown",
   "id": "b2eaef62-02f0-4de1-a640-e4019f047ece",
   "metadata": {},
   "source": [
    "Mapp every documents word to integer"
   ]
  },
  {
   "cell_type": "code",
   "execution_count": 123,
   "id": "42ee2fa1-2273-4830-b299-4756fcc35f9e",
   "metadata": {},
   "outputs": [],
   "source": [
    "documents_mapped = []\n",
    "for d in documents_clean:\n",
    "    documents_mapped.append(word_to_int(d,vocabolary))"
   ]
  },
  {
   "cell_type": "markdown",
   "id": "4ec55b71-4480-496b-8c20-973d813126d8",
   "metadata": {},
   "source": [
    "# Search engine"
   ]
  },
  {
   "cell_type": "code",
   "execution_count": 124,
   "id": "ab927f8d-4d42-4091-bebf-82ccda648cf2",
   "metadata": {},
   "outputs": [],
   "source": [
    "# search engine\n",
    "from collections import defaultdict  "
   ]
  },
  {
   "cell_type": "code",
   "execution_count": 125,
   "id": "573d86c7-0eae-42b9-ab17-d12ce641ae79",
   "metadata": {},
   "outputs": [],
   "source": [
    "search_dict = defaultdict(list)"
   ]
  },
  {
   "cell_type": "code",
   "execution_count": 131,
   "id": "671aaaa8-a160-41b7-93cf-b95047bbe886",
   "metadata": {},
   "outputs": [],
   "source": [
    "for number in vocabolary.values():\n",
    "    for idd, d in enumerate(documents_mapped):\n",
    "        if number in d:\n",
    "            search_dict[number].append(idd)"
   ]
  },
  {
   "cell_type": "code",
   "execution_count": 132,
   "id": "ec5265b0-7d77-4eb4-83d9-a5de40fa03ce",
   "metadata": {},
   "outputs": [],
   "source": [
    "import json\n",
    "\n",
    "file = open(\"search_engine_2.json\", \"w\")\n",
    "json.dump(search_dict, file)\n",
    "file.close()"
   ]
  },
  {
   "cell_type": "markdown",
   "id": "b2048c63-3087-47d7-bb5f-0de3a8f73aeb",
   "metadata": {},
   "source": [
    "# Searching"
   ]
  },
  {
   "cell_type": "code",
   "execution_count": 143,
   "id": "76533c14-8fff-4bc7-a7de-13bc077a5249",
   "metadata": {},
   "outputs": [
    {
     "name": "stdin",
     "output_type": "stream",
     "text": [
      " alchemy titan\n"
     ]
    }
   ],
   "source": [
    "# input query\n",
    "query_text = input()\n",
    "\n",
    "query_clean = pre_processing(query_text)\n",
    "query_int = word_to_int(query_clean, vocabolary)"
   ]
  },
  {
   "cell_type": "code",
   "execution_count": 148,
   "id": "cda7bc62-8efd-49d8-8414-f586b5da9cfd",
   "metadata": {},
   "outputs": [
    {
     "data": {
      "text/plain": [
       "[21829, 18648]"
      ]
     },
     "execution_count": 148,
     "metadata": {},
     "output_type": "execute_result"
    }
   ],
   "source": [
    "query_int"
   ]
  },
  {
   "cell_type": "code",
   "execution_count": 146,
   "id": "300d106b-eff9-4380-bba8-e087160e72f5",
   "metadata": {},
   "outputs": [
    {
     "data": {
      "text/plain": [
       "21829"
      ]
     },
     "execution_count": 146,
     "metadata": {},
     "output_type": "execute_result"
    }
   ],
   "source": [
    "vocabolary[\"alchemi\"]"
   ]
  },
  {
   "cell_type": "code",
   "execution_count": 151,
   "id": "8d422930-3c87-49e5-973e-fb29a06608e5",
   "metadata": {},
   "outputs": [],
   "source": [
    "# return the document witch match the query\n",
    "\n",
    "indexx = []\n",
    "for query in query_int:\n",
    "    indexx += search_dict[query]"
   ]
  },
  {
   "cell_type": "code",
   "execution_count": 155,
   "id": "11670fab-e743-458a-abc1-c2d5cd22f590",
   "metadata": {},
   "outputs": [
    {
     "data": {
      "text/html": [
       "<div>\n",
       "<style scoped>\n",
       "    .dataframe tbody tr th:only-of-type {\n",
       "        vertical-align: middle;\n",
       "    }\n",
       "\n",
       "    .dataframe tbody tr th {\n",
       "        vertical-align: top;\n",
       "    }\n",
       "\n",
       "    .dataframe thead th {\n",
       "        text-align: right;\n",
       "    }\n",
       "</style>\n",
       "<table border=\"1\" class=\"dataframe\">\n",
       "  <thead>\n",
       "    <tr style=\"text-align: right;\">\n",
       "      <th></th>\n",
       "      <th>animeTitle</th>\n",
       "      <th>animeDescription</th>\n",
       "      <th>animeUrl</th>\n",
       "      <th>animeID</th>\n",
       "    </tr>\n",
       "  </thead>\n",
       "  <tbody>\n",
       "    <tr>\n",
       "      <th>0</th>\n",
       "      <td>Fullmetal Alchemist: Brotherhood</td>\n",
       "      <td>After a horrific alchemy experiment goes wrong...</td>\n",
       "      <td>https://myanimelist.net/anime/5114/Fullmetal_A...</td>\n",
       "      <td>0</td>\n",
       "    </tr>\n",
       "    <tr>\n",
       "      <th>10</th>\n",
       "      <td>Shingeki no Kyojin: The Final Season</td>\n",
       "      <td>Gabi Braun and Falco Grice have been training ...</td>\n",
       "      <td>https://myanimelist.net/anime/40028/Shingeki_n...</td>\n",
       "      <td>10</td>\n",
       "    </tr>\n",
       "    <tr>\n",
       "      <th>22</th>\n",
       "      <td>Shingeki no Kyojin Season 3 Part 2</td>\n",
       "      <td>Seeking to restore humanity's diminishing hope...</td>\n",
       "      <td>https://myanimelist.net/anime/38524/Shingeki_n...</td>\n",
       "      <td>22</td>\n",
       "    </tr>\n",
       "    <tr>\n",
       "      <th>50</th>\n",
       "      <td>Shingeki no Kyojin</td>\n",
       "      <td>Centuries ago, mankind was slaughtered to near...</td>\n",
       "      <td>https://myanimelist.net/anime/16498/Shingeki_n...</td>\n",
       "      <td>50</td>\n",
       "    </tr>\n",
       "    <tr>\n",
       "      <th>68</th>\n",
       "      <td>Shingeki no Kyojin Season 3</td>\n",
       "      <td>Still threatened by the \"Titans\" that rob them...</td>\n",
       "      <td>https://myanimelist.net/anime/35760/Shingeki_n...</td>\n",
       "      <td>68</td>\n",
       "    </tr>\n",
       "    <tr>\n",
       "      <th>118</th>\n",
       "      <td>Shingeki no Kyojin Season 2</td>\n",
       "      <td>For centuries, humanity has been hunted by gia...</td>\n",
       "      <td>https://myanimelist.net/anime/25777/Shingeki_n...</td>\n",
       "      <td>118</td>\n",
       "    </tr>\n",
       "    <tr>\n",
       "      <th>167</th>\n",
       "      <td>Baccano!</td>\n",
       "      <td>During the early 1930s in Chicago, the transco...</td>\n",
       "      <td>https://myanimelist.net/anime/2251/Baccano</td>\n",
       "      <td>167</td>\n",
       "    </tr>\n",
       "    <tr>\n",
       "      <th>393</th>\n",
       "      <td>Fullmetal Alchemist</td>\n",
       "      <td>Edward Elric, a young, brilliant alchemist, ha...</td>\n",
       "      <td>https://myanimelist.net/anime/121/Fullmetal_Al...</td>\n",
       "      <td>393</td>\n",
       "    </tr>\n",
       "    <tr>\n",
       "      <th>525</th>\n",
       "      <td>Fullmetal Alchemist: Brotherhood Specials</td>\n",
       "      <td>Amazing secrets and startling facts are expose...</td>\n",
       "      <td>https://myanimelist.net/anime/6421/Fullmetal_A...</td>\n",
       "      <td>525</td>\n",
       "    </tr>\n",
       "    <tr>\n",
       "      <th>695</th>\n",
       "      <td>Mobile Suit Zeta Gundam</td>\n",
       "      <td>It is Universal Century 0087, and the One Year...</td>\n",
       "      <td>https://myanimelist.net/anime/85/Mobile_Suit_Z...</td>\n",
       "      <td>695</td>\n",
       "    </tr>\n",
       "    <tr>\n",
       "      <th>759</th>\n",
       "      <td>Shingeki no Kyojin OVA</td>\n",
       "      <td>Ilse no Techou: Aru Chousa Heidanin no Shuki\\n...</td>\n",
       "      <td>https://myanimelist.net/anime/18397/Shingeki_n...</td>\n",
       "      <td>759</td>\n",
       "    </tr>\n",
       "    <tr>\n",
       "      <th>897</th>\n",
       "      <td>Shingeki no Kyojin Season 2 Movie: Kakusei no ...</td>\n",
       "      <td>Eren Yeager and others of the 104th Training C...</td>\n",
       "      <td>https://myanimelist.net/anime/36702/Shingeki_n...</td>\n",
       "      <td>897</td>\n",
       "    </tr>\n",
       "    <tr>\n",
       "      <th>1395</th>\n",
       "      <td>Slam Dunk: Shouhoku Saidai no Kiki! Moero Saku...</td>\n",
       "      <td>After losing the titanic match against Kainan ...</td>\n",
       "      <td>https://myanimelist.net/anime/2498/Slam_Dunk__...</td>\n",
       "      <td>1395</td>\n",
       "    </tr>\n",
       "    <tr>\n",
       "      <th>1490</th>\n",
       "      <td>Fullmetal Alchemist: The Conqueror of Shamballa</td>\n",
       "      <td>In desperation, Edward Elric sacrificed his bo...</td>\n",
       "      <td>https://myanimelist.net/anime/430/Fullmetal_Al...</td>\n",
       "      <td>1490</td>\n",
       "    </tr>\n",
       "    <tr>\n",
       "      <th>1579</th>\n",
       "      <td>One Piece: Heart of Gold</td>\n",
       "      <td>A girl named Olga is pursued by both the World...</td>\n",
       "      <td>https://myanimelist.net/anime/33338/One_Piece_...</td>\n",
       "      <td>1579</td>\n",
       "    </tr>\n",
       "    <tr>\n",
       "      <th>2226</th>\n",
       "      <td>Pokemon Movie 02: Maboroshi no Pokemon Lugia B...</td>\n",
       "      <td>An ancient prophecy tells of a day when the ti...</td>\n",
       "      <td>https://myanimelist.net/anime/1117/Pokemon_Mov...</td>\n",
       "      <td>2226</td>\n",
       "    </tr>\n",
       "    <tr>\n",
       "      <th>2438</th>\n",
       "      <td>Shingeki no Kyojin-ten 360° Taikan Theater</td>\n",
       "      <td>Virtual reality movies included with the Blu-r...</td>\n",
       "      <td>https://myanimelist.net/anime/35267/Shingeki_n...</td>\n",
       "      <td>2438</td>\n",
       "    </tr>\n",
       "    <tr>\n",
       "      <th>2633</th>\n",
       "      <td>Trinity Seven Movie 1: Eternity Library to Alc...</td>\n",
       "      <td>The film's story begins when Arata inadvertent...</td>\n",
       "      <td>https://myanimelist.net/anime/33581/Trinity_Se...</td>\n",
       "      <td>2633</td>\n",
       "    </tr>\n",
       "    <tr>\n",
       "      <th>3083</th>\n",
       "      <td>Shingeki! Kyojin Chuugakkou</td>\n",
       "      <td>On his first day of junior high, Eren Yeager c...</td>\n",
       "      <td>https://myanimelist.net/anime/31374/Shingeki_K...</td>\n",
       "      <td>3083</td>\n",
       "    </tr>\n",
       "    <tr>\n",
       "      <th>3521</th>\n",
       "      <td>Lupin III: Moeyo Zantetsuken!</td>\n",
       "      <td>A Hong Kong crime boss contracts Lupin, Fujiko...</td>\n",
       "      <td>https://myanimelist.net/anime/1417/Lupin_III__...</td>\n",
       "      <td>3521</td>\n",
       "    </tr>\n",
       "    <tr>\n",
       "      <th>3671</th>\n",
       "      <td>Concrete Revolutio: Choujin Gensou - The Last ...</td>\n",
       "      <td>Titans from outer space, life forms from a mys...</td>\n",
       "      <td>https://myanimelist.net/anime/32313/Concrete_R...</td>\n",
       "      <td>3671</td>\n",
       "    </tr>\n",
       "    <tr>\n",
       "      <th>3834</th>\n",
       "      <td>Campione!: Matsurowanu Kamigami to Kamigoroshi...</td>\n",
       "      <td>Some people suddenly find religion, but for 16...</td>\n",
       "      <td>https://myanimelist.net/anime/12293/Campione__...</td>\n",
       "      <td>3834</td>\n",
       "    </tr>\n",
       "    <tr>\n",
       "      <th>5142</th>\n",
       "      <td>Bakutou Sengen Daigunder</td>\n",
       "      <td>Akira Akebono, a young boy who is competing in...</td>\n",
       "      <td>https://myanimelist.net/anime/3271/Bakutou_Sen...</td>\n",
       "      <td>5142</td>\n",
       "    </tr>\n",
       "    <tr>\n",
       "      <th>5283</th>\n",
       "      <td>Inazuma Eleven: Ares no Tenbin</td>\n",
       "      <td>Taking place in an alternate timeline after Ra...</td>\n",
       "      <td>https://myanimelist.net/anime/33733/Inazuma_El...</td>\n",
       "      <td>5283</td>\n",
       "    </tr>\n",
       "    <tr>\n",
       "      <th>5314</th>\n",
       "      <td>Mobile Suit Gundam ZZ</td>\n",
       "      <td>In Universal Century 0088, the Anti-Earth Unio...</td>\n",
       "      <td>https://myanimelist.net/anime/86/Mobile_Suit_G...</td>\n",
       "      <td>5314</td>\n",
       "    </tr>\n",
       "    <tr>\n",
       "      <th>5425</th>\n",
       "      <td>Shingeki no Kyojin Picture Drama</td>\n",
       "      <td>Shingeki no Kyojin Picture Drama  is a series ...</td>\n",
       "      <td>https://myanimelist.net/anime/19391/Shingeki_n...</td>\n",
       "      <td>5425</td>\n",
       "    </tr>\n",
       "    <tr>\n",
       "      <th>5452</th>\n",
       "      <td>Green Legend Ran</td>\n",
       "      <td>A story of future Earth - A warning for mankin...</td>\n",
       "      <td>https://myanimelist.net/anime/1169/Green_Legen...</td>\n",
       "      <td>5452</td>\n",
       "    </tr>\n",
       "    <tr>\n",
       "      <th>6270</th>\n",
       "      <td>Ta ga Tame no Alchemist</td>\n",
       "      <td>The game is set in the continent of Babel, whe...</td>\n",
       "      <td>https://myanimelist.net/anime/37262/Ta_ga_Tame...</td>\n",
       "      <td>6270</td>\n",
       "    </tr>\n",
       "    <tr>\n",
       "      <th>6436</th>\n",
       "      <td>Escha &amp; Logy no Atelier: Tasogare no Sora no R...</td>\n",
       "      <td>This world has gone through many Dusks, and is...</td>\n",
       "      <td>https://myanimelist.net/anime/21167/Escha___Lo...</td>\n",
       "      <td>6436</td>\n",
       "    </tr>\n",
       "  </tbody>\n",
       "</table>\n",
       "</div>"
      ],
      "text/plain": [
       "                                             animeTitle  \\\n",
       "0                      Fullmetal Alchemist: Brotherhood   \n",
       "10                 Shingeki no Kyojin: The Final Season   \n",
       "22                   Shingeki no Kyojin Season 3 Part 2   \n",
       "50                                   Shingeki no Kyojin   \n",
       "68                          Shingeki no Kyojin Season 3   \n",
       "118                         Shingeki no Kyojin Season 2   \n",
       "167                                            Baccano!   \n",
       "393                                 Fullmetal Alchemist   \n",
       "525           Fullmetal Alchemist: Brotherhood Specials   \n",
       "695                             Mobile Suit Zeta Gundam   \n",
       "759                              Shingeki no Kyojin OVA   \n",
       "897   Shingeki no Kyojin Season 2 Movie: Kakusei no ...   \n",
       "1395  Slam Dunk: Shouhoku Saidai no Kiki! Moero Saku...   \n",
       "1490    Fullmetal Alchemist: The Conqueror of Shamballa   \n",
       "1579                           One Piece: Heart of Gold   \n",
       "2226  Pokemon Movie 02: Maboroshi no Pokemon Lugia B...   \n",
       "2438         Shingeki no Kyojin-ten 360° Taikan Theater   \n",
       "2633  Trinity Seven Movie 1: Eternity Library to Alc...   \n",
       "3083                        Shingeki! Kyojin Chuugakkou   \n",
       "3521                      Lupin III: Moeyo Zantetsuken!   \n",
       "3671  Concrete Revolutio: Choujin Gensou - The Last ...   \n",
       "3834  Campione!: Matsurowanu Kamigami to Kamigoroshi...   \n",
       "5142                           Bakutou Sengen Daigunder   \n",
       "5283                     Inazuma Eleven: Ares no Tenbin   \n",
       "5314                              Mobile Suit Gundam ZZ   \n",
       "5425                   Shingeki no Kyojin Picture Drama   \n",
       "5452                                   Green Legend Ran   \n",
       "6270                            Ta ga Tame no Alchemist   \n",
       "6436  Escha & Logy no Atelier: Tasogare no Sora no R...   \n",
       "\n",
       "                                       animeDescription  \\\n",
       "0     After a horrific alchemy experiment goes wrong...   \n",
       "10    Gabi Braun and Falco Grice have been training ...   \n",
       "22    Seeking to restore humanity's diminishing hope...   \n",
       "50    Centuries ago, mankind was slaughtered to near...   \n",
       "68    Still threatened by the \"Titans\" that rob them...   \n",
       "118   For centuries, humanity has been hunted by gia...   \n",
       "167   During the early 1930s in Chicago, the transco...   \n",
       "393   Edward Elric, a young, brilliant alchemist, ha...   \n",
       "525   Amazing secrets and startling facts are expose...   \n",
       "695   It is Universal Century 0087, and the One Year...   \n",
       "759   Ilse no Techou: Aru Chousa Heidanin no Shuki\\n...   \n",
       "897   Eren Yeager and others of the 104th Training C...   \n",
       "1395  After losing the titanic match against Kainan ...   \n",
       "1490  In desperation, Edward Elric sacrificed his bo...   \n",
       "1579  A girl named Olga is pursued by both the World...   \n",
       "2226  An ancient prophecy tells of a day when the ti...   \n",
       "2438  Virtual reality movies included with the Blu-r...   \n",
       "2633  The film's story begins when Arata inadvertent...   \n",
       "3083  On his first day of junior high, Eren Yeager c...   \n",
       "3521  A Hong Kong crime boss contracts Lupin, Fujiko...   \n",
       "3671  Titans from outer space, life forms from a mys...   \n",
       "3834  Some people suddenly find religion, but for 16...   \n",
       "5142  Akira Akebono, a young boy who is competing in...   \n",
       "5283  Taking place in an alternate timeline after Ra...   \n",
       "5314  In Universal Century 0088, the Anti-Earth Unio...   \n",
       "5425  Shingeki no Kyojin Picture Drama  is a series ...   \n",
       "5452  A story of future Earth - A warning for mankin...   \n",
       "6270  The game is set in the continent of Babel, whe...   \n",
       "6436  This world has gone through many Dusks, and is...   \n",
       "\n",
       "                                               animeUrl  animeID  \n",
       "0     https://myanimelist.net/anime/5114/Fullmetal_A...        0  \n",
       "10    https://myanimelist.net/anime/40028/Shingeki_n...       10  \n",
       "22    https://myanimelist.net/anime/38524/Shingeki_n...       22  \n",
       "50    https://myanimelist.net/anime/16498/Shingeki_n...       50  \n",
       "68    https://myanimelist.net/anime/35760/Shingeki_n...       68  \n",
       "118   https://myanimelist.net/anime/25777/Shingeki_n...      118  \n",
       "167          https://myanimelist.net/anime/2251/Baccano      167  \n",
       "393   https://myanimelist.net/anime/121/Fullmetal_Al...      393  \n",
       "525   https://myanimelist.net/anime/6421/Fullmetal_A...      525  \n",
       "695   https://myanimelist.net/anime/85/Mobile_Suit_Z...      695  \n",
       "759   https://myanimelist.net/anime/18397/Shingeki_n...      759  \n",
       "897   https://myanimelist.net/anime/36702/Shingeki_n...      897  \n",
       "1395  https://myanimelist.net/anime/2498/Slam_Dunk__...     1395  \n",
       "1490  https://myanimelist.net/anime/430/Fullmetal_Al...     1490  \n",
       "1579  https://myanimelist.net/anime/33338/One_Piece_...     1579  \n",
       "2226  https://myanimelist.net/anime/1117/Pokemon_Mov...     2226  \n",
       "2438  https://myanimelist.net/anime/35267/Shingeki_n...     2438  \n",
       "2633  https://myanimelist.net/anime/33581/Trinity_Se...     2633  \n",
       "3083  https://myanimelist.net/anime/31374/Shingeki_K...     3083  \n",
       "3521  https://myanimelist.net/anime/1417/Lupin_III__...     3521  \n",
       "3671  https://myanimelist.net/anime/32313/Concrete_R...     3671  \n",
       "3834  https://myanimelist.net/anime/12293/Campione__...     3834  \n",
       "5142  https://myanimelist.net/anime/3271/Bakutou_Sen...     5142  \n",
       "5283  https://myanimelist.net/anime/33733/Inazuma_El...     5283  \n",
       "5314  https://myanimelist.net/anime/86/Mobile_Suit_G...     5314  \n",
       "5425  https://myanimelist.net/anime/19391/Shingeki_n...     5425  \n",
       "5452  https://myanimelist.net/anime/1169/Green_Legen...     5452  \n",
       "6270  https://myanimelist.net/anime/37262/Ta_ga_Tame...     6270  \n",
       "6436  https://myanimelist.net/anime/21167/Escha___Lo...     6436  "
      ]
     },
     "execution_count": 155,
     "metadata": {},
     "output_type": "execute_result"
    }
   ],
   "source": [
    "df[df[\"animeID\"].isin(indexx)]"
   ]
  },
  {
   "cell_type": "code",
   "execution_count": 159,
   "id": "c1ecc255-4abe-4c3d-a50d-7e6ede7b053b",
   "metadata": {},
   "outputs": [
    {
     "data": {
      "text/plain": [
       "'A girl named Olga is pursued by both the World Government and a man named Mad Treasure, as she is the only one who knows the location of the Pure Gold, a substance that can buy the entire world. Olga ends up sailing with the Straw Hat Pirates, and they journey to find the Pure Gold on the lost island of Alchemi, which is located inside the stomach of a large angler fish named Bonbori.\\n\\n\\n(Source: IMDb)'"
      ]
     },
     "execution_count": 159,
     "metadata": {},
     "output_type": "execute_result"
    }
   ],
   "source": [
    "df[\"animeDescription\"].iloc[1579]"
   ]
  }
 ],
 "metadata": {
  "kernelspec": {
   "display_name": "Python 3 (ipykernel)",
   "language": "python",
   "name": "python3"
  },
  "language_info": {
   "codemirror_mode": {
    "name": "ipython",
    "version": 3
   },
   "file_extension": ".py",
   "mimetype": "text/x-python",
   "name": "python",
   "nbconvert_exporter": "python",
   "pygments_lexer": "ipython3",
   "version": "3.8.8"
  }
 },
 "nbformat": 4,
 "nbformat_minor": 5
}
