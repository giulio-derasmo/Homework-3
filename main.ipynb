{
 "cells": [
  {
   "cell_type": "markdown",
   "id": "002970b4-b5da-48e8-b909-addc7ffaa346",
   "metadata": {},
   "source": [
    "# [EX1] Data collection"
   ]
  },
  {
   "cell_type": "markdown",
   "id": "0f9d703a-9fe3-498e-aa3d-93add558fe50",
   "metadata": {},
   "source": [
    "## 1.1 Get the list of animes\n"
   ]
  },
  {
   "cell_type": "markdown",
   "id": "0d728227-696a-4fd9-8c0a-3bd1448f0bab",
   "metadata": {},
   "source": [
    "### Libraries"
   ]
  },
  {
   "cell_type": "code",
   "execution_count": 2,
   "id": "8144771a-b1b0-4518-a549-8150b9da5c59",
   "metadata": {},
   "outputs": [],
   "source": [
    "# core libraries\n",
    "import requests\n",
    "from bs4 import BeautifulSoup\n",
    "\n",
    "# for better time view \n",
    "from tqdm import tqdm"
   ]
  },
  {
   "cell_type": "markdown",
   "id": "aaa69a81-0e20-4e4d-9a6f-607a6ec6835b",
   "metadata": {},
   "source": [
    "### Creating the anime_url.txt file"
   ]
  },
  {
   "cell_type": "markdown",
   "id": "33f37107-25fe-4988-9206-b8bc9abd77df",
   "metadata": {},
   "source": [
    "We are creating a file called \"anime.txt\" conteining the url of each anime in the 400 pages (actually 383) of the top anime rank list of the MyAnimeList site. \n",
    "\n",
    "* We initialize a filename and then we are doing a for loop over the 400 pages. If the url \"exist\" so the response == 200 and we can collect the 50 url in that page, otherwise if the response == 400, the page doesn't exist and we exit from the loop, no more interest in continue to loop (no anime url to collect).\n",
    "\n",
    "* The url scrabbing consist on using BeautifulSoup to inspect the whole html page to find where the url of the anime are. In particolar under the < tr>..< /tr> and < a>..< /a> we can view all the link in the pages. Moreover the anime url are associated with an \"id=#areaXXX\" class. We get there and gather the right link.\n",
    "```\n",
    "<a href=\"https://myanimelist.net/anime/5114/Fullmetal_Alchemist__Brotherhood\" id=\"#area5114\" rel=\"#info5114\">Fullmetal Alchemist: Brotherhood</a>\n",
    "```\n"
   ]
  },
  {
   "cell_type": "code",
   "execution_count": 3,
   "id": "ea6a0e02-bac0-434a-b27e-fca792ce96ac",
   "metadata": {},
   "outputs": [
    {
     "name": "stderr",
     "output_type": "stream",
     "text": [
      " 96%|████████████████████████████████████████████████████████████████████████████▌   | 383/400 [05:02<00:13,  1.27it/s]"
     ]
    },
    {
     "name": "stdout",
     "output_type": "stream",
     "text": [
      "End with page count:  383\n"
     ]
    },
    {
     "name": "stderr",
     "output_type": "stream",
     "text": [
      "\n"
     ]
    }
   ],
   "source": [
    "filename = r\"./anime_url.txt\"\n",
    "with open(filename,'w', encoding='utf-8') as f:\n",
    "    for page in tqdm(range(0, 400)):\n",
    "        url = \"https://myanimelist.net/topanime.php?limit=\"+str(page*50)\n",
    "        response = requests.get(url)\n",
    "        if response.status_code == 200:\n",
    "            soup = BeautifulSoup(response.text, \"html.parser\")\n",
    "            for tag in soup.find_all(\"tr\"):\n",
    "                links = tag.find_all(\"a\")\n",
    "                for link in links:\n",
    "                    if type(link.get(\"id\")) == str and len(link.contents[0]) > 1:\n",
    "                        f.write(link.get(\"href\"))\n",
    "                        f.write(\"\\n\")\n",
    "        else:\n",
    "            print(\"End with page count: \", page)\n",
    "            break"
   ]
  },
  {
   "cell_type": "markdown",
   "id": "82006335-c135-4052-96cd-1e6deabef3e6",
   "metadata": {},
   "source": [
    "## 1.2 Crawl animes"
   ]
  },
  {
   "cell_type": "markdown",
   "id": "3aa84d01-ce62-4dc5-b63a-e095abb2409e",
   "metadata": {},
   "source": [
    "We now need to collect for each anime the html and store it in a .html file. The anime needs to follow the ranking page of the MyAnimeList, i.e 50 anime for page."
   ]
  },
  {
   "cell_type": "markdown",
   "id": "fa470b1c-7472-41e9-aaa0-18ba68b1c3e1",
   "metadata": {},
   "source": [
    "For this we begin to create a list called \"lines\" that store all the link of the anime. We use this method instead of open directly the .txt file in for loop to split the crawl part among the group."
   ]
  },
  {
   "cell_type": "code",
   "execution_count": 330,
   "id": "ae37c5a8-d4cc-4dd3-b9a4-3ff596e692bf",
   "metadata": {},
   "outputs": [],
   "source": [
    "filename = r\"./anime_url.txt\"\n",
    "\n",
    "lines = []\n",
    "with open(filename, \"r\", encoding='utf-8') as f:\n",
    "        lines = f.readlines()"
   ]
  },
  {
   "cell_type": "code",
   "execution_count": 331,
   "id": "a080211e-4055-4506-b454-58d11ac8a9ad",
   "metadata": {},
   "outputs": [
    {
     "data": {
      "text/plain": [
       "(['https://myanimelist.net/anime/5114/Fullmetal_Alchemist__Brotherhood\\n',\n",
       "  'https://myanimelist.net/anime/28977/Gintama°\\n',\n",
       "  'https://myanimelist.net/anime/38524/Shingeki_no_Kyojin_Season_3_Part_2\\n',\n",
       "  'https://myanimelist.net/anime/9253/Steins_Gate\\n',\n",
       "  'https://myanimelist.net/anime/42938/Fruits_Basket__The_Final\\n'],\n",
       " ['https://myanimelist.net/anime/42383/Konbini_Shoujo_Z\\n',\n",
       "  'https://myanimelist.net/anime/10564/Korogashi_Ryouta\\n',\n",
       "  'https://myanimelist.net/anime/50237/Kyonyuu_Elf_Oyako_Saimin\\n',\n",
       "  'https://myanimelist.net/anime/49876/Mahou_Shoujo_Elena_DVD-BOX_Special\\n',\n",
       "  'https://myanimelist.net/anime/49762/Mama_x_Holic__Miwaku_no_Mama_to_Amaama_Kankei_-_The_Animation'])"
      ]
     },
     "execution_count": 331,
     "metadata": {},
     "output_type": "execute_result"
    }
   ],
   "source": [
    "# view the first 5 and last 5 anime url collected\n",
    "lines[:5], lines[-5:]"
   ]
  },
  {
   "cell_type": "markdown",
   "id": "4484e052-9ab9-47a9-b9cb-7817072863d7",
   "metadata": {},
   "source": [
    "### Libraries"
   ]
  },
  {
   "cell_type": "code",
   "execution_count": 332,
   "id": "2c504fff-a39a-410e-a325-860d2c4bcbbe",
   "metadata": {},
   "outputs": [],
   "source": [
    "# core libraries\n",
    "import requests\n",
    "from bs4 import BeautifulSoup\n",
    "from time import sleep\n",
    "# for time view\n",
    "from tqdm import tqdm"
   ]
  },
  {
   "cell_type": "markdown",
   "id": "c663c537-96db-4bbc-a6c1-4fe2a379ab83",
   "metadata": {},
   "source": [
    "### The Crawl"
   ]
  },
  {
   "cell_type": "markdown",
   "id": "19a6b6d2-00e8-43e8-8c07-0e774c564c77",
   "metadata": {},
   "source": [
    "We begin creating the pages needed to store the anime. \n",
    "\n",
    "The pages from 1 to 383 are stored in the Anime_pages folder."
   ]
  },
  {
   "cell_type": "code",
   "execution_count": 333,
   "id": "82f9bc56-c8cc-45ac-82cb-1409286d0e49",
   "metadata": {},
   "outputs": [
    {
     "name": "stderr",
     "output_type": "stream",
     "text": [
      "100%|██████████████████████████████████████████████████████████████████████████████| 383/383 [00:00<00:00, 3978.07it/s]\n"
     ]
    }
   ],
   "source": [
    "import os\n",
    "\n",
    "for page in tqdm(range(1, 384)):\n",
    "    folder = \"page\"+str(page)\n",
    "    path = \"./Anime_pages/\"+folder\n",
    "    os.mkdir(path)"
   ]
  },
  {
   "cell_type": "markdown",
   "id": "30c2b2ba-cbf9-43b3-80b6-236cbe9e9d39",
   "metadata": {},
   "source": [
    "Now we create a double loop, over the pages and over the 50 anime, to collect the whole html and save it in the correct pages.\n",
    "\n",
    "For group division, here the loop goes from page 1 to 130. For have the complete loop we can iter over 0 to 383.\n",
    "We also use a \"SLEEP\" to avoid the robot cheack while scrabbing the html of the page.\n",
    "\n",
    "Because we cant have time to re-run the cell of the crawl of the 384 anime, we run for only the first page and will load the screenshot of the all work done on the total of pages after."
   ]
  },
  {
   "cell_type": "code",
   "execution_count": 334,
   "id": "e82d7997-b49f-43e2-8b83-5783ce7cd2a1",
   "metadata": {},
   "outputs": [
    {
     "name": "stderr",
     "output_type": "stream",
     "text": [
      "100%|███████████████████████████████████████████████████████████████████████████████████| 1/1 [05:54<00:00, 354.32s/it]\n"
     ]
    }
   ],
   "source": [
    "for page in tqdm(range(0, 1)):  \n",
    "    # positioning in the right folder page\n",
    "    folder = \"/page\"+str(page+1)\n",
    "    for i in range(0,50):   \n",
    "        page_now = 50*page\n",
    "        # gather the url\n",
    "        url = lines[page_now+i]\n",
    "        response = requests.get(url)\n",
    "        # name of the file   \n",
    "        filename = r\"./Anime_pages\"+folder+\"/anime_\"+str(page_now+i+1)+\".html\"\n",
    "        with open(filename,'w', encoding='utf-8') as f:\n",
    "            f.write(response.text)\n",
    "        # add a sleep to avoid the \"robot cheack\" in fast scrabbing the html\n",
    "        sleep(5)"
   ]
  },
  {
   "cell_type": "code",
   "execution_count": 324,
   "id": "c7b4cda2-c651-482f-9e99-79780ad4d9f7",
   "metadata": {},
   "outputs": [],
   "source": [
    "# Verify check"
   ]
  },
  {
   "cell_type": "code",
   "execution_count": 327,
   "id": "1bda007e-6371-484a-b0fa-ca1b1533aed1",
   "metadata": {},
   "outputs": [
    {
     "data": {
      "image/png": "[encoded data removed]",
      "text/plain": [
       "<PIL.PngImagePlugin.PngImageFile image mode=RGBA size=1920x1080 at 0x254C26B9A30>"
      ]
     },
     "execution_count": 327,
     "metadata": {},
     "output_type": "execute_result"
    }
   ],
   "source": [
    "from PIL import Image\n",
    "myImage = Image.open(\"Screenshot2.png\");\n",
    "myImage"
   ]
  },
  {
   "cell_type": "code",
   "execution_count": 328,
   "id": "bd88356c-164b-43fd-a893-0ce44aa7adf3",
   "metadata": {},
   "outputs": [
    {
     "data": {
      "image/png": "[encoded data removed]",
      "text/plain": [
       "<PIL.PngImagePlugin.PngImageFile image mode=RGBA size=1920x1080 at 0x254AF59F070>"
      ]
     },
     "execution_count": 328,
     "metadata": {},
     "output_type": "execute_result"
    }
   ],
   "source": [
    "myImage = Image.open(\"Screenshot1.png\");\n",
    "myImage"
   ]
  },
  {
   "cell_type": "markdown",
   "id": "ebd9023d-b58c-4a96-b938-cbfa10ceb891",
   "metadata": {},
   "source": [
    "## 1.3 Parse downloaded pages\n"
   ]
  },
  {
   "cell_type": "markdown",
   "id": "6a6d1628-0f10-46e2-a1c6-be547cd0079f",
   "metadata": {},
   "source": [
    "### Importing libraries"
   ]
  },
  {
   "cell_type": "code",
   "execution_count": 5,
   "id": "5732a725-0ec7-4b64-9c10-69e0371dd619",
   "metadata": {},
   "outputs": [],
   "source": [
    "# core libraries\n",
    "import requests\n",
    "from bs4 import BeautifulSoup\n",
    "import pandas as pd\n",
    "from datetime import datetime\n",
    "import re\n",
    "# usefull libraries to manage file in folder \n",
    "import os\n",
    "from natsort import natsorted\n",
    "# for time view\n",
    "from tqdm import tqdm"
   ]
  },
  {
   "cell_type": "markdown",
   "id": "0cfd85e2-c6e8-4576-8e87-e2498a9667fd",
   "metadata": {},
   "source": [
    "Because there are vary information to collect about an anime, to have a clear notebook we split in functions our parsing in the \"functions.py\" file.\n",
    "\n",
    "We divide the crawl in three function (or three part):\n",
    "* scrabbing_anime1:  Title, Type, number of Episode, Realease / End date\n",
    "* scrabbing_anime2:  number of Members, Score, Users, Rank, Popularity\n",
    "* scrabbing_anime3:  Synopsis, anime Related, anime Characters and Voices, anime Staff\n",
    "\n",
    "Also we have a function called: \n",
    "* parse_time:  a function that parse the date collected from the html in a datetime object\n",
    "\n",
    "The parsing process is this: we create a list called \"anime_info\" in which we collect all the info about an anime. Than using this list we create a dataframe which columns are coming from the \"attrs\" list (a list containing the title of each attributes) and save it as a .tsv file."
   ]
  },
  {
   "cell_type": "code",
   "execution_count": 6,
   "id": "ee40f334-20ac-4463-9e1c-b0116527625c",
   "metadata": {},
   "outputs": [],
   "source": [
    "# importing the functions on functions.py file\n",
    "import functions"
   ]
  },
  {
   "cell_type": "markdown",
   "id": "117aeb17-8606-4b8d-910e-a1df6d0fefee",
   "metadata": {},
   "source": [
    "Let's view the process with one anime"
   ]
  },
  {
   "cell_type": "code",
   "execution_count": 234,
   "id": "3defaa7a-288b-403e-82da-2f7922a1fc13",
   "metadata": {},
   "outputs": [],
   "source": [
    "# name of the columns \n",
    "attrs = [\"animeTitle\", \"animeType\", \"animeNumEpisode\",\"releaseDate\",\"endDate\",\"animeNumMembers\",\"animeScore\",\"animeUsers\",\"animeRank\",\n",
    "         \"animePopularity\",\"animeDescription\",\"animeRelated\",\"animeCharacters\",\"animeVoices\",\"animeStaff\"]\n",
    "\n",
    "# positioning \n",
    "folder = r\"./Anime_pages/page1/\"\n",
    "anime = \"anime_1.html\"\n",
    "\n",
    "# take the html of the file \n",
    "with open(folder+anime, \"r\",  encoding='utf-8') as fp:\n",
    "    soup = BeautifulSoup(fp, \"html.parser\")\n",
    "\n",
    "# collecting the information\n",
    "anime_info = []\n",
    "anime_info + functions.scrabbing_anime1(soup, anime_info)\n",
    "anime_info + functions.scrabbing_anime2(soup, anime_info)\n",
    "anime_info + functions.scrabbing_anime3(soup, anime_info)\n",
    "\n",
    "\n",
    "# Creating the DataFrame\n",
    "df = pd.DataFrame([anime_info], columns = attrs)\n",
    "# change attributes to str\n",
    "str_cols = [\"animeTitle\", \"animeType\", \"animeDescription\"]\n",
    "df[str_cols] = df[str_cols].astype(\"string\")\n",
    "# Creating the tsv file, take the anime number (the id)\n",
    "name = re.sub(\".html\",\"\",anime)\n",
    "df.to_csv(\"./tsv_anime/\"+name+\".tsv\", index = False, sep = \"\\t\")"
   ]
  },
  {
   "cell_type": "code",
   "execution_count": 235,
   "id": "4bb69295-701e-4e8e-afb4-b6e3a450de51",
   "metadata": {},
   "outputs": [
    {
     "name": "stdout",
     "output_type": "stream",
     "text": [
      "<class 'pandas.core.frame.DataFrame'>\n",
      "RangeIndex: 1 entries, 0 to 0\n",
      "Data columns (total 15 columns):\n",
      " #   Column            Non-Null Count  Dtype         \n",
      "---  ------            --------------  -----         \n",
      " 0   animeTitle        1 non-null      string        \n",
      " 1   animeType         1 non-null      string        \n",
      " 2   animeNumEpisode   1 non-null      int64         \n",
      " 3   releaseDate       1 non-null      datetime64[ns]\n",
      " 4   endDate           1 non-null      datetime64[ns]\n",
      " 5   animeNumMembers   1 non-null      int64         \n",
      " 6   animeScore        1 non-null      float64       \n",
      " 7   animeUsers        1 non-null      int64         \n",
      " 8   animeRank         1 non-null      int64         \n",
      " 9   animePopularity   1 non-null      int64         \n",
      " 10  animeDescription  1 non-null      string        \n",
      " 11  animeRelated      1 non-null      object        \n",
      " 12  animeCharacters   1 non-null      object        \n",
      " 13  animeVoices       1 non-null      object        \n",
      " 14  animeStaff        1 non-null      object        \n",
      "dtypes: datetime64[ns](2), float64(1), int64(5), object(4), string(3)\n",
      "memory usage: 248.0+ bytes\n"
     ]
    }
   ],
   "source": [
    "# type cheaking \n",
    "df.info()"
   ]
  },
  {
   "cell_type": "markdown",
   "id": "7131c86d-1b47-4025-9021-82e2722e09e5",
   "metadata": {},
   "source": [
    "For all the anime we proceed in this way:"
   ]
  },
  {
   "cell_type": "code",
   "execution_count": 62,
   "id": "62885c30-6e7d-4eb5-ad69-670ba16963ff",
   "metadata": {},
   "outputs": [
    {
     "name": "stderr",
     "output_type": "stream",
     "text": [
      "100%|████████████████████████████████████████████████████████████████████████████████| 383/383 [53:29<00:00,  8.38s/it]\n"
     ]
    }
   ],
   "source": [
    "attrs = [\"animeTitle\", \"animeType\", \"animeNumEpisode\",\"releaseDate\",\"endDate\",\"animeNumMembers\",\"animeScore\",\"animeUsers\",\"animeRank\",\n",
    "         \"animePopularity\",\"animeDescription\",\"animeRelated\",\"animeCharacters\",\"animeVoices\",\"animeStaff\"]\n",
    "\n",
    "\n",
    "# iterate from page 1 to 384 \n",
    "# ( remember the page are from 1 to 383 and range goes from 1 to 384 )\n",
    "for page in tqdm(range(1,384)):\n",
    "    # positioning\n",
    "    folder = \"./Anime_pages/page\"+str(page)\n",
    "    # iterate over the \"ordered\" list of anime\n",
    "    for anime in natsorted(os.listdir(folder)):\n",
    "            # open the anime\n",
    "            with open(folder + \"/\" + anime, \"r\",  encoding='utf-8') as fp:\n",
    "                soup = BeautifulSoup(fp, \"html.parser\")\n",
    "            anime_info = []\n",
    "            anime_info + functions.scrabbing_anime1(soup, anime_info)\n",
    "            anime_info + functions.scrabbing_anime2(soup, anime_info)\n",
    "            anime_info + functions.scrabbing_anime3(soup, anime_info)\n",
    "        \n",
    "            # Creating the DataFrame\n",
    "            df = pd.DataFrame([anime_info], columns = attrs)\n",
    "            # change attributes to str\n",
    "            str_cols = [\"animeTitle\", \"animeType\", \"animeDescription\"]\n",
    "            df[str_cols] = df[str_cols].astype(\"string\")\n",
    "            # Creating the tsv file, take the anime number to match the txt url row and the tsv\n",
    "            name = re.sub(\".html\",\"\",anime)\n",
    "            df.to_csv(\"./tsv_anime/\"+name+\".tsv\", index = False, sep = \"\\t\")"
   ]
  },
  {
   "cell_type": "markdown",
   "id": "d1c49f81-0fd8-440a-a588-a0dc20507dc9",
   "metadata": {},
   "source": [
    "# [EX2] Search Engine\n"
   ]
  },
  {
   "cell_type": "markdown",
   "id": "dfe48fa2-04d5-4001-a03a-672a56b5fd19",
   "metadata": {},
   "source": [
    "## 2.0 Preprocessing the documents"
   ]
  },
  {
   "cell_type": "markdown",
   "id": "48c38772-4dbd-407d-86da-66c0612dae2e",
   "metadata": {},
   "source": [
    "### Let's collect our corpus of documents"
   ]
  },
  {
   "cell_type": "markdown",
   "id": "442c24fa-b23d-48b1-ad6c-43db28d8979d",
   "metadata": {},
   "source": [
    "First of all lets gather all the documents in one list.\n",
    "* documents: lists of document. Each document correspond to an anime description."
   ]
  },
  {
   "cell_type": "code",
   "execution_count": 66,
   "id": "91ccd4e2-a8e2-4fab-a225-f501ae3cf37d",
   "metadata": {},
   "outputs": [],
   "source": [
    "from tqdm import tqdm\n",
    "from natsort import natsorted\n",
    "import os\n",
    "import pandas as pd"
   ]
  },
  {
   "cell_type": "code",
   "execution_count": 67,
   "id": "21b598de-7990-4afe-8b1e-7f63abd0ff11",
   "metadata": {},
   "outputs": [
    {
     "name": "stderr",
     "output_type": "stream",
     "text": [
      "100%|███████████████████████████████████████████████████████████████████████████| 19116/19116 [02:16<00:00, 139.74it/s]\n"
     ]
    }
   ],
   "source": [
    "documents = []\n",
    "\n",
    "# positioning\n",
    "folder = r\"./tsv_anime/\"\n",
    "# iter over the file\n",
    "for anime in tqdm(natsorted(os.listdir(folder))):\n",
    "    df = pd.read_csv(folder+anime, sep = \"\\t\")\n",
    "    # take only the description\n",
    "    documents.append(df[\"animeDescription\"][0])"
   ]
  },
  {
   "cell_type": "code",
   "execution_count": 153,
   "id": "bbb63ede-ab31-4e54-9955-492a0cde5621",
   "metadata": {},
   "outputs": [
    {
     "data": {
      "text/plain": [
       "'After a horrific alchemy experiment goes wrong in the Elric household, brothers Edward and Alphonse are left in a catastrophic new reality. Ignoring the alchemical principle banning human transmutation, the boys attempted to bring their recently deceased mother back to life. Instead, they suffered brutal personal loss: Alphonse\\'s body disintegrated while Edward lost a leg and then sacrificed an arm to keep Alphonse\\'s soul in the physical realm by binding it to a hulking suit of armor.\\n\\n\\nThe brothers are rescued by their neighbor Pinako Rockbell and her granddaughter Winry. Known as a bio-mechanical engineering prodigy, Winry creates prosthetic limbs for Edward by utilizing \"automail,\" a tough, versatile metal used in robots and combat armor. After years of training, the Elric brothers set off on a quest to restore their bodies by locating the Philosopher\\'s Stone—a powerful gem that allows an alchemist to defy the traditional laws of Equivalent Exchange.\\n\\n\\nAs Edward becomes an infamous alchemist and gains the nickname \"Fullmetal,\" the boys\\' journey embroils them in a growing conspiracy that threatens the fate of the world.\\n\\n\\n[Written by MAL Rewrite]'"
      ]
     },
     "execution_count": 153,
     "metadata": {},
     "output_type": "execute_result"
    }
   ],
   "source": [
    "# view a document \n",
    "documents[0]"
   ]
  },
  {
   "cell_type": "markdown",
   "id": "32864fa8-f9cf-4877-8e42-9c72e1f79853",
   "metadata": {},
   "source": [
    "### Clean the documents"
   ]
  },
  {
   "cell_type": "markdown",
   "id": "db171cec-e83c-4045-a626-35c5af19995e",
   "metadata": {},
   "source": [
    "Now let's cleaning all the documents. This step is colled preprocessing. We follow this order:\n",
    "- 1) expand contraction type 1 + Normalization (capital lower words)\n",
    "- 2) splitting number from text (ex 25min) and removing contraction type 2 \n",
    "- 3) removing punctuation\n",
    "- 4) Tokanize. We divide the string in words.\n",
    "- 5) removing stopwords\n",
    "- 6) removing some other words or non-text string like […•♥→☆‘★] or japanese glyphe\n",
    "- 7) lemmatizing and stemming \n",
    "\n",
    "For contraction type 1 and 2 see below"
   ]
  },
  {
   "cell_type": "markdown",
   "id": "736e62a5-b82f-46ac-b56f-ef9d9533b6fe",
   "metadata": {},
   "source": [
    "Let's inspect the document to see what we can delete and what no:\n",
    "- for example: \"Philosopher's Stone—a powerful\" << This is dash\n",
    "- but \"bio-mechanical engineering\" << This is hyphen\n",
    "- but we also have \"15-year\" << hyphen <br>\n",
    "\n",
    "We decide to remove the hypen and the dash\n",
    "\n",
    "We encounter also some special characters like: … • ♥ →☆‘ . We remove them.\n",
    "\n",
    "At the end of a lot of anime description there is a \"Written MAL Rewrite\". We remove that.\n",
    "\n",
    "When tokanizing there is also the saxon genitive \" 's \": we remove that.\n",
    "\n",
    "Also we encounter a lot of contraction form: using wikipedia https://en.wikipedia.org/wiki/Wikipedia:List_of_English_contractions\n",
    "we store them in a dictionary and restore the long form.\n",
    "Using the same idea we have term like: min or sec, so we use a second dictionary to restore the original form."
   ]
  },
  {
   "cell_type": "code",
   "execution_count": 287,
   "id": "a458cc30-9923-4b49-9fbc-23b3c521566e",
   "metadata": {},
   "outputs": [],
   "source": [
    "# core libraries \n",
    "from nltk.tokenize import word_tokenize\n",
    "from nltk.corpus import stopwords\n",
    "from nltk.stem import PorterStemmer\n",
    "from nltk.stem.wordnet import WordNetLemmatizer\n",
    "import string\n",
    "import re\n",
    "\n",
    "# functions.py\n",
    "import functions"
   ]
  },
  {
   "cell_type": "code",
   "execution_count": 243,
   "id": "513616f7-5c6e-4bde-9b00-8710ab09c31d",
   "metadata": {},
   "outputs": [],
   "source": [
    "contractions = {\n",
    "\"ain't\": \"am not\",\n",
    "\"aren't\": \"are not\",\n",
    "\"can't\": \"cannot\",\n",
    "\"can't've\": \"cannot have\",\n",
    "\"'cause\": \"because\",\n",
    "\"could've\": \"could have\",\n",
    "\"couldn't\": \"could not\",\n",
    "\"couldn't've\": \"could not have\",\n",
    "\"didn't\": \"did not\",\n",
    "\"doesn't\": \"does not\",\n",
    "\"don't\": \"do not\",\n",
    "\"hadn't\": \"had not\",\n",
    "\"hadn't've\": \"had not have\",\n",
    "\"hasn't\": \"has not\",\n",
    "\"haven't\": \"have not\",\n",
    "\"he'd\": \"he had\",\n",
    "\"he'd've\": \"he would have\",\n",
    "\"he'll\": \"he shall\",\n",
    "\"he'll've\": \"he shall have\",\n",
    "\"he's\": \"he has\",\n",
    "\"how'd\": \"how did\",\n",
    "\"how'd'y\": \"how do you\",\n",
    "\"how'll\": \"how will\",\n",
    "\"how's\": \"how has\",\n",
    "\"i'd\": \"I had\",\n",
    "\"i'd've\": \"I would have\",\n",
    "\"i'll\": \"I shall\",\n",
    "\"i'll've\": \"I shall have\",\n",
    "\"i'm\": \"I am\",\n",
    "\"i've\": \"I have\",\n",
    "\"isn't\": \"is not\",\n",
    "\"it'd\": \"it had\",\n",
    "\"it'd've\": \"it would have\",\n",
    "\"it'll\": \"it shall\",\n",
    "\"it'll've\": \"it shall have\",\n",
    "\"it's\": \"it has\",\n",
    "\"let's\": \"let us\",\n",
    "\"ma'am\": \"madam\",\n",
    "\"mayn't\": \"may not\",\n",
    "\"might've\": \"might have\",\n",
    "\"mightn't\": \"might not\",\n",
    "\"mightn't've\": \"might not have\",\n",
    "\"must've\": \"must have\",\n",
    "\"mustn't\": \"must not\",\n",
    "\"mustn't've\": \"must not have\",\n",
    "\"needn't\": \"need not\",\n",
    "\"needn't've\": \"need not have\",\n",
    "\"o'clock\": \"of the clock\",\n",
    "\"oughtn't\": \"ought not\",\n",
    "\"oughtn't've\": \"ought not have\",\n",
    "\"shan't\": \"shall not\",\n",
    "\"sha'n't\": \"shall not\",\n",
    "\"shan't've\": \"shall not have\",\n",
    "\"she'd\": \"she had\",\n",
    "\"she'd've\": \"she would have\",\n",
    "\"she'll\": \"she shall\",\n",
    "\"she'll've\": \"she shall have\",\n",
    "\"she's\": \"she has\",\n",
    "\"should've\": \"should have\",\n",
    "\"shouldn't\": \"should not\",\n",
    "\"shouldn't've\": \"should not have\",\n",
    "\"so've\": \"so have\",\n",
    "\"so's\": \"so as\",\n",
    "\"that'd\": \"that would\",\n",
    "\"that'd've\": \"that would have\",\n",
    "\"that's\": \"that has\",\n",
    "\"there'd\": \"there had\",\n",
    "\"there'd've\": \"there would have\",\n",
    "\"there's\": \"there has\",\n",
    "\"they'd\": \"they had\",\n",
    "\"they'd've\": \"they would have\",\n",
    "\"they'll\": \"they shall\",\n",
    "\"they'll've\": \"they shall have\",\n",
    "\"they're\": \"they are\",\n",
    "\"they've\": \"they have\",\n",
    "\"to've\": \"to have\",\n",
    "\"wasn't\": \"was not\",\n",
    "\"we'd\": \"we had\",\n",
    "\"we'd've\": \"we would have\",\n",
    "\"we'll\": \"we will\",\n",
    "\"we'll've\": \"we will have\",\n",
    "\"we're\": \"we are\",\n",
    "\"we've\": \"we have\",\n",
    "\"weren't\": \"were not\",\n",
    "\"what'll\": \"what shall\",\n",
    "\"what'll've\": \"what shall have\",\n",
    "\"what're\": \"what are\",\n",
    "\"what's\": \"what has\",\n",
    "\"what've\": \"what have\",\n",
    "\"when's\": \"when has\",\n",
    "\"when've\": \"when have\",\n",
    "\"where'd\": \"where did\",\n",
    "\"where's\": \"where has\",\n",
    "\"where've\": \"where have\",\n",
    "\"who'll\": \"who shall\",\n",
    "\"who'll've\": \"who shall have\",\n",
    "\"who's\": \"who has\",\n",
    "\"who've\": \"who have\",\n",
    "\"why's\": \"why has\",\n",
    "\"why've\": \"why have\",\n",
    "\"will've\": \"will have\",\n",
    "\"won't\": \"will not\",\n",
    "\"won't've\": \"will not have\",\n",
    "\"would've\": \"would have\",\n",
    "\"wouldn't\": \"would not\",\n",
    "\"wouldn't've\": \"would not have\",\n",
    "\"y'all\": \"you all\",\n",
    "\"y'all'd\": \"you all would\",\n",
    "\"y'all'd've\": \"you all would have\",\n",
    "\"y'all're\": \"you all are\",\n",
    "\"y'all've\": \"you all have\",\n",
    "\"you'd\": \"you had\",\n",
    "\"you'd've\": \"you would have\",\n",
    "\"you'll\": \"you shall\",\n",
    "\"you'll've\": \"you shall have\",\n",
    "\"you're\": \"you are\",\n",
    "\"you've\": \"you have\"\n",
    "}"
   ]
  },
  {
   "cell_type": "code",
   "execution_count": 244,
   "id": "0a7976d3-d27f-4cee-a555-0d05b3421c2d",
   "metadata": {},
   "outputs": [],
   "source": [
    "contractions2 = {\n",
    "\"min\": \"minute\",\n",
    "\"sec\": \"second\"\n",
    "}"
   ]
  },
  {
   "cell_type": "code",
   "execution_count": 288,
   "id": "b52b75a8-7de8-46e6-9855-ba7c1c55cadb",
   "metadata": {},
   "outputs": [],
   "source": [
    "def pre_processing(documents):\n",
    "    stop = stopwords.words(\"english\")\n",
    "    lmtzr = WordNetLemmatizer()\n",
    "    remove = [\"Written\", \"MAL\", \"Rewrite\"]+[\"'s\"]+[\"\"]\n",
    "    ps = PorterStemmer()\n",
    "    \n",
    "    # removing contraction + Normalization\n",
    "    document_tmp = functions.replace_words(documents.lower(), contractions)\n",
    "    # splitting number and text \n",
    "    document_tmp = \" \".join(re.split(r\"([0-9]+)([a-z]+)\",document_tmp))\n",
    "    document_tmp = functions.replace_words(document_tmp, contractions2)\n",
    "    # removing punctuation\n",
    "    document_tmp = re.sub(r\"[{}\\—ー``\\\"'“''――]\".format(string.punctuation),\" \",document_tmp)\n",
    "    # Tokenizing \n",
    "    document_tmp = word_tokenize(document_tmp) \n",
    "    # removing stopwords\n",
    "    document_tmp = [ word for word in document_tmp if word not in stop]\n",
    "    # removing \"Written MAL Rewrite\" and we want only the alphanumeric text NO […•♥→☆‘★]\n",
    "    document_tmp = [ re.sub(r\"[^a-zA-Z0-9]\", \"\", word).strip() for word in document_tmp]\n",
    "    document_tmp = [ word for word in document_tmp if word not in remove]\n",
    "    # lemmatize\n",
    "    document_tmp = [ lmtzr.lemmatize(word) for word in document_tmp]\n",
    "    # stemming \n",
    "    document_tmp = [ ps.stem(word) for word in document_tmp]\n",
    "\n",
    "    return document_tmp"
   ]
  },
  {
   "cell_type": "markdown",
   "id": "4225ad3d-98f0-4c27-8c23-ef270152b86c",
   "metadata": {},
   "source": [
    "- documents_clean: is a list of list of the documents cleaned. Each list contain the tokenize cleaning document text."
   ]
  },
  {
   "cell_type": "code",
   "execution_count": 248,
   "id": "c530bb00-3b6d-4884-98dd-fc572a386b28",
   "metadata": {},
   "outputs": [],
   "source": [
    "# cleaning the documents\n",
    "documents_clean = []\n",
    "for d in documents:\n",
    "    documents_clean.append(pre_processing(d))"
   ]
  },
  {
   "cell_type": "markdown",
   "id": "1a07a57c-39ac-4dc6-a0ea-93ab9761e700",
   "metadata": {},
   "source": [
    "Let's view how a document is processed:"
   ]
  },
  {
   "cell_type": "code",
   "execution_count": 249,
   "id": "e6e76ba0-8066-434b-a4e6-a7a5ac1baed3",
   "metadata": {
    "tags": []
   },
   "outputs": [
    {
     "data": {
      "text/plain": [
       "['horrif',\n",
       " 'alchemi',\n",
       " 'experi',\n",
       " 'go',\n",
       " 'wrong',\n",
       " 'elric',\n",
       " 'household',\n",
       " 'brother',\n",
       " 'edward',\n",
       " 'alphons']"
      ]
     },
     "execution_count": 249,
     "metadata": {},
     "output_type": "execute_result"
    }
   ],
   "source": [
    "documents_clean[0][:10]"
   ]
  },
  {
   "cell_type": "markdown",
   "id": "aa627913-655d-40c8-ac0c-f25409e1386c",
   "metadata": {},
   "source": [
    "### Creating vocabulary"
   ]
  },
  {
   "cell_type": "code",
   "execution_count": 250,
   "id": "8b567f44-d07a-44ab-a901-e8a4070661bf",
   "metadata": {},
   "outputs": [],
   "source": [
    "# core libraries\n",
    "import itertools\n",
    "import numpy as np"
   ]
  },
  {
   "cell_type": "markdown",
   "id": "93517da8-3459-4164-a0dc-82dc1b689968",
   "metadata": {},
   "source": [
    "I will create a list of each unique word among the all documents"
   ]
  },
  {
   "cell_type": "code",
   "execution_count": 251,
   "id": "817d746d-419a-4959-9c2a-5c8396919692",
   "metadata": {},
   "outputs": [],
   "source": [
    "# the list of all unique words\n",
    "word_list = list(set(list(itertools.chain.from_iterable(documents_clean))))"
   ]
  },
  {
   "cell_type": "markdown",
   "id": "dd7251fe-abc5-4ac8-a9e3-f089eb58d171",
   "metadata": {},
   "source": [
    "Creating a dictionary that maps each word to an integer: we use the function zip to assign to each word an order integer."
   ]
  },
  {
   "cell_type": "code",
   "execution_count": 252,
   "id": "7cdfcdb5-a989-4cc9-ae82-b5db2e4f6baa",
   "metadata": {},
   "outputs": [],
   "source": [
    "vocabolary = dict(zip(word_list, range(len(word_list))))"
   ]
  },
  {
   "cell_type": "code",
   "execution_count": 253,
   "id": "bf040309-3bf3-449f-9b5b-517c5231c28a",
   "metadata": {},
   "outputs": [
    {
     "data": {
      "text/plain": [
       "36063"
      ]
     },
     "execution_count": 253,
     "metadata": {},
     "output_type": "execute_result"
    }
   ],
   "source": [
    "len(vocabolary)"
   ]
  },
  {
   "cell_type": "code",
   "execution_count": 254,
   "id": "dfdc7ba6-c11a-4492-8f4a-f9d32b027062",
   "metadata": {},
   "outputs": [
    {
     "name": "stdout",
     "output_type": "stream",
     "text": [
      "maetel --> 0\n",
      "giraff --> 1\n",
      "mikumo --> 2\n",
      "softwar --> 3\n",
      "aguri --> 4\n",
      "beg --> 5\n",
      "marriag --> 6\n",
      "ingeni --> 7\n",
      "senou --> 8\n",
      "flaminuteg --> 9\n"
     ]
    }
   ],
   "source": [
    "# view the vocabolary\n",
    "count = 0\n",
    "for key, mapped_int in vocabolary.items():\n",
    "    count +=1\n",
    "    print(key,\"-->\",mapped_int)\n",
    "    if count == 10: break"
   ]
  },
  {
   "cell_type": "markdown",
   "id": "66c13dae-d80f-488e-8497-90be83723b25",
   "metadata": {},
   "source": [
    "Saving the dictionary in a .json file"
   ]
  },
  {
   "cell_type": "code",
   "execution_count": 255,
   "id": "ce71aaea-a283-4696-b6f5-ae27e516f8f7",
   "metadata": {},
   "outputs": [],
   "source": [
    "import json\n",
    "\n",
    "file = open(\"vocabolary.json\", \"w\", encoding = \"utf-8\")\n",
    "json.dump(vocabolary, file)\n",
    "file.close()"
   ]
  },
  {
   "cell_type": "markdown",
   "id": "63e00037-fcd6-4a93-9e0c-dd8a92ef3dab",
   "metadata": {},
   "source": [
    "Import the saved vocabolary."
   ]
  },
  {
   "cell_type": "code",
   "execution_count": 256,
   "id": "cfbab9ef-740a-43c2-a32d-b8cdfde670b6",
   "metadata": {},
   "outputs": [],
   "source": [
    "with open( \"vocabolary.json\" ) as f:\n",
    "    vocabolary = json.load( f )"
   ]
  },
  {
   "cell_type": "markdown",
   "id": "88af2280-f12e-4194-9a61-c3039ad9c01f",
   "metadata": {},
   "source": [
    "## 2.1. Conjunctive query"
   ]
  },
  {
   "cell_type": "markdown",
   "id": "becf4a9e-2b5e-43e1-9c4e-8f80d20af9be",
   "metadata": {},
   "source": [
    "For this type of search engine we need only to have a search engine based on the query appear or not in each documents. \n"
   ]
  },
  {
   "cell_type": "markdown",
   "id": "9bbcf152-bd00-47c9-8d2a-02891d697773",
   "metadata": {},
   "source": [
    "* ### Prepare the mapped document"
   ]
  },
  {
   "cell_type": "markdown",
   "id": "ec7a73e6-1c67-4491-9a94-3a8f92f15476",
   "metadata": {},
   "source": [
    "To do this we will create an array of documents of each len(document_j) in which thare are converted the word into integer based on the vocabolary\n",
    "\n",
    "We will use numpy array for time optimitation."
   ]
  },
  {
   "cell_type": "code",
   "execution_count": 257,
   "id": "1bdcc7ef-4848-4100-97c5-e1428f4a9a7b",
   "metadata": {},
   "outputs": [],
   "source": [
    "def word_to_int(document, vocabolary):\n",
    "    int_doc = np.zeros(len(document), dtype = np.int64)\n",
    "    # iterating over the document that has len(d)<<len(vocabolary)\n",
    "    # change the value of the document, otherwise remain zero\n",
    "    for i, word in enumerate(document):\n",
    "        # vocabolary[word] is the mapping function that return an integer i.e the index\n",
    "        int_doc[i] = vocabolary[word]\n",
    "        \n",
    "    return np.sort(int_doc)"
   ]
  },
  {
   "cell_type": "markdown",
   "id": "0c63c49f-534e-484d-a5cc-9227e4ee1551",
   "metadata": {},
   "source": [
    "* documents_mapped: is a list of list that have the words mapped"
   ]
  },
  {
   "cell_type": "code",
   "execution_count": 258,
   "id": "07504e7d-eba2-47ff-8532-b7169d3d3613",
   "metadata": {},
   "outputs": [],
   "source": [
    "documents_mapped = []\n",
    "for d in documents_clean:\n",
    "    documents_mapped.append(word_to_int(d,vocabolary))"
   ]
  },
  {
   "cell_type": "code",
   "execution_count": 259,
   "id": "f6aedaf5-5784-4750-a51e-97b224739d33",
   "metadata": {},
   "outputs": [
    {
     "data": {
      "text/plain": [
       "array([  529,   981,  1111,  1204,  1409,  1700,  1703,  1757,  2535,\n",
       "        2535,  3048,  3414,  3615,  4186,  4235,  4585,  4689,  5040,\n",
       "        5083,  5083,  5083,  5358,  5358,  5753,  5928,  5928,  6569,\n",
       "        6760,  7056,  7528,  7866,  7962,  7963,  8939,  9251,  9347,\n",
       "        9835, 10487, 10685, 10762, 10762, 10762, 10811, 10850, 10983,\n",
       "       11828, 12320, 12763, 12843, 13126, 13175, 13380, 13576, 14657,\n",
       "       14750, 14750, 14856, 15481, 15654, 15663, 15931, 15975, 16087,\n",
       "       16767, 17220, 17240, 17326, 17327, 17376, 17384, 17657, 19652,\n",
       "       19882, 19907, 20633, 20755, 20820, 20974, 20974, 21010, 21335,\n",
       "       21400, 21696, 21951, 22151, 23298, 23298, 23298, 23298, 23332,\n",
       "       23332, 23735, 24082, 24676, 24927, 25703, 26188, 26387, 26644,\n",
       "       27423, 27453, 27897, 29151, 29796, 31013, 31140, 31166, 31351,\n",
       "       31673, 32223, 33600, 33736, 35454, 35989], dtype=int64)"
      ]
     },
     "execution_count": 259,
     "metadata": {},
     "output_type": "execute_result"
    }
   ],
   "source": [
    "# view a docoument mapped \n",
    "documents_mapped[0]"
   ]
  },
  {
   "cell_type": "markdown",
   "id": "52fef522-d5f7-4127-964c-cd95014d209e",
   "metadata": {},
   "source": [
    "* ### Inverted Index v1"
   ]
  },
  {
   "cell_type": "code",
   "execution_count": 260,
   "id": "91eb8356-08f9-4b2b-9a0a-026601dc5599",
   "metadata": {},
   "outputs": [],
   "source": [
    "from collections import defaultdict  "
   ]
  },
  {
   "cell_type": "code",
   "execution_count": 261,
   "id": "6b4d7eb1-6ddf-41ed-a693-5066ef7f26c2",
   "metadata": {},
   "outputs": [],
   "source": [
    "# initialize the Inverted_index\n",
    "Inverted_index = defaultdict(list)"
   ]
  },
  {
   "cell_type": "markdown",
   "id": "79645f42-7309-4f1f-9dba-f9894e19fcbd",
   "metadata": {},
   "source": [
    "To compute the Inverted Index we iterating over each document. Every time we encounter a word (that is now a integer) we insert in the dictionary the id of the documents, which is the row index in documents_mapped or in our dataset of tsv / url.txt."
   ]
  },
  {
   "cell_type": "code",
   "execution_count": 262,
   "id": "eed87ad4-db34-45a2-8a68-5e9dc769976c",
   "metadata": {},
   "outputs": [],
   "source": [
    "for i,d in enumerate(documents_mapped):\n",
    "    for word in set(d):\n",
    "        Inverted_index[str(word)].append(i)"
   ]
  },
  {
   "cell_type": "code",
   "execution_count": 263,
   "id": "f63a71d0-fffa-4021-990c-6a9af19575c2",
   "metadata": {},
   "outputs": [
    {
     "name": "stdout",
     "output_type": "stream",
     "text": [
      "word:  14856 --> documents:  [0, 126, 284, 293, 410, 458, 491, 579, 806, 857, 875, 1105, 1118, 1121, 1173, 1202, 1284, 1829, 1917, 2205, 2289, 2422, 2616, 2723, 2781, 2941, 2969, 3205, 3556, 3681, 4006, 4056, 4331, 4474, 4814, 5150, 5222, 5770, 5937, 6310, 6603, 6838, 7044, 7755, 8004, 8447, 8492, 8698, 8770, 8983, 9047, 10123, 10235, 10897, 11056, 12617, 14549, 15357, 15412, 15660, 16067, 16660, 17314, 17685, 17717, 17722, 17795, 17971, 17974, 18011, 18069, 18244, 18316, 18401, 18728, 18766]\n"
     ]
    }
   ],
   "source": [
    "# let's view the Inverted_index\n",
    "count = 0\n",
    "for key, lis in Inverted_index.items():\n",
    "    count +=1\n",
    "    print(\"word: \",key,\"-->\",\"documents: \", lis)\n",
    "    if count == 1: break"
   ]
  },
  {
   "cell_type": "markdown",
   "id": "8149ab26-bdb5-43a8-9ebe-baf6df8d3047",
   "metadata": {},
   "source": [
    "Saving the Inverted Index in memory"
   ]
  },
  {
   "cell_type": "code",
   "execution_count": 264,
   "id": "82af7614-dafb-4070-ba00-a21b7063c98d",
   "metadata": {},
   "outputs": [],
   "source": [
    "import json\n",
    "\n",
    "file = open(\"Inverted_index_v1.json\", \"w\", encoding = \"utf-8\")\n",
    "json.dump(Inverted_index, file)\n",
    "file.close()"
   ]
  },
  {
   "cell_type": "markdown",
   "id": "d4647494-4d12-41b9-9cdf-988294388ff9",
   "metadata": {},
   "source": [
    "Import the saved inverted index"
   ]
  },
  {
   "cell_type": "code",
   "execution_count": 265,
   "id": "a7f6587f-77f5-4eab-8d76-fd6da702e7f4",
   "metadata": {},
   "outputs": [],
   "source": [
    "with open( \"Inverted_index_v1.json\" ) as f:\n",
    "    Inverted_index = json.load( f )"
   ]
  },
  {
   "cell_type": "markdown",
   "id": "013b6073-4de3-4a06-bd0c-01ac37755287",
   "metadata": {},
   "source": [
    "* ### Searching"
   ]
  },
  {
   "cell_type": "markdown",
   "id": "f6f3df98-66da-4612-bc57-413000bef3f7",
   "metadata": {},
   "source": [
    "How it work:\n",
    "\n",
    "* Given in input a query we first of all preprocessing like a document;\n",
    "* then using the Inverted index we exctract the list corrisponding to each element (word) of the query, store them in a list of set (for intersection pourpose) called \"index\". \n",
    "* Than we intersect all the set for obtain the documents that match ALL the query elements.\n",
    "* In the end we create the dataframe with the desire output."
   ]
  },
  {
   "cell_type": "code",
   "execution_count": 266,
   "id": "92d64cd9-f197-4c3c-9479-204a5028a68a",
   "metadata": {},
   "outputs": [],
   "source": [
    "def search_engine_v1(query_text):\n",
    "    # pre-processing the query\n",
    "    query_clean = pre_processing(query_text)\n",
    "    query_int = word_to_int(query_clean, vocabolary)\n",
    "    \n",
    "    # for each element of the query we can obtain the list of doc \n",
    "    # in which the query element appears\n",
    "    index = []\n",
    "    \n",
    "    for query in query_int:\n",
    "        # creating a set of index (set is for intersection pourpose)\n",
    "        index.append(set(Inverted_index[str(query)]))\n",
    "    \n",
    "    # intersect and obtain the documents that contain ALL the query\n",
    "    index = list(index[0].intersection(*index))\n",
    "    \n",
    "    # taken the url of the anime list\n",
    "    with open(\"./anime_url.txt\", \"r\", encoding = \"utf-8\") as f:\n",
    "        lines = f.readlines()\n",
    "        \n",
    "    # we are searching for the anime and the url corrisponding to the index\n",
    "    # we found\n",
    "    anime_path = []\n",
    "    url = []\n",
    "\n",
    "    for idx in index:\n",
    "        # we need the +1 because we start indexing from 1\n",
    "        name = \"/anime_\"+str(idx+1)+\".tsv\"\n",
    "        anime_path.append(name)\n",
    "        url.append(lines[idx])\n",
    "\n",
    "    # creating the dataframe for view the result\n",
    "    animes_df = []\n",
    "    # folder of the anime_tsv\n",
    "    folder = r\"./tsv_anime/\"\n",
    "    # column I want\n",
    "    cols = [\"animeTitle\",\"animeDescription\"]\n",
    "    for i,anime_tsv in enumerate(anime_path):\n",
    "        df = pd.read_csv(folder+anime_tsv, sep = \"\\t\", usecols = cols)\n",
    "        # creating new column with the url\n",
    "        df[\"animeURL\"] = url[i]\n",
    "        animes_df.append(df)\n",
    "    \n",
    "    frame = pd.concat(animes_df, ignore_index = True)\n",
    "    display(frame)"
   ]
  },
  {
   "cell_type": "markdown",
   "id": "b2c87806-b9d0-4b94-ae76-79f2c1aad4ee",
   "metadata": {},
   "source": [
    "#### Input and search"
   ]
  },
  {
   "cell_type": "code",
   "execution_count": 267,
   "id": "239fd85f-aadd-47db-9475-42cbf6226172",
   "metadata": {},
   "outputs": [
    {
     "name": "stdin",
     "output_type": "stream",
     "text": [
      "Insert the query:  battle pirate\n"
     ]
    },
    {
     "data": {
      "text/html": [
       "<div>\n",
       "<style scoped>\n",
       "    .dataframe tbody tr th:only-of-type {\n",
       "        vertical-align: middle;\n",
       "    }\n",
       "\n",
       "    .dataframe tbody tr th {\n",
       "        vertical-align: top;\n",
       "    }\n",
       "\n",
       "    .dataframe thead th {\n",
       "        text-align: right;\n",
       "    }\n",
       "</style>\n",
       "<table border=\"1\" class=\"dataframe\">\n",
       "  <thead>\n",
       "    <tr style=\"text-align: right;\">\n",
       "      <th></th>\n",
       "      <th>animeTitle</th>\n",
       "      <th>animeDescription</th>\n",
       "      <th>animeURL</th>\n",
       "    </tr>\n",
       "  </thead>\n",
       "  <tbody>\n",
       "    <tr>\n",
       "      <th>0</th>\n",
       "      <td>Beast Wars Second Chou Seimeitai Transformers:...</td>\n",
       "      <td>The movie begins with a space battle between t...</td>\n",
       "      <td>https://myanimelist.net/anime/5289/Beast_Wars_...</td>\n",
       "    </tr>\n",
       "    <tr>\n",
       "      <th>1</th>\n",
       "      <td>Last Exile: Ginyoku no Fam Movie - Over the Wi...</td>\n",
       "      <td>A recap film with some new scenes.\\n\\n\\nThe Sk...</td>\n",
       "      <td>https://myanimelist.net/anime/31866/Last_Exile...</td>\n",
       "    </tr>\n",
       "    <tr>\n",
       "      <th>2</th>\n",
       "      <td>One Piece</td>\n",
       "      <td>Gol D. Roger was known as the \"Pirate King,\" t...</td>\n",
       "      <td>https://myanimelist.net/anime/21/One_Piece\\n</td>\n",
       "    </tr>\n",
       "    <tr>\n",
       "      <th>3</th>\n",
       "      <td>Battle Can²</td>\n",
       "      <td>Join this band of femme fatales as they sacrif...</td>\n",
       "      <td>https://myanimelist.net/anime/6025/Battle_Can²\\n</td>\n",
       "    </tr>\n",
       "    <tr>\n",
       "      <th>4</th>\n",
       "      <td>Gintama.</td>\n",
       "      <td>After joining the resistance against the bakuf...</td>\n",
       "      <td>https://myanimelist.net/anime/34096/Gintama\\n</td>\n",
       "    </tr>\n",
       "    <tr>\n",
       "      <th>5</th>\n",
       "      <td>One Piece Movie 2: Nejimaki-jima no Daibouken</td>\n",
       "      <td>Informed by the Thief Brothers his ship has be...</td>\n",
       "      <td>https://myanimelist.net/anime/460/One_Piece_Mo...</td>\n",
       "    </tr>\n",
       "    <tr>\n",
       "      <th>6</th>\n",
       "      <td>A-Ko The Versus</td>\n",
       "      <td>A-ko and B-ko are bounty hunters in an untamed...</td>\n",
       "      <td>https://myanimelist.net/anime/1295/A-Ko_The_Ve...</td>\n",
       "    </tr>\n",
       "    <tr>\n",
       "      <th>7</th>\n",
       "      <td>Slayers Revolution</td>\n",
       "      <td>Having lost the Sword of Light in the previous...</td>\n",
       "      <td>https://myanimelist.net/anime/4028/Slayers_Rev...</td>\n",
       "    </tr>\n",
       "    <tr>\n",
       "      <th>8</th>\n",
       "      <td>Gintama Movie 2: Kanketsu-hen - Yorozuya yo Ei...</td>\n",
       "      <td>When Gintoki apprehends a movie pirate at a pr...</td>\n",
       "      <td>https://myanimelist.net/anime/15335/Gintama_Mo...</td>\n",
       "    </tr>\n",
       "    <tr>\n",
       "      <th>9</th>\n",
       "      <td>One Piece Movie 1</td>\n",
       "      <td>Woonan is the legendary Great Gold Pirate, ear...</td>\n",
       "      <td>https://myanimelist.net/anime/459/One_Piece_Mo...</td>\n",
       "    </tr>\n",
       "    <tr>\n",
       "      <th>10</th>\n",
       "      <td>Seihou Tenshi Angel Links</td>\n",
       "      <td>Li Meifon is the head of a free, no expenses p...</td>\n",
       "      <td>https://myanimelist.net/anime/1226/Seihou_Tens...</td>\n",
       "    </tr>\n",
       "    <tr>\n",
       "      <th>11</th>\n",
       "      <td>One Piece: Oounabara ni Hirake! Dekkai Dekkai ...</td>\n",
       "      <td>The story opens on Pirate Zap's ship, where tw...</td>\n",
       "      <td>https://myanimelist.net/anime/1237/One_Piece__...</td>\n",
       "    </tr>\n",
       "    <tr>\n",
       "      <th>12</th>\n",
       "      <td>One Piece 3D2Y: Ace no shi wo Koete! Luffy Nak...</td>\n",
       "      <td>After suffering great personal loss during the...</td>\n",
       "      <td>https://myanimelist.net/anime/25161/One_Piece_...</td>\n",
       "    </tr>\n",
       "    <tr>\n",
       "      <th>13</th>\n",
       "      <td>Last Exile: Ginyoku no Fam</td>\n",
       "      <td>\"I've made up my mind! I'm going to steal that...</td>\n",
       "      <td>https://myanimelist.net/anime/10336/Last_Exile...</td>\n",
       "    </tr>\n",
       "  </tbody>\n",
       "</table>\n",
       "</div>"
      ],
      "text/plain": [
       "                                           animeTitle  \\\n",
       "0   Beast Wars Second Chou Seimeitai Transformers:...   \n",
       "1   Last Exile: Ginyoku no Fam Movie - Over the Wi...   \n",
       "2                                           One Piece   \n",
       "3                                         Battle Can²   \n",
       "4                                            Gintama.   \n",
       "5       One Piece Movie 2: Nejimaki-jima no Daibouken   \n",
       "6                                     A-Ko The Versus   \n",
       "7                                  Slayers Revolution   \n",
       "8   Gintama Movie 2: Kanketsu-hen - Yorozuya yo Ei...   \n",
       "9                                   One Piece Movie 1   \n",
       "10                          Seihou Tenshi Angel Links   \n",
       "11  One Piece: Oounabara ni Hirake! Dekkai Dekkai ...   \n",
       "12  One Piece 3D2Y: Ace no shi wo Koete! Luffy Nak...   \n",
       "13                         Last Exile: Ginyoku no Fam   \n",
       "\n",
       "                                     animeDescription  \\\n",
       "0   The movie begins with a space battle between t...   \n",
       "1   A recap film with some new scenes.\\n\\n\\nThe Sk...   \n",
       "2   Gol D. Roger was known as the \"Pirate King,\" t...   \n",
       "3   Join this band of femme fatales as they sacrif...   \n",
       "4   After joining the resistance against the bakuf...   \n",
       "5   Informed by the Thief Brothers his ship has be...   \n",
       "6   A-ko and B-ko are bounty hunters in an untamed...   \n",
       "7   Having lost the Sword of Light in the previous...   \n",
       "8   When Gintoki apprehends a movie pirate at a pr...   \n",
       "9   Woonan is the legendary Great Gold Pirate, ear...   \n",
       "10  Li Meifon is the head of a free, no expenses p...   \n",
       "11  The story opens on Pirate Zap's ship, where tw...   \n",
       "12  After suffering great personal loss during the...   \n",
       "13  \"I've made up my mind! I'm going to steal that...   \n",
       "\n",
       "                                             animeURL  \n",
       "0   https://myanimelist.net/anime/5289/Beast_Wars_...  \n",
       "1   https://myanimelist.net/anime/31866/Last_Exile...  \n",
       "2        https://myanimelist.net/anime/21/One_Piece\\n  \n",
       "3    https://myanimelist.net/anime/6025/Battle_Can²\\n  \n",
       "4       https://myanimelist.net/anime/34096/Gintama\\n  \n",
       "5   https://myanimelist.net/anime/460/One_Piece_Mo...  \n",
       "6   https://myanimelist.net/anime/1295/A-Ko_The_Ve...  \n",
       "7   https://myanimelist.net/anime/4028/Slayers_Rev...  \n",
       "8   https://myanimelist.net/anime/15335/Gintama_Mo...  \n",
       "9   https://myanimelist.net/anime/459/One_Piece_Mo...  \n",
       "10  https://myanimelist.net/anime/1226/Seihou_Tens...  \n",
       "11  https://myanimelist.net/anime/1237/One_Piece__...  \n",
       "12  https://myanimelist.net/anime/25161/One_Piece_...  \n",
       "13  https://myanimelist.net/anime/10336/Last_Exile...  "
      ]
     },
     "metadata": {},
     "output_type": "display_data"
    }
   ],
   "source": [
    "# input query \n",
    "query_text = input(\"Insert the query: \")\n",
    "\n",
    "search_engine_v1(query_text)"
   ]
  },
  {
   "cell_type": "markdown",
   "id": "bc1666fe-7af7-4342-b656-53e7139f5219",
   "metadata": {},
   "source": [
    "# 2.2 Conjunctive query & Ranking score"
   ]
  },
  {
   "cell_type": "markdown",
   "id": "f439542d-3a9e-41a8-988c-08e51515b310",
   "metadata": {},
   "source": [
    "Now we want for our Inverted_index two element:\n",
    "\n",
    "* $\\text{tf}_{i,j}$: occurancy of term $j$ in document $i$\n",
    "* $\\text{idf}_{j}$: Inverse Document Frequency of term $j$"
   ]
  },
  {
   "cell_type": "markdown",
   "id": "ff21b408-1040-4301-98e3-7c39eea2d7b0",
   "metadata": {},
   "source": [
    "Define:\n",
    "\n",
    "* n_words = total number of words in vocabolary\n",
    "* n = number of documents"
   ]
  },
  {
   "cell_type": "code",
   "execution_count": 268,
   "id": "aa2fee55-53c3-4652-87cc-98766fb41c6b",
   "metadata": {},
   "outputs": [],
   "source": [
    "n = len(documents)\n",
    "n_words = len(vocabolary)"
   ]
  },
  {
   "cell_type": "markdown",
   "id": "05690d2a-4b89-4b23-ac20-a0b8ca88a8a0",
   "metadata": {},
   "source": [
    "Creating the $\\text{tf}_{i,j}$ matrix:"
   ]
  },
  {
   "cell_type": "markdown",
   "id": "f8c63be6-41e0-41b0-b858-4bb049d15e7a",
   "metadata": {},
   "source": [
    "* ### Prepare the mapped document"
   ]
  },
  {
   "cell_type": "markdown",
   "id": "c3ab231d-791e-4956-8a02-bd45e2f761e8",
   "metadata": {},
   "source": [
    "To do this we will create an array of documents of each len(document_j) in which thare are converted the word into integer based on the vocabolary\n",
    "\n",
    "We will use numpy array for time optimitation."
   ]
  },
  {
   "cell_type": "code",
   "execution_count": 269,
   "id": "4932e208-917d-4346-b32f-cb6918c5e09d",
   "metadata": {},
   "outputs": [],
   "source": [
    "# function that map document text to the relative tf\n",
    "\n",
    "def word_to_int2(document, vocabolary):\n",
    "    int_doc = np.zeros(len(vocabolary), dtype = np.int64)\n",
    "    # iterating over the document that has len(d)<<len(vocabolary)\n",
    "    # change the value of the document, otherwise remain zero\n",
    "    for word in document:\n",
    "        # vocabolary[word] is the mapping function that return an integer i.e the index\n",
    "        int_doc[vocabolary[word]] += 1\n",
    "        \n",
    "    return int_doc"
   ]
  },
  {
   "cell_type": "markdown",
   "id": "deb9234a-8157-4b73-ba6f-4468237c8f36",
   "metadata": {},
   "source": [
    "* $tf$: is a list of list that have the words mapped with is count"
   ]
  },
  {
   "cell_type": "code",
   "execution_count": 270,
   "id": "f2d33628-d1f9-45be-9440-ef8ce8d4a1d9",
   "metadata": {},
   "outputs": [],
   "source": [
    "tf = []\n",
    "for d in documents_clean:\n",
    "    tf.append(word_to_int2(d,vocabolary))"
   ]
  },
  {
   "cell_type": "code",
   "execution_count": 271,
   "id": "42ec7e3d-cf53-49fb-a503-844a1ca69bdf",
   "metadata": {},
   "outputs": [
    {
     "data": {
      "text/plain": [
       "array([1, 1, 1, 1, 1, 1, 1, 1, 2, 1, 1, 1, 1, 1, 1, 1, 1, 3, 2, 1, 2, 1,\n",
       "       1, 1, 1, 1, 1, 1, 1, 1, 1, 1, 1, 1, 3, 1, 1, 1, 1, 1, 1, 1, 1, 1,\n",
       "       1, 1, 1, 2, 1, 1, 1, 1, 1, 1, 1, 1, 1, 1, 1, 1, 1, 1, 1, 1, 1, 1,\n",
       "       1, 1, 1, 2, 1, 1, 1, 1, 1, 1, 4, 2, 1, 1, 1, 1, 1, 1, 1, 1, 1, 1,\n",
       "       1, 1, 1, 1, 1, 1, 1, 1, 1, 1, 1, 1, 1], dtype=int64)"
      ]
     },
     "execution_count": 271,
     "metadata": {},
     "output_type": "execute_result"
    }
   ],
   "source": [
    "# view a doc\n",
    "tf[0][tf[0]>0]"
   ]
  },
  {
   "cell_type": "markdown",
   "id": "c5c5ddbe-0926-4cb3-a67c-ffd6025084e5",
   "metadata": {},
   "source": [
    "Creating the $\\text{idf}_{j}$ array:\n",
    "* I need the $n_j$: number of documents containing term j"
   ]
  },
  {
   "cell_type": "code",
   "execution_count": 272,
   "id": "607f1ac3-d808-45e6-869c-b9bb42cebdb8",
   "metadata": {},
   "outputs": [],
   "source": [
    "nj = np.zeros(n_words, dtype = np.float64)\n",
    "\n",
    "# we create a numpy array of length n_words\n",
    "# for each docoument we take the unique set of word\n",
    "# and count\n",
    "for d in documents_mapped:\n",
    "    for word in set(d):\n",
    "        nj[word] += 1"
   ]
  },
  {
   "cell_type": "code",
   "execution_count": 273,
   "id": "eeadabd9-012f-42a1-9f64-bec065de5cea",
   "metadata": {},
   "outputs": [
    {
     "data": {
      "text/plain": [
       "array([9., 9., 3., ..., 3., 1., 4.])"
      ]
     },
     "execution_count": 273,
     "metadata": {},
     "output_type": "execute_result"
    }
   ],
   "source": [
    "# view\n",
    "nj"
   ]
  },
  {
   "cell_type": "code",
   "execution_count": 274,
   "id": "83a840be-d3e4-4c75-95c9-ee4ee11a216a",
   "metadata": {},
   "outputs": [],
   "source": [
    "# creating idf_j\n",
    "\n",
    "idf = np.zeros(n_words, dtype = np.float64)\n",
    "idf = np.log(n/nj) / np.log(n)"
   ]
  },
  {
   "cell_type": "markdown",
   "id": "1bd8fced-f7bf-427f-bbe4-22378830f385",
   "metadata": {},
   "source": [
    "$\\text{tfIdf}_{ij} = \\text{tf}_{ij} * \\text{idf}_{j} $"
   ]
  },
  {
   "cell_type": "code",
   "execution_count": 275,
   "id": "ca7995f5-e70c-471f-b9b2-86fb4ea5e5c1",
   "metadata": {},
   "outputs": [],
   "source": [
    "tfIdf = np.multiply(tf,idf)"
   ]
  },
  {
   "cell_type": "code",
   "execution_count": 276,
   "id": "e54440fc-9659-4446-871a-622eff7ac9ad",
   "metadata": {},
   "outputs": [
    {
     "data": {
      "text/plain": [
       "(19116, 36063)"
      ]
     },
     "execution_count": 276,
     "metadata": {},
     "output_type": "execute_result"
    }
   ],
   "source": [
    "np.shape(tfIdf)"
   ]
  },
  {
   "cell_type": "markdown",
   "id": "04fcffd8-a8e2-44ee-9747-e16296a6fabc",
   "metadata": {},
   "source": [
    "* ### Inverted index v2"
   ]
  },
  {
   "cell_type": "code",
   "execution_count": 277,
   "id": "b41e71d9-c111-4cea-a5a6-eb67a9d4c21e",
   "metadata": {},
   "outputs": [],
   "source": [
    "from collections import defaultdict  "
   ]
  },
  {
   "cell_type": "code",
   "execution_count": 278,
   "id": "c1993279-3ab9-4f5a-8c47-a0dc13889869",
   "metadata": {},
   "outputs": [],
   "source": [
    "Inverted_indexv2 = defaultdict(list)"
   ]
  },
  {
   "cell_type": "markdown",
   "id": "f15b0f26-90f6-412f-a99f-bfdfb68cb4ef",
   "metadata": {},
   "source": [
    "To compute the Inverted Index we iterating over each document. Every time we encounter a word (that is now a integer) we insert in the dictionary the __tupla__ of _id_ of the documents and the _tfIdf_."
   ]
  },
  {
   "cell_type": "code",
   "execution_count": 279,
   "id": "6dbbc6bf-ed91-4ea4-b5af-a520a9346fab",
   "metadata": {},
   "outputs": [],
   "source": [
    "for i,d in enumerate(documents_mapped):\n",
    "    for word in set(d):\n",
    "        # append (idd_i, tfidf_ij)\n",
    "        Inverted_indexv2[str(word)].append((i,tfIdf[i,int(word)]))"
   ]
  },
  {
   "cell_type": "code",
   "execution_count": 280,
   "id": "c39f6763-01a7-4da0-bd61-135beb9a3fb3",
   "metadata": {},
   "outputs": [
    {
     "name": "stdout",
     "output_type": "stream",
     "text": [
      "14856 --> [(0, 0.5607009621666353), (126, 0.5607009621666353), (284, 0.5607009621666353), (293, 0.5607009621666353), (410, 0.5607009621666353), (458, 0.5607009621666353), (491, 1.1214019243332707), (579, 0.5607009621666353), (806, 0.5607009621666353), (857, 0.5607009621666353), (875, 0.5607009621666353), (1105, 0.5607009621666353), (1118, 0.5607009621666353), (1121, 0.5607009621666353), (1173, 0.5607009621666353), (1202, 0.5607009621666353), (1284, 0.5607009621666353), (1829, 0.5607009621666353), (1917, 0.5607009621666353), (2205, 0.5607009621666353), (2289, 0.5607009621666353), (2422, 0.5607009621666353), (2616, 0.5607009621666353), (2723, 0.5607009621666353), (2781, 0.5607009621666353), (2941, 0.5607009621666353), (2969, 0.5607009621666353), (3205, 0.5607009621666353), (3556, 0.5607009621666353), (3681, 0.5607009621666353), (4006, 0.5607009621666353), (4056, 0.5607009621666353), (4331, 0.5607009621666353), (4474, 0.5607009621666353), (4814, 1.1214019243332707), (5150, 0.5607009621666353), (5222, 0.5607009621666353), (5770, 0.5607009621666353), (5937, 0.5607009621666353), (6310, 0.5607009621666353), (6603, 0.5607009621666353), (6838, 1.1214019243332707), (7044, 0.5607009621666353), (7755, 0.5607009621666353), (8004, 0.5607009621666353), (8447, 0.5607009621666353), (8492, 0.5607009621666353), (8698, 0.5607009621666353), (8770, 0.5607009621666353), (8983, 0.5607009621666353), (9047, 0.5607009621666353), (10123, 0.5607009621666353), (10235, 0.5607009621666353), (10897, 0.5607009621666353), (11056, 0.5607009621666353), (12617, 0.5607009621666353), (14549, 0.5607009621666353), (15357, 1.1214019243332707), (15412, 0.5607009621666353), (15660, 0.5607009621666353), (16067, 0.5607009621666353), (16660, 0.5607009621666353), (17314, 0.5607009621666353), (17685, 0.5607009621666353), (17717, 0.5607009621666353), (17722, 0.5607009621666353), (17795, 1.1214019243332707), (17971, 0.5607009621666353), (17974, 0.5607009621666353), (18011, 0.5607009621666353), (18069, 0.5607009621666353), (18244, 0.5607009621666353), (18316, 0.5607009621666353), (18401, 2.2428038486665414), (18728, 0.5607009621666353), (18766, 0.5607009621666353)]\n"
     ]
    }
   ],
   "source": [
    "# view\n",
    "count = 0\n",
    "for key, lis in Inverted_indexv2.items():\n",
    "    count +=1\n",
    "    print(key,\"-->\",lis)\n",
    "    if count == 1: break"
   ]
  },
  {
   "cell_type": "markdown",
   "id": "2226b211-53fc-4f53-83ab-b0fa96d8ce8b",
   "metadata": {},
   "source": [
    "Saving the Inverted Index in memory"
   ]
  },
  {
   "cell_type": "code",
   "execution_count": 281,
   "id": "6bca45c3-c2cf-485d-a6b6-8cec11c42d77",
   "metadata": {},
   "outputs": [],
   "source": [
    "import json\n",
    "\n",
    "file = open(\"Inverted_index_v2.json\", \"w\", encoding = \"utf-8\")\n",
    "json.dump(Inverted_indexv2, file)\n",
    "file.close()"
   ]
  },
  {
   "cell_type": "markdown",
   "id": "1e575920-efa2-4419-9ebc-bfbbb347064c",
   "metadata": {},
   "source": [
    "Import the saved inverted index"
   ]
  },
  {
   "cell_type": "code",
   "execution_count": 282,
   "id": "5cf55b5e-0619-4959-952b-d17a50a95934",
   "metadata": {},
   "outputs": [],
   "source": [
    "with open( \"Inverted_index_v2.json\" ) as f:\n",
    "    Inverted_indexv2 = json.load( f )"
   ]
  },
  {
   "cell_type": "markdown",
   "id": "4900ac9f-0b70-4c29-8fc6-92c69ccb8212",
   "metadata": {},
   "source": [
    "* ### Searching"
   ]
  },
  {
   "cell_type": "markdown",
   "id": "1834ad45-9fc0-46f1-9794-a4f7fe5dc338",
   "metadata": {},
   "source": [
    "To better have a use of the Inverted Index + Ranking we suppose that a __query is input as a text of unique word__.\n",
    "\n",
    "We define than the cosine similarity as:\n",
    "$$\n",
    "\\begin{equation}\n",
    "\\cos(q,d^i) =  \\frac{\\sum_{j: \\hspace{0.1cm}  q_j=1} \\text{tfIdf}_{ij}}{||d^i||*||q||}\n",
    "\\end{equation}\n",
    "$$\n",
    "\n",
    "Under this assumption we observe that: $||q|| = \\sqrt(len(q)$\n",
    "\n",
    "Recall: $d^i = [\\text{tfIdf}_{i1}, \\text{tfIdf}_{i2}, \\ldots]$ "
   ]
  },
  {
   "cell_type": "code",
   "execution_count": 283,
   "id": "b4a1776e-65fb-4c75-a43c-662ebc8d56b3",
   "metadata": {},
   "outputs": [],
   "source": [
    "# libraries to compute the manage the heap\n",
    "import heapq"
   ]
  },
  {
   "cell_type": "markdown",
   "id": "5b132a34-94f5-4db8-a466-77e96e68b218",
   "metadata": {},
   "source": [
    "How is it work:\n",
    "\n",
    "* we take a query text in input and preprocessing like a normal document. Than we obtain the \"query_int\" array of 0 and 1: q[j] = 1 if word_j in q, 0 otherwise;\n",
    "* then using the Inverted index we exctract the list of tuple corrisponding to each element (word) of the query. We store also the len of each match list and the maximum list (we need it to manage the pointer of different length list);\n",
    "* We now have a function \"intersection_all\" that return two things: a boolean variable, enough that is True if I have at least k document that match the all query and match list, that return the list of the index that match all the query if true or the original match list if False;\n",
    "* Than the algorithm goes in two part:<br>\n",
    "$\\hspace{1cm}$  1. if True (I have at least k document) we compute the score of element in the list and return the top k<br>\n",
    "$\\hspace{1cm}$  2. if False, we compute the score af all the document and return the score ordered of the matches\n",
    "* In the end: we create the dataframe of the documents ranked."
   ]
  },
  {
   "cell_type": "code",
   "execution_count": 284,
   "id": "e5656c09-fc6f-4c40-bc75-558480b0f785",
   "metadata": {},
   "outputs": [],
   "source": [
    "def search_engine2(query, k, tfIdf):\n",
    "    # preprocessing the query\n",
    "    query_clean = pre_processing(query)\n",
    "    query_int = word_to_int2(query_clean, vocabolary)\n",
    "\n",
    "    # initialize a match_list which store the list of match\n",
    "    match_list = []\n",
    "    # list of the length of the match \n",
    "    lenMatch = []\n",
    "    # tupla = (#list, len(list))\n",
    "    max_lenMatch = (0,-1)\n",
    "    for i,query in enumerate(np.where(query_int>0)[0]):\n",
    "        lis = Inverted_indexv2[str(query)]\n",
    "        match_list.append(lis)\n",
    "        tmplis, tmplen = i, len(lis)\n",
    "        if tmplen>max_lenMatch[1]:\n",
    "            max_lenMatch = (tmplis,tmplen)\n",
    "        lenMatch.append(len(lis))\n",
    "    \n",
    "    enough, match_list = functions.intersection_all(k, match_list)\n",
    "    m = len(query_clean)\n",
    "    if enough:\n",
    "        scores = functions.scoresK(match_list, tfIdf, m, query_int)\n",
    "        topscore, topk = functions.find_topK(k, scores)\n",
    "    else:\n",
    "        scores = functions.scoresALL(match_list, tfIdf, m, lenMatch)\n",
    "        # the top k documents are ALL the documents\n",
    "        k = len(scores)\n",
    "        topscore, topk = functions.find_topK(k, scores)\n",
    "            \n",
    "    # search the url\n",
    "    with open(\"./anime_url.txt\", \"r\", encoding = \"utf-8\") as f:\n",
    "        lines = f.readlines()\n",
    "        \n",
    "    # we are searching for the anime and the url \n",
    "    anime_path = []\n",
    "    url = []\n",
    "\n",
    "    for idx in topk:\n",
    "        # we need the +1 because we start indexing from 1\n",
    "        name = \"/anime_\"+str(idx+1)+\".tsv\"\n",
    "        anime_path.append(name)\n",
    "        url.append(lines[idx])\n",
    "\n",
    "    # creating the dataframe for view the result\n",
    "    animes_df = []\n",
    "    # folder of the anime_tsv\n",
    "    folder = r\"./tsv_anime/\"\n",
    "    # column I want\n",
    "    cols = [\"animeTitle\",\"animeDescription\"]\n",
    "    for i,anime_tsv in enumerate(anime_path):\n",
    "        df = pd.read_csv(folder+anime_tsv, sep = \"\\t\", usecols = cols)\n",
    "        # creating new column\n",
    "        df[\"animeURL\"] = url[i]\n",
    "        df[\"animeScores\"] = topscore[i]\n",
    "        animes_df.append(df)\n",
    "    \n",
    "    frame = pd.concat(animes_df, ignore_index = True)\n",
    "    display(frame)\n",
    "    \n",
    "    return"
   ]
  },
  {
   "cell_type": "markdown",
   "id": "896fc639-05ce-462e-85a5-8030cc4ed7f7",
   "metadata": {},
   "source": [
    "### Input and searching"
   ]
  },
  {
   "cell_type": "code",
   "execution_count": 285,
   "id": "41252fe9-293e-4f1b-bbf0-ef286c14f3f8",
   "metadata": {},
   "outputs": [
    {
     "name": "stdin",
     "output_type": "stream",
     "text": [
      "Insert the query:  battle pirate\n",
      "Insert k:  10\n"
     ]
    },
    {
     "data": {
      "text/html": [
       "<div>\n",
       "<style scoped>\n",
       "    .dataframe tbody tr th:only-of-type {\n",
       "        vertical-align: middle;\n",
       "    }\n",
       "\n",
       "    .dataframe tbody tr th {\n",
       "        vertical-align: top;\n",
       "    }\n",
       "\n",
       "    .dataframe thead th {\n",
       "        text-align: right;\n",
       "    }\n",
       "</style>\n",
       "<table border=\"1\" class=\"dataframe\">\n",
       "  <thead>\n",
       "    <tr style=\"text-align: right;\">\n",
       "      <th></th>\n",
       "      <th>animeTitle</th>\n",
       "      <th>animeDescription</th>\n",
       "      <th>animeURL</th>\n",
       "      <th>animeScores</th>\n",
       "    </tr>\n",
       "  </thead>\n",
       "  <tbody>\n",
       "    <tr>\n",
       "      <th>0</th>\n",
       "      <td>One Piece</td>\n",
       "      <td>Gol D. Roger was known as the \"Pirate King,\" t...</td>\n",
       "      <td>https://myanimelist.net/anime/21/One_Piece\\n</td>\n",
       "      <td>0.366997</td>\n",
       "    </tr>\n",
       "    <tr>\n",
       "      <th>1</th>\n",
       "      <td>One Piece Movie 1</td>\n",
       "      <td>Woonan is the legendary Great Gold Pirate, ear...</td>\n",
       "      <td>https://myanimelist.net/anime/459/One_Piece_Mo...</td>\n",
       "      <td>0.298815</td>\n",
       "    </tr>\n",
       "    <tr>\n",
       "      <th>2</th>\n",
       "      <td>Battle Can²</td>\n",
       "      <td>Join this band of femme fatales as they sacrif...</td>\n",
       "      <td>https://myanimelist.net/anime/6025/Battle_Can²\\n</td>\n",
       "      <td>0.256860</td>\n",
       "    </tr>\n",
       "    <tr>\n",
       "      <th>3</th>\n",
       "      <td>Gintama Movie 2: Kanketsu-hen - Yorozuya yo Ei...</td>\n",
       "      <td>When Gintoki apprehends a movie pirate at a pr...</td>\n",
       "      <td>https://myanimelist.net/anime/15335/Gintama_Mo...</td>\n",
       "      <td>0.236275</td>\n",
       "    </tr>\n",
       "    <tr>\n",
       "      <th>4</th>\n",
       "      <td>One Piece: Oounabara ni Hirake! Dekkai Dekkai ...</td>\n",
       "      <td>The story opens on Pirate Zap's ship, where tw...</td>\n",
       "      <td>https://myanimelist.net/anime/1237/One_Piece__...</td>\n",
       "      <td>0.191371</td>\n",
       "    </tr>\n",
       "    <tr>\n",
       "      <th>5</th>\n",
       "      <td>One Piece Movie 2: Nejimaki-jima no Daibouken</td>\n",
       "      <td>Informed by the Thief Brothers his ship has be...</td>\n",
       "      <td>https://myanimelist.net/anime/460/One_Piece_Mo...</td>\n",
       "      <td>0.161223</td>\n",
       "    </tr>\n",
       "    <tr>\n",
       "      <th>6</th>\n",
       "      <td>A-Ko The Versus</td>\n",
       "      <td>A-ko and B-ko are bounty hunters in an untamed...</td>\n",
       "      <td>https://myanimelist.net/anime/1295/A-Ko_The_Ve...</td>\n",
       "      <td>0.156778</td>\n",
       "    </tr>\n",
       "    <tr>\n",
       "      <th>7</th>\n",
       "      <td>Last Exile: Ginyoku no Fam Movie - Over the Wi...</td>\n",
       "      <td>A recap film with some new scenes.\\n\\n\\nThe Sk...</td>\n",
       "      <td>https://myanimelist.net/anime/31866/Last_Exile...</td>\n",
       "      <td>0.150042</td>\n",
       "    </tr>\n",
       "    <tr>\n",
       "      <th>8</th>\n",
       "      <td>Slayers Revolution</td>\n",
       "      <td>Having lost the Sword of Light in the previous...</td>\n",
       "      <td>https://myanimelist.net/anime/4028/Slayers_Rev...</td>\n",
       "      <td>0.145129</td>\n",
       "    </tr>\n",
       "    <tr>\n",
       "      <th>9</th>\n",
       "      <td>One Piece 3D2Y: Ace no shi wo Koete! Luffy Nak...</td>\n",
       "      <td>After suffering great personal loss during the...</td>\n",
       "      <td>https://myanimelist.net/anime/25161/One_Piece_...</td>\n",
       "      <td>0.133564</td>\n",
       "    </tr>\n",
       "  </tbody>\n",
       "</table>\n",
       "</div>"
      ],
      "text/plain": [
       "                                          animeTitle  \\\n",
       "0                                          One Piece   \n",
       "1                                  One Piece Movie 1   \n",
       "2                                        Battle Can²   \n",
       "3  Gintama Movie 2: Kanketsu-hen - Yorozuya yo Ei...   \n",
       "4  One Piece: Oounabara ni Hirake! Dekkai Dekkai ...   \n",
       "5      One Piece Movie 2: Nejimaki-jima no Daibouken   \n",
       "6                                    A-Ko The Versus   \n",
       "7  Last Exile: Ginyoku no Fam Movie - Over the Wi...   \n",
       "8                                 Slayers Revolution   \n",
       "9  One Piece 3D2Y: Ace no shi wo Koete! Luffy Nak...   \n",
       "\n",
       "                                    animeDescription  \\\n",
       "0  Gol D. Roger was known as the \"Pirate King,\" t...   \n",
       "1  Woonan is the legendary Great Gold Pirate, ear...   \n",
       "2  Join this band of femme fatales as they sacrif...   \n",
       "3  When Gintoki apprehends a movie pirate at a pr...   \n",
       "4  The story opens on Pirate Zap's ship, where tw...   \n",
       "5  Informed by the Thief Brothers his ship has be...   \n",
       "6  A-ko and B-ko are bounty hunters in an untamed...   \n",
       "7  A recap film with some new scenes.\\n\\n\\nThe Sk...   \n",
       "8  Having lost the Sword of Light in the previous...   \n",
       "9  After suffering great personal loss during the...   \n",
       "\n",
       "                                            animeURL  animeScores  \n",
       "0       https://myanimelist.net/anime/21/One_Piece\\n     0.366997  \n",
       "1  https://myanimelist.net/anime/459/One_Piece_Mo...     0.298815  \n",
       "2   https://myanimelist.net/anime/6025/Battle_Can²\\n     0.256860  \n",
       "3  https://myanimelist.net/anime/15335/Gintama_Mo...     0.236275  \n",
       "4  https://myanimelist.net/anime/1237/One_Piece__...     0.191371  \n",
       "5  https://myanimelist.net/anime/460/One_Piece_Mo...     0.161223  \n",
       "6  https://myanimelist.net/anime/1295/A-Ko_The_Ve...     0.156778  \n",
       "7  https://myanimelist.net/anime/31866/Last_Exile...     0.150042  \n",
       "8  https://myanimelist.net/anime/4028/Slayers_Rev...     0.145129  \n",
       "9  https://myanimelist.net/anime/25161/One_Piece_...     0.133564  "
      ]
     },
     "metadata": {},
     "output_type": "display_data"
    }
   ],
   "source": [
    "query = input(\"Insert the query: \")\n",
    "k = int(input(\"Insert k: \"))\n",
    "\n",
    "search_engine2(query, k, tfIdf)"
   ]
  },
  {
   "cell_type": "code",
   "execution_count": 286,
   "id": "d9668ea2-65af-4627-8b6a-70c90c415910",
   "metadata": {},
   "outputs": [
    {
     "name": "stdin",
     "output_type": "stream",
     "text": [
      "Insert the query:  sasuke naruto sakura\n",
      "Insert k:  10\n"
     ]
    },
    {
     "data": {
      "text/html": [
       "<div>\n",
       "<style scoped>\n",
       "    .dataframe tbody tr th:only-of-type {\n",
       "        vertical-align: middle;\n",
       "    }\n",
       "\n",
       "    .dataframe tbody tr th {\n",
       "        vertical-align: top;\n",
       "    }\n",
       "\n",
       "    .dataframe thead th {\n",
       "        text-align: right;\n",
       "    }\n",
       "</style>\n",
       "<table border=\"1\" class=\"dataframe\">\n",
       "  <thead>\n",
       "    <tr style=\"text-align: right;\">\n",
       "      <th></th>\n",
       "      <th>animeTitle</th>\n",
       "      <th>animeDescription</th>\n",
       "      <th>animeURL</th>\n",
       "      <th>animeScores</th>\n",
       "    </tr>\n",
       "  </thead>\n",
       "  <tbody>\n",
       "    <tr>\n",
       "      <th>0</th>\n",
       "      <td>Naruto: Shippuuden - Shippuu! \"Konoha Gakuen\" Den</td>\n",
       "      <td>Naruto school special.\\n\\n\\nNaruto is a new co...</td>\n",
       "      <td>https://myanimelist.net/anime/4134/Naruto__Shi...</td>\n",
       "      <td>0.664881</td>\n",
       "    </tr>\n",
       "    <tr>\n",
       "      <th>1</th>\n",
       "      <td>Naruto: The Cross Roads</td>\n",
       "      <td>The operation to find a missing person goes aw...</td>\n",
       "      <td>https://myanimelist.net/anime/7367/Naruto__The...</td>\n",
       "      <td>0.597544</td>\n",
       "    </tr>\n",
       "    <tr>\n",
       "      <th>2</th>\n",
       "      <td>Naruto: Shippuuden Movie 6 - Road to Ninja</td>\n",
       "      <td>Returning home to Konohagakure, the young ninj...</td>\n",
       "      <td>https://myanimelist.net/anime/13667/Naruto__Sh...</td>\n",
       "      <td>0.465943</td>\n",
       "    </tr>\n",
       "    <tr>\n",
       "      <th>3</th>\n",
       "      <td>Naruto Soyokazeden Movie: Naruto to Mashin to ...</td>\n",
       "      <td>While enjoying a barbecue alongside team membe...</td>\n",
       "      <td>https://myanimelist.net/anime/10659/Naruto_Soy...</td>\n",
       "      <td>0.390676</td>\n",
       "    </tr>\n",
       "    <tr>\n",
       "      <th>4</th>\n",
       "      <td>Cardcaptor Sakura: Clear Card-hen</td>\n",
       "      <td>With all of the Clow Cards recaptured and chan...</td>\n",
       "      <td>https://myanimelist.net/anime/33354/Cardcaptor...</td>\n",
       "      <td>0.370162</td>\n",
       "    </tr>\n",
       "    <tr>\n",
       "      <th>...</th>\n",
       "      <td>...</td>\n",
       "      <td>...</td>\n",
       "      <td>...</td>\n",
       "      <td>...</td>\n",
       "    </tr>\n",
       "    <tr>\n",
       "      <th>135</th>\n",
       "      <td>Ultra Maniac OVA</td>\n",
       "      <td>Ayu Tateishi is a popular second-year student ...</td>\n",
       "      <td>https://myanimelist.net/anime/179/Ultra_Maniac...</td>\n",
       "      <td>0.036666</td>\n",
       "    </tr>\n",
       "    <tr>\n",
       "      <th>136</th>\n",
       "      <td>Ultra Maniac</td>\n",
       "      <td>Fantasies and miracles never interested Ayu Ta...</td>\n",
       "      <td>https://myanimelist.net/anime/178/Ultra_Maniac\\n</td>\n",
       "      <td>0.035309</td>\n",
       "    </tr>\n",
       "    <tr>\n",
       "      <th>137</th>\n",
       "      <td>Binbougami ga!</td>\n",
       "      <td>Ichiko Sakura lives life on easy mode. Blessed...</td>\n",
       "      <td>https://myanimelist.net/anime/13535/Binbougami...</td>\n",
       "      <td>0.033649</td>\n",
       "    </tr>\n",
       "    <tr>\n",
       "      <th>138</th>\n",
       "      <td>Aoi Bungaku Series</td>\n",
       "      <td>Ningen Shikkaku\\n\\nA high school student seeks...</td>\n",
       "      <td>https://myanimelist.net/anime/7193/Aoi_Bungaku...</td>\n",
       "      <td>0.032797</td>\n",
       "    </tr>\n",
       "    <tr>\n",
       "      <th>139</th>\n",
       "      <td>Ani*Kuri15</td>\n",
       "      <td>15 one-minute shorts created by various people...</td>\n",
       "      <td>https://myanimelist.net/anime/2832/AniKuri15\\n</td>\n",
       "      <td>0.030949</td>\n",
       "    </tr>\n",
       "  </tbody>\n",
       "</table>\n",
       "<p>140 rows × 4 columns</p>\n",
       "</div>"
      ],
      "text/plain": [
       "                                            animeTitle  \\\n",
       "0    Naruto: Shippuuden - Shippuu! \"Konoha Gakuen\" Den   \n",
       "1                              Naruto: The Cross Roads   \n",
       "2           Naruto: Shippuuden Movie 6 - Road to Ninja   \n",
       "3    Naruto Soyokazeden Movie: Naruto to Mashin to ...   \n",
       "4                    Cardcaptor Sakura: Clear Card-hen   \n",
       "..                                                 ...   \n",
       "135                                   Ultra Maniac OVA   \n",
       "136                                       Ultra Maniac   \n",
       "137                                     Binbougami ga!   \n",
       "138                                 Aoi Bungaku Series   \n",
       "139                                         Ani*Kuri15   \n",
       "\n",
       "                                      animeDescription  \\\n",
       "0    Naruto school special.\\n\\n\\nNaruto is a new co...   \n",
       "1    The operation to find a missing person goes aw...   \n",
       "2    Returning home to Konohagakure, the young ninj...   \n",
       "3    While enjoying a barbecue alongside team membe...   \n",
       "4    With all of the Clow Cards recaptured and chan...   \n",
       "..                                                 ...   \n",
       "135  Ayu Tateishi is a popular second-year student ...   \n",
       "136  Fantasies and miracles never interested Ayu Ta...   \n",
       "137  Ichiko Sakura lives life on easy mode. Blessed...   \n",
       "138  Ningen Shikkaku\\n\\nA high school student seeks...   \n",
       "139  15 one-minute shorts created by various people...   \n",
       "\n",
       "                                              animeURL  animeScores  \n",
       "0    https://myanimelist.net/anime/4134/Naruto__Shi...     0.664881  \n",
       "1    https://myanimelist.net/anime/7367/Naruto__The...     0.597544  \n",
       "2    https://myanimelist.net/anime/13667/Naruto__Sh...     0.465943  \n",
       "3    https://myanimelist.net/anime/10659/Naruto_Soy...     0.390676  \n",
       "4    https://myanimelist.net/anime/33354/Cardcaptor...     0.370162  \n",
       "..                                                 ...          ...  \n",
       "135  https://myanimelist.net/anime/179/Ultra_Maniac...     0.036666  \n",
       "136   https://myanimelist.net/anime/178/Ultra_Maniac\\n     0.035309  \n",
       "137  https://myanimelist.net/anime/13535/Binbougami...     0.033649  \n",
       "138  https://myanimelist.net/anime/7193/Aoi_Bungaku...     0.032797  \n",
       "139     https://myanimelist.net/anime/2832/AniKuri15\\n     0.030949  \n",
       "\n",
       "[140 rows x 4 columns]"
      ]
     },
     "metadata": {},
     "output_type": "display_data"
    }
   ],
   "source": [
    "query = input(\"Insert the query: \")\n",
    "k = int(input(\"Insert k: \"))\n",
    "\n",
    "search_engine2(query, k, tfIdf)"
   ]
  },
  {
   "cell_type": "markdown",
   "id": "2c2d4526-b242-4da4-abfc-bbc18e3fb3cc",
   "metadata": {},
   "source": [
    "# [EX3] Define a new score!"
   ]
  },
  {
   "cell_type": "code",
   "execution_count": 289,
   "id": "1fe82c9d-9c08-40ca-8ae7-78f515f60864",
   "metadata": {},
   "outputs": [],
   "source": [
    "# Libraries"
   ]
  },
  {
   "cell_type": "code",
   "execution_count": 290,
   "id": "10645af6-e38b-41cb-becb-83cba38cf40f",
   "metadata": {},
   "outputs": [],
   "source": [
    "import requests\n",
    "import pandas as pd\n",
    "import os\n",
    "import re\n",
    "import math\n",
    "import numpy as np\n",
    "from tqdm import tqdm\n",
    "from difflib import SequenceMatcher\n",
    "from bs4 import BeautifulSoup\n",
    "from datetime import datetime\n",
    "from collections import Counter\n",
    "from natsort import natsorted"
   ]
  },
  {
   "cell_type": "code",
   "execution_count": 291,
   "id": "827dcebd-08cb-4c7a-a1d5-12199c41ee6a",
   "metadata": {},
   "outputs": [],
   "source": [
    "def dateparse(time_in_secs):\n",
    "    return pd.to_datetime(time_in_secs, unit='s')"
   ]
  },
  {
   "cell_type": "code",
   "execution_count": 293,
   "id": "f1ac0a41-4794-4c16-86d5-1db688e639cb",
   "metadata": {},
   "outputs": [
    {
     "name": "stderr",
     "output_type": "stream",
     "text": [
      "100%|███████████████████████████████████████████████████████████████████████████| 19116/19116 [02:39<00:00, 119.50it/s]\n"
     ]
    },
    {
     "data": {
      "text/plain": [
       "pandas._libs.tslibs.timestamps.Timestamp"
      ]
     },
     "execution_count": 293,
     "metadata": {},
     "output_type": "execute_result"
    }
   ],
   "source": [
    "episodes = []\n",
    "title=[]\n",
    "types = []\n",
    "popularity = []\n",
    "description=[]\n",
    "related=[]\n",
    "release=[]\n",
    "animeScore=[]\n",
    "voices=[]\n",
    "staff=[]\n",
    "ranks=[]\n",
    "\n",
    "with open(\"./anime_url.txt\", \"r\", encoding = \"utf-8\") as f:\n",
    "    urls = f.readlines()\n",
    "# positioning\n",
    "folder = r\"./tsv_anime_2/\"\n",
    "# iter over the file\n",
    "dtypes = {'animeTitle': 'str', 'animeType': 'str' }\n",
    "for anime in tqdm(natsorted(os.listdir(folder))):\n",
    "    df = pd.read_csv(folder+anime, sep = \"\\t\", dtype=dtypes, parse_dates=['releaseDate','endDate'],date_parser=pd.to_datetime)   \n",
    "    #print(df.info())\n",
    "    #print(type(df[\"releaseDate\"][0]))\n",
    "    episodes.append(df[\"animeNumEpisode\"][0])\n",
    "    types.append(df[\"animeType\"][0])\n",
    "    popularity.append(df[\"animePopularity\"][0])\n",
    "    description.append(df[\"animeDescription\"][0])\n",
    "    title.append(df[\"animeTitle\"][0])\n",
    "    related.append(df[\"animeRelated\"][0])\n",
    "    release.append(df[\"releaseDate\"][0])\n",
    "    animeScore.append(df[\"animeScore\"][0])\n",
    "    voices.append(df[\"animeVoices\"][0])\n",
    "    staff.append(df[\"animeStaff\"][0])\n",
    "    ranks.append(df[\"animeRank\"][0])\n",
    "type(release[0])"
   ]
  },
  {
   "cell_type": "code",
   "execution_count": 294,
   "id": "65fa5d73-141b-472e-b4bc-711a0b377598",
   "metadata": {},
   "outputs": [
    {
     "name": "stdout",
     "output_type": "stream",
     "text": [
      "<class 'pandas.core.frame.DataFrame'>\n",
      "RangeIndex: 1 entries, 0 to 0\n",
      "Data columns (total 15 columns):\n",
      " #   Column            Non-Null Count  Dtype         \n",
      "---  ------            --------------  -----         \n",
      " 0   animeTitle        1 non-null      object        \n",
      " 1   animeType         1 non-null      object        \n",
      " 2   animeNumEpisode   1 non-null      int64         \n",
      " 3   releaseDate       1 non-null      datetime64[ns]\n",
      " 4   endDate           0 non-null      datetime64[ns]\n",
      " 5   animeNumMembers   1 non-null      int64         \n",
      " 6   animeScore        0 non-null      float64       \n",
      " 7   animeUsers        0 non-null      float64       \n",
      " 8   animeRank         0 non-null      float64       \n",
      " 9   animePopularity   1 non-null      int64         \n",
      " 10  animeDescription  1 non-null      object        \n",
      " 11  animeRelated      1 non-null      object        \n",
      " 12  animeCharacters   1 non-null      object        \n",
      " 13  animeVoices       1 non-null      object        \n",
      " 14  animeStaff        0 non-null      float64       \n",
      "dtypes: datetime64[ns](2), float64(4), int64(3), object(6)\n",
      "memory usage: 248.0+ bytes\n"
     ]
    }
   ],
   "source": [
    "df.info()"
   ]
  },
  {
   "cell_type": "markdown",
   "id": "898696ad-f6b5-4319-8ae0-eda70dc96708",
   "metadata": {},
   "source": [
    "We changed the datatype in these lists because there were nan elements inside them."
   ]
  },
  {
   "cell_type": "code",
   "execution_count": 295,
   "id": "3e8ac074-1a66-4fb8-91b4-a71e1034da16",
   "metadata": {},
   "outputs": [],
   "source": [
    "def change(l):\n",
    "    for i in range(len(l)):\n",
    "        if(type(l[i])!=str):\n",
    "            l[i]=l[i].item()\n",
    "            l[i]=str(l[i])"
   ]
  },
  {
   "cell_type": "code",
   "execution_count": 296,
   "id": "1d0ddc79-c5c7-4d25-8cad-94557971ba87",
   "metadata": {},
   "outputs": [],
   "source": [
    "change(staff)\n",
    "change(voices)"
   ]
  },
  {
   "cell_type": "markdown",
   "id": "cb3d6c43-f438-4527-bb36-2c5f0f99dfc9",
   "metadata": {},
   "source": [
    "### Cosine function"
   ]
  },
  {
   "cell_type": "markdown",
   "id": "296c1f39-82ac-453d-a01a-3b195beedaec",
   "metadata": {},
   "source": [
    "We used \"cosine\" to determine how similar documents, regardless of their size, are to the query entered and correspondence, the similarity of texts to each other. We used this function to find similarities in these metrics: (Description, AnimeStaff, Voices,Type) We also used the \"similar\" function, showing an alternative way of finding the similarity and used this function to find the metric: Related"
   ]
  },
  {
   "cell_type": "code",
   "execution_count": 297,
   "id": "33654afc-7f41-41df-b01a-908c13fabe31",
   "metadata": {},
   "outputs": [],
   "source": [
    "WORD = re.compile(r\"\\w+\")"
   ]
  },
  {
   "cell_type": "code",
   "execution_count": 298,
   "id": "4549ee59-8365-4474-bfac-8ec5581f2ab3",
   "metadata": {},
   "outputs": [],
   "source": [
    "def cosine_text(input_text,comparison_text):\n",
    "    if input_text == \"\":\n",
    "        return 0\n",
    "    else:\n",
    "        intersection = set(input_text.keys()) & set(comparison_text.keys())\n",
    "        numerator = sum([input_text[x] * comparison_text[x] for x in intersection])\n",
    "        sum1 = sum([input_text[x] ** 2 for x in list(input_text.keys())])\n",
    "        sum2 = sum([input_text[x] ** 2 for x in list(comparison_text.keys())])\n",
    "        denominator = math.sqrt(sum1) * math.sqrt(sum2)\n",
    "        if not denominator:\n",
    "            return 0.0\n",
    "        else:\n",
    "            return float(numerator) / denominator  "
   ]
  },
  {
   "cell_type": "code",
   "execution_count": 299,
   "id": "776d8d9c-88d4-442f-bd37-adef13654973",
   "metadata": {},
   "outputs": [],
   "source": [
    "def text_to_vector(text):\n",
    "    words = WORD.findall(text)\n",
    "    return Counter(words)"
   ]
  },
  {
   "cell_type": "code",
   "execution_count": 300,
   "id": "ff7cbb5c-bd5a-44dc-b909-180f36317701",
   "metadata": {},
   "outputs": [],
   "source": [
    "def cosine(input_text,comparison_text):\n",
    "    vector1 = text_to_vector(input_text)\n",
    "    vector2 = text_to_vector(comparison_text)\n",
    "    cosine = cosine_text(vector1, vector2)\n",
    "    return(cosine)"
   ]
  },
  {
   "cell_type": "code",
   "execution_count": 301,
   "id": "393b5ee6-7f2e-4947-9fd5-c249c1ed688a",
   "metadata": {},
   "outputs": [],
   "source": [
    "def similar(a, b):\n",
    "    if(a==\"\"):\n",
    "        return 0\n",
    "    else:\n",
    "        return SequenceMatcher(None, a, b).ratio()"
   ]
  },
  {
   "cell_type": "markdown",
   "id": "82ec81a1-e53e-40cd-913e-8b144d3905dc",
   "metadata": {},
   "source": [
    "### Num_Episode metric"
   ]
  },
  {
   "cell_type": "markdown",
   "id": "e04ad9fc-d722-48f7-9a66-6425e81af171",
   "metadata": {},
   "source": [
    "For num_episode variable, we have classified the amount of anime into 4 categories:\n",
    "0-is film,1 is short,2 is medium,3 is large.First we define the category of the input data and Calculated their differences. Depending on the number of episodes, we will be able to determine the greatest suitable anime by length\n"
   ]
  },
  {
   "cell_type": "code",
   "execution_count": 302,
   "id": "648d9c89-f9d9-46c9-aeb9-b05821cc4a51",
   "metadata": {},
   "outputs": [],
   "source": [
    "def identify_category(input_eps,next_eps):\n",
    "    if(type(next_eps) == str):\n",
    "        return 0\n",
    "    else:\n",
    "        #Input_eps\n",
    "        if(input_eps==1):\n",
    "            category1=0\n",
    "        elif(input_eps<25 and input_eps>=8):\n",
    "            category1=1\n",
    "        elif(input_eps<65 and input_eps>=25):\n",
    "            category1=2\n",
    "        else:\n",
    "            category=3\n",
    "       #Next_eps \n",
    "        if(next_eps==1):\n",
    "            category2=0\n",
    "        elif(next_eps<25 and input_eps>=8):\n",
    "            category2=1\n",
    "        elif(next_eps<65 and input_eps>=25):\n",
    "            category2=2\n",
    "        else:\n",
    "            category2=3\n",
    "        return(category1,category2)"
   ]
  },
  {
   "cell_type": "code",
   "execution_count": 303,
   "id": "4e63a0a6-8a48-42ca-8b15-c8697126d4c2",
   "metadata": {},
   "outputs": [],
   "source": [
    "def episode_score(input_eps,next_eps):\n",
    "    if(input_eps==0 or type(next_eps)==str):\n",
    "        return 0\n",
    "    else:\n",
    "        category=(identify_category(input_eps,next_eps))\n",
    "        if(category[0]==category[1]):\n",
    "            return 1\n",
    "        elif(abs(category[0]-category[1])==1):\n",
    "            return 0.66\n",
    "        elif(abs(category[0]-category[1])>1):\n",
    "            return 0.33\n",
    "        else:\n",
    "            return 0"
   ]
  },
  {
   "cell_type": "markdown",
   "id": "82f52232-fb84-47a6-acf6-65ec55b7e99c",
   "metadata": {},
   "source": [
    "## Rank"
   ]
  },
  {
   "cell_type": "markdown",
   "id": "2c64cc53-2e9e-4ae5-a68b-1faf72978219",
   "metadata": {},
   "source": [
    "The logic of ranking metric is that we push away from the request, if the query anime was given to us by the top 100 anime, we  are looking for a suitable one from the top 100 or from the top 1000"
   ]
  },
  {
   "cell_type": "code",
   "execution_count": 304,
   "id": "89fb4c5f-3420-43ee-8a5e-86d0c84d5594",
   "metadata": {},
   "outputs": [],
   "source": [
    "def ranking(input_rank,next_rank):\n",
    "    if input_rank == 0:\n",
    "        return 0\n",
    "    else:\n",
    "        diff=abs(input_rank-next_rank)\n",
    "        if(diff<=100):\n",
    "            return 1\n",
    "        elif(diff>100 and diff<=1000):\n",
    "            return 0.66\n",
    "        else:\n",
    "            return 0.33"
   ]
  },
  {
   "cell_type": "markdown",
   "id": "7f3609b6-44b6-4ace-aec7-0483d626e3c7",
   "metadata": {},
   "source": [
    "### Date"
   ]
  },
  {
   "cell_type": "markdown",
   "id": "fb586489-85dc-41d9-87dd-63a22512d04b",
   "metadata": {},
   "source": [
    "We created a date metric to determine how late and newer the anime is with the query being compared."
   ]
  },
  {
   "cell_type": "code",
   "execution_count": 305,
   "id": "c051ad9c-dbbd-40b3-af6f-c8b8b440c482",
   "metadata": {
    "scrolled": true
   },
   "outputs": [],
   "source": [
    "def date(input_date,releaseDate):\n",
    "    if(input_date==0 or input_date==\"\"):\n",
    "        return 0\n",
    "    else:\n",
    "        diff = (abs(datetime.strptime(input_date,'%Y-%m-%d')-releaseDate))\n",
    "        days = diff.days\n",
    "        #Anime came out in the same season\n",
    "        if(days>0 and days<=100):\n",
    "            return 1\n",
    "        #Differences in 1 year\n",
    "        elif(days>100 and days<=300):\n",
    "            return 0.5\n",
    "        return(0)\n",
    "\n",
    "#print(date(date_query,release[0]))"
   ]
  },
  {
   "cell_type": "markdown",
   "id": "40896a59-22d4-49ae-a31c-394c9a879fd5",
   "metadata": {},
   "source": [
    "## Popularity metric"
   ]
  },
  {
   "cell_type": "markdown",
   "id": "a7d00531-c4dd-48c0-ad71-f3e83b3190fe",
   "metadata": {},
   "source": [
    "The logic of this metric is similar to the rank metric."
   ]
  },
  {
   "cell_type": "code",
   "execution_count": 306,
   "id": "22f2eb95-5e50-455d-b17f-cd596c1e5aa1",
   "metadata": {},
   "outputs": [],
   "source": [
    "def score_pop(input_pop,next_pop):\n",
    "    if input_pop == 0:\n",
    "        return 0\n",
    "    else:\n",
    "        diff=abs(input_pop-next_pop)\n",
    "        if(input_pop<=100 and diff<=100):\n",
    "            return 0.66\n",
    "        elif(input_pop > 100 and input_pop <= 1000 and diff > 100):\n",
    "            return 0.44\n",
    "        else:\n",
    "            return 0.22"
   ]
  },
  {
   "cell_type": "markdown",
   "id": "88047a59-3d21-4e75-82d9-e3e7945760a5",
   "metadata": {},
   "source": [
    "## animeScore metric"
   ]
  },
  {
   "cell_type": "markdown",
   "id": "8c133ebc-8d83-4c4f-a9a7-c83458cd5273",
   "metadata": {},
   "source": [
    "We also categorized the anime by a rating, like metric number episodes:1 High,  2 Average, 3 Low"
   ]
  },
  {
   "cell_type": "code",
   "execution_count": 307,
   "id": "5cc0283a-56a1-4b34-8375-34ee90902228",
   "metadata": {},
   "outputs": [],
   "source": [
    "def identify_s(input_s,next_s):\n",
    "    if(input_s>=8):\n",
    "        category1=1\n",
    "    elif(input_s<8 and input_s>=5):\n",
    "        category1=2\n",
    "    else:\n",
    "        category1=3\n",
    "       \n",
    "    if(next_s>=8):\n",
    "        category2=1\n",
    "    elif(next_s<8 and next_s>=5):\n",
    "        category2=2\n",
    "    else:\n",
    "        category2=3\n",
    "    return(category1,category2)"
   ]
  },
  {
   "cell_type": "code",
   "execution_count": 308,
   "id": "38287bd9-9939-4e89-934c-c8e4dc677808",
   "metadata": {},
   "outputs": [],
   "source": [
    "def score_s(input_s,next_s):\n",
    "    if input_s == 0:\n",
    "        return 0\n",
    "    else:\n",
    "        category = identify_s(input_s,next_s)\n",
    "        if(category[0]==category[1]):\n",
    "            return 1\n",
    "        elif(abs(category[0]-category[1])==1):\n",
    "            return 0.66\n",
    "        elif(abs(category[0]-category[1])>1):\n",
    "            return 0.33\n",
    "        else:\n",
    "            return 0"
   ]
  },
  {
   "cell_type": "markdown",
   "id": "2bbe8096-da0e-41ef-bada-430c716dde0b",
   "metadata": {},
   "source": [
    "### Final score metric"
   ]
  },
  {
   "cell_type": "markdown",
   "id": "26ed45e5-4130-4260-a94f-eaf8b51f4576",
   "metadata": {},
   "source": [
    "The final score is our final function that calculates the score. We have used all of the above functions to determine the total weight of each metric. For our convenience, we have divided all the metrics into two functions. In the first function, we have an unusual formula, since we have chosen such metrics as animeTitle and animeDescription as the most basic and especially influencing the function. For example the metric animeTitle is multiplied by 4, animeDescription is multiplied by 1.5. We multiplied such information as Voices, Staff, etc. by 0.3 since they do not have a very strong influence on the search."
   ]
  },
  {
   "cell_type": "code",
   "execution_count": 309,
   "id": "b71efbb5-b81b-42e4-8827-3b463eec411d",
   "metadata": {},
   "outputs": [],
   "source": [
    "def final_score1(i,input_type,next_type,input_eps,next_eps,input_title,next_title,input_related,next_related,input_description,next_description,input_date,next_date,input_voice,next_voice,input_staff,next_staff):\n",
    "    #print(i)\n",
    "    #Type variable\n",
    "    #print(title[i])\n",
    "    score1=cosine(input_type,next_type)\n",
    "    #print(\"Type_score\",score1)\n",
    "    #Episodes variable\n",
    "    score2=episode_score(input_eps,next_eps)\n",
    "    #print(\"Episode_score\",score2)\n",
    "    #Title variable\n",
    "    score3=cosine(input_title,next_title)\n",
    "    #print(\"Title_score\",score3)\n",
    "    #Related anime variable\n",
    "    score4=similar(input_related,next_related)\n",
    "    #print(\"Related_score\",score4)\n",
    "    #Description variable\n",
    "    score5=cosine(input_description,next_description)\n",
    "    #print(\"Description_score\",score5)\n",
    "    #Season date variable\n",
    "    score6=date(input_date,next_date)\n",
    "    #print(\"Season_score\",score6)\n",
    "    #Voices variable\n",
    "    score7=cosine(input_voice,next_voice)\n",
    "    #print(\"Voice\",score7)\n",
    "    #Staff  variable\n",
    "    score8=cosine(input_staff,next_staff)\n",
    "    #print(\"Staff\",score8)\n",
    "    return(score1*0.5+score2*0.5+score3*4+score4+score5*1.5+score6*0.5+score7*0.3+score8*0.3)"
   ]
  },
  {
   "cell_type": "code",
   "execution_count": 310,
   "id": "5fc470ee-d39e-4db6-a8aa-6f2e651abc5b",
   "metadata": {},
   "outputs": [],
   "source": [
    "def final_score2(input_rank,next_rank,input_pop,next_pop,input_s,next_s):\n",
    "    #Rank\n",
    "    score9 = ranking(input_rank,next_rank)\n",
    "    #print(\"Rank\",score9)\n",
    "    #Popularity\n",
    "    score10=score_pop(input_pop,next_pop)\n",
    "    #print(\"Popular\",score10)\n",
    "    #animeScore\n",
    "    score11=score_s(input_s,next_s)\n",
    "    #print(\"animeScore\",score11)\n",
    "    return(score9+score10+score11)\n"
   ]
  },
  {
   "cell_type": "markdown",
   "id": "dc262a81-9664-404b-95be-97f2692fe99e",
   "metadata": {},
   "source": [
    "We examined 3 cases of writing a request by a user. The first example shows us information in which the user made a request for only one attribute, in the second case we added several attributes to our request and we see how our function has become better to select and recommend anime. In the very last case, we wrote all the necessary information and see an excellent match."
   ]
  },
  {
   "cell_type": "code",
   "execution_count": 323,
   "id": "6cdd219a-bc1b-4c1c-b367-efb2299a1c98",
   "metadata": {},
   "outputs": [
    {
     "data": {
      "text/html": [
       "<div>\n",
       "<style scoped>\n",
       "    .dataframe tbody tr th:only-of-type {\n",
       "        vertical-align: middle;\n",
       "    }\n",
       "\n",
       "    .dataframe tbody tr th {\n",
       "        vertical-align: top;\n",
       "    }\n",
       "\n",
       "    .dataframe thead th {\n",
       "        text-align: right;\n",
       "    }\n",
       "</style>\n",
       "<table border=\"1\" class=\"dataframe\">\n",
       "  <thead>\n",
       "    <tr style=\"text-align: right;\">\n",
       "      <th></th>\n",
       "      <th>Score:</th>\n",
       "      <th>Title:</th>\n",
       "      <th>URL:</th>\n",
       "      <th>Rank:</th>\n",
       "    </tr>\n",
       "  </thead>\n",
       "  <tbody>\n",
       "    <tr>\n",
       "      <th>0</th>\n",
       "      <td>6.928203</td>\n",
       "      <td>Cardcaptor Sakura: Clear Card-hen</td>\n",
       "      <td>https://myanimelist.net/anime/33354/Cardcaptor...</td>\n",
       "      <td>1179</td>\n",
       "    </tr>\n",
       "    <tr>\n",
       "      <th>1</th>\n",
       "      <td>6.123724</td>\n",
       "      <td>Naruto: Shippuuden Movie 6 - Road to Ninja</td>\n",
       "      <td>https://myanimelist.net/anime/13667/Naruto__Sh...</td>\n",
       "      <td>1124</td>\n",
       "    </tr>\n",
       "    <tr>\n",
       "      <th>2</th>\n",
       "      <td>5.196152</td>\n",
       "      <td>Cardcaptor Sakura</td>\n",
       "      <td>https://myanimelist.net/anime/232/Cardcaptor_S...</td>\n",
       "      <td>363</td>\n",
       "    </tr>\n",
       "    <tr>\n",
       "      <th>3</th>\n",
       "      <td>5.196152</td>\n",
       "      <td>Cardcaptor Sakura Movie 2: Fuuin Sareta Card</td>\n",
       "      <td>https://myanimelist.net/anime/372/Cardcaptor_S...</td>\n",
       "      <td>321</td>\n",
       "    </tr>\n",
       "    <tr>\n",
       "      <th>4</th>\n",
       "      <td>4.330127</td>\n",
       "      <td>Boruto: Naruto Next Generations</td>\n",
       "      <td>https://myanimelist.net/anime/34566/Boruto__Na...</td>\n",
       "      <td>9054</td>\n",
       "    </tr>\n",
       "    <tr>\n",
       "      <th>...</th>\n",
       "      <td>...</td>\n",
       "      <td>...</td>\n",
       "      <td>...</td>\n",
       "      <td>...</td>\n",
       "    </tr>\n",
       "    <tr>\n",
       "      <th>19111</th>\n",
       "      <td>0.000000</td>\n",
       "      <td>Fruits Basket: The Final</td>\n",
       "      <td>https://myanimelist.net/anime/42938/Fruits_Bas...</td>\n",
       "      <td>4</td>\n",
       "    </tr>\n",
       "    <tr>\n",
       "      <th>19112</th>\n",
       "      <td>0.000000</td>\n",
       "      <td>Steins;Gate</td>\n",
       "      <td>https://myanimelist.net/anime/9253/Steins_Gate\\n</td>\n",
       "      <td>3</td>\n",
       "    </tr>\n",
       "    <tr>\n",
       "      <th>19113</th>\n",
       "      <td>0.000000</td>\n",
       "      <td>Shingeki no Kyojin Season 3 Part 2</td>\n",
       "      <td>https://myanimelist.net/anime/38524/Shingeki_n...</td>\n",
       "      <td>2</td>\n",
       "    </tr>\n",
       "    <tr>\n",
       "      <th>19114</th>\n",
       "      <td>0.000000</td>\n",
       "      <td>Gintama°</td>\n",
       "      <td>https://myanimelist.net/anime/28977/Gintama°\\n</td>\n",
       "      <td>1</td>\n",
       "    </tr>\n",
       "    <tr>\n",
       "      <th>19115</th>\n",
       "      <td>0.000000</td>\n",
       "      <td>Fullmetal Alchemist: Brotherhood</td>\n",
       "      <td>https://myanimelist.net/anime/5114/Fullmetal_A...</td>\n",
       "      <td>0</td>\n",
       "    </tr>\n",
       "  </tbody>\n",
       "</table>\n",
       "<p>19116 rows × 4 columns</p>\n",
       "</div>"
      ],
      "text/plain": [
       "         Score:                                        Title:  \\\n",
       "0      6.928203             Cardcaptor Sakura: Clear Card-hen   \n",
       "1      6.123724    Naruto: Shippuuden Movie 6 - Road to Ninja   \n",
       "2      5.196152                             Cardcaptor Sakura   \n",
       "3      5.196152  Cardcaptor Sakura Movie 2: Fuuin Sareta Card   \n",
       "4      4.330127               Boruto: Naruto Next Generations   \n",
       "...         ...                                           ...   \n",
       "19111  0.000000                      Fruits Basket: The Final   \n",
       "19112  0.000000                                   Steins;Gate   \n",
       "19113  0.000000            Shingeki no Kyojin Season 3 Part 2   \n",
       "19114  0.000000                                      Gintama°   \n",
       "19115  0.000000              Fullmetal Alchemist: Brotherhood   \n",
       "\n",
       "                                                    URL:  Rank:  \n",
       "0      https://myanimelist.net/anime/33354/Cardcaptor...   1179  \n",
       "1      https://myanimelist.net/anime/13667/Naruto__Sh...   1124  \n",
       "2      https://myanimelist.net/anime/232/Cardcaptor_S...    363  \n",
       "3      https://myanimelist.net/anime/372/Cardcaptor_S...    321  \n",
       "4      https://myanimelist.net/anime/34566/Boruto__Na...   9054  \n",
       "...                                                  ...    ...  \n",
       "19111  https://myanimelist.net/anime/42938/Fruits_Bas...      4  \n",
       "19112   https://myanimelist.net/anime/9253/Steins_Gate\\n      3  \n",
       "19113  https://myanimelist.net/anime/38524/Shingeki_n...      2  \n",
       "19114     https://myanimelist.net/anime/28977/Gintama°\\n      1  \n",
       "19115  https://myanimelist.net/anime/5114/Fullmetal_A...      0  \n",
       "\n",
       "[19116 rows x 4 columns]"
      ]
     },
     "metadata": {},
     "output_type": "display_data"
    }
   ],
   "source": [
    "title_query=\"\"\n",
    "type_query=\"\"\n",
    "ep_query=0\n",
    "related_query=\"\"\n",
    "description_query=\"Saske Sakura Naruto\"\n",
    "date_query=0\n",
    "voices_query=\"\"\n",
    "staff_query=\"\"\n",
    "rank_query=0\n",
    "pop_query=0\n",
    "score_query=0\n",
    "scores=[]\n",
    "\n",
    "for i in range(len(episodes)):\n",
    "    score1=final_score1(i,type_query,types[i],ep_query,episodes[i],title_query,title[i],related_query,related[i],description_query,description[i],date_query,release[0],voices_query,voices[i],staff_query,staff[i])\n",
    "    score2=final_score2(rank_query,ranks[i],pop_query,popularity[i],score_query,animeScore[i])\n",
    "    score=score1+score2\n",
    "    scores.append([score,i])\n",
    "sorted_scores=sorted(scores, reverse=True)\n",
    "\n",
    "\n",
    "df_score=[]\n",
    "df_title=[]\n",
    "df_urls=[]\n",
    "df_l=[]\n",
    "for i in range(len(episodes)):\n",
    "    df_score.append(sorted_scores[i][0])\n",
    "    df_title.append(title[sorted_scores[i][1]])\n",
    "    df_urls.append(urls[sorted_scores[i][1]])\n",
    "    df_l.append(sorted_scores[i][1])\n",
    "df1 = pd.DataFrame (df_score, columns = ['Score:'])\n",
    "df2 = pd.DataFrame (df_title, columns = ['Title:'])\n",
    "df3 = pd.DataFrame (df_urls, columns = ['URL:'])\n",
    "df4 = pd.DataFrame (df_l, columns = ['Rank:'])\n",
    "pdList = [df1, df2, df3,df4 ]  \n",
    "new_df = pd.concat(pdList, axis=1)\n",
    "display(new_df)"
   ]
  },
  {
   "cell_type": "code",
   "execution_count": 312,
   "id": "cfd4e6c1-2ede-455e-b056-cf5d782cc45a",
   "metadata": {},
   "outputs": [
    {
     "data": {
      "text/html": [
       "<div>\n",
       "<style scoped>\n",
       "    .dataframe tbody tr th:only-of-type {\n",
       "        vertical-align: middle;\n",
       "    }\n",
       "\n",
       "    .dataframe tbody tr th {\n",
       "        vertical-align: top;\n",
       "    }\n",
       "\n",
       "    .dataframe thead th {\n",
       "        text-align: right;\n",
       "    }\n",
       "</style>\n",
       "<table border=\"1\" class=\"dataframe\">\n",
       "  <thead>\n",
       "    <tr style=\"text-align: right;\">\n",
       "      <th></th>\n",
       "      <th>Score:</th>\n",
       "      <th>Title:</th>\n",
       "      <th>URL:</th>\n",
       "      <th>Rank:</th>\n",
       "    </tr>\n",
       "  </thead>\n",
       "  <tbody>\n",
       "    <tr>\n",
       "      <th>0</th>\n",
       "      <td>10.897114</td>\n",
       "      <td>Death Note</td>\n",
       "      <td>https://myanimelist.net/anime/1535/Death_Note\\n</td>\n",
       "      <td>64</td>\n",
       "    </tr>\n",
       "    <tr>\n",
       "      <th>1</th>\n",
       "      <td>7.918076</td>\n",
       "      <td>Death Note: Rewrite</td>\n",
       "      <td>https://myanimelist.net/anime/2994/Death_Note_...</td>\n",
       "      <td>1086</td>\n",
       "    </tr>\n",
       "    <tr>\n",
       "      <th>2</th>\n",
       "      <td>7.570000</td>\n",
       "      <td>Soul Eater</td>\n",
       "      <td>https://myanimelist.net/anime/3588/Soul_Eater\\n</td>\n",
       "      <td>760</td>\n",
       "    </tr>\n",
       "    <tr>\n",
       "      <th>3</th>\n",
       "      <td>6.068427</td>\n",
       "      <td>Death Parade</td>\n",
       "      <td>https://myanimelist.net/anime/28223/Death_Para...</td>\n",
       "      <td>337</td>\n",
       "    </tr>\n",
       "    <tr>\n",
       "      <th>4</th>\n",
       "      <td>5.398427</td>\n",
       "      <td>Hinako Note</td>\n",
       "      <td>https://myanimelist.net/anime/33948/Hinako_Note\\n</td>\n",
       "      <td>4764</td>\n",
       "    </tr>\n",
       "    <tr>\n",
       "      <th>...</th>\n",
       "      <td>...</td>\n",
       "      <td>...</td>\n",
       "      <td>...</td>\n",
       "      <td>...</td>\n",
       "    </tr>\n",
       "    <tr>\n",
       "      <th>19111</th>\n",
       "      <td>0.825000</td>\n",
       "      <td>Hana no Hanashi</td>\n",
       "      <td>https://myanimelist.net/anime/30393/Hana_no_Ha...</td>\n",
       "      <td>11458</td>\n",
       "    </tr>\n",
       "    <tr>\n",
       "      <th>19112</th>\n",
       "      <td>0.825000</td>\n",
       "      <td>Megumi to Taiyou II: Kajuu Gummi Tweet Mystery...</td>\n",
       "      <td>https://myanimelist.net/anime/25267/Megumi_to_...</td>\n",
       "      <td>11453</td>\n",
       "    </tr>\n",
       "    <tr>\n",
       "      <th>19113</th>\n",
       "      <td>0.825000</td>\n",
       "      <td>Sougiya to Inu</td>\n",
       "      <td>https://myanimelist.net/anime/28953/Sougiya_to...</td>\n",
       "      <td>11433</td>\n",
       "    </tr>\n",
       "    <tr>\n",
       "      <th>19114</th>\n",
       "      <td>0.825000</td>\n",
       "      <td>Ishindenshin Shiyou</td>\n",
       "      <td>https://myanimelist.net/anime/30405/Ishindensh...</td>\n",
       "      <td>11424</td>\n",
       "    </tr>\n",
       "    <tr>\n",
       "      <th>19115</th>\n",
       "      <td>0.825000</td>\n",
       "      <td>TOTO Green Challenge</td>\n",
       "      <td>https://myanimelist.net/anime/25377/TOTO_Green...</td>\n",
       "      <td>11405</td>\n",
       "    </tr>\n",
       "  </tbody>\n",
       "</table>\n",
       "<p>19116 rows × 4 columns</p>\n",
       "</div>"
      ],
      "text/plain": [
       "          Score:                                             Title:  \\\n",
       "0      10.897114                                         Death Note   \n",
       "1       7.918076                                Death Note: Rewrite   \n",
       "2       7.570000                                         Soul Eater   \n",
       "3       6.068427                                       Death Parade   \n",
       "4       5.398427                                        Hinako Note   \n",
       "...          ...                                                ...   \n",
       "19111   0.825000                                    Hana no Hanashi   \n",
       "19112   0.825000  Megumi to Taiyou II: Kajuu Gummi Tweet Mystery...   \n",
       "19113   0.825000                                     Sougiya to Inu   \n",
       "19114   0.825000                                Ishindenshin Shiyou   \n",
       "19115   0.825000                               TOTO Green Challenge   \n",
       "\n",
       "                                                    URL:  Rank:  \n",
       "0        https://myanimelist.net/anime/1535/Death_Note\\n     64  \n",
       "1      https://myanimelist.net/anime/2994/Death_Note_...   1086  \n",
       "2        https://myanimelist.net/anime/3588/Soul_Eater\\n    760  \n",
       "3      https://myanimelist.net/anime/28223/Death_Para...    337  \n",
       "4      https://myanimelist.net/anime/33948/Hinako_Note\\n   4764  \n",
       "...                                                  ...    ...  \n",
       "19111  https://myanimelist.net/anime/30393/Hana_no_Ha...  11458  \n",
       "19112  https://myanimelist.net/anime/25267/Megumi_to_...  11453  \n",
       "19113  https://myanimelist.net/anime/28953/Sougiya_to...  11433  \n",
       "19114  https://myanimelist.net/anime/30405/Ishindensh...  11424  \n",
       "19115  https://myanimelist.net/anime/25377/TOTO_Green...  11405  \n",
       "\n",
       "[19116 rows x 4 columns]"
      ]
     },
     "metadata": {},
     "output_type": "display_data"
    }
   ],
   "source": [
    "title_query=\"Death Note\"\n",
    "type_query=\"TV\"\n",
    "ep_query=51\n",
    "related_query=\"\"\n",
    "description_query=\"Death Note L Kira\"\n",
    "date_query=\"\"\n",
    "voices_query=\"\"\n",
    "staff_query=\"\"\n",
    "rank_query=1\n",
    "pop_query=0\n",
    "score_query=9.21\n",
    "scores=[]\n",
    "\n",
    "for i in range(len(episodes)):\n",
    "    score1=final_score1(i,type_query,types[i],ep_query,episodes[i],title_query,title[i],related_query,related[i],description_query,description[i],date_query,release[0],voices_query,voices[i],staff_query,staff[i])\n",
    "    score2=final_score2(rank_query,ranks[i],pop_query,popularity[i],score_query,animeScore[i])\n",
    "    score=score1+score2\n",
    "    scores.append([score,i])\n",
    "sorted_scores=sorted(scores, reverse=True)\n",
    "\n",
    "\n",
    "df_score=[]\n",
    "df_title=[]\n",
    "df_urls=[]\n",
    "df_l=[]\n",
    "for i in range(len(episodes)):\n",
    "    df_score.append(sorted_scores[i][0])\n",
    "    df_title.append(title[sorted_scores[i][1]])\n",
    "    df_urls.append(urls[sorted_scores[i][1]])\n",
    "    df_l.append(sorted_scores[i][1])\n",
    "df1 = pd.DataFrame (df_score, columns = ['Score:'])\n",
    "df2 = pd.DataFrame (df_title, columns = ['Title:'])\n",
    "df3 = pd.DataFrame (df_urls, columns = ['URL:'])\n",
    "df4 = pd.DataFrame (df_l, columns = ['Rank:'])\n",
    "pdList = [df1, df2, df3,df4 ]  \n",
    "new_df = pd.concat(pdList, axis=1)\n",
    "display(new_df)"
   ]
  },
  {
   "cell_type": "code",
   "execution_count": 52,
   "id": "675c6713-016e-4eb2-a824-4c56448f956a",
   "metadata": {},
   "outputs": [
    {
     "data": {
      "text/html": [
       "<div>\n",
       "<style scoped>\n",
       "    .dataframe tbody tr th:only-of-type {\n",
       "        vertical-align: middle;\n",
       "    }\n",
       "\n",
       "    .dataframe tbody tr th {\n",
       "        vertical-align: top;\n",
       "    }\n",
       "\n",
       "    .dataframe thead th {\n",
       "        text-align: right;\n",
       "    }\n",
       "</style>\n",
       "<table border=\"1\" class=\"dataframe\">\n",
       "  <thead>\n",
       "    <tr style=\"text-align: right;\">\n",
       "      <th></th>\n",
       "      <th>Score:</th>\n",
       "      <th>Title:</th>\n",
       "      <th>URL:</th>\n",
       "      <th>Rank:</th>\n",
       "    </tr>\n",
       "  </thead>\n",
       "  <tbody>\n",
       "    <tr>\n",
       "      <th>0</th>\n",
       "      <td>12.220339</td>\n",
       "      <td>Gintama: Yorinuki Gintama-san on Theater 2D</td>\n",
       "      <td>https://myanimelist.net/anime/21899/Gintama__Y...</td>\n",
       "      <td>136</td>\n",
       "    </tr>\n",
       "    <tr>\n",
       "      <th>1</th>\n",
       "      <td>9.910090</td>\n",
       "      <td>Gintama°</td>\n",
       "      <td>https://myanimelist.net/anime/28977/Gintama°\\n</td>\n",
       "      <td>1</td>\n",
       "    </tr>\n",
       "    <tr>\n",
       "      <th>2</th>\n",
       "      <td>9.640334</td>\n",
       "      <td>Gintama'</td>\n",
       "      <td>https://myanimelist.net/anime/9969/Gintama\\n</td>\n",
       "      <td>5</td>\n",
       "    </tr>\n",
       "    <tr>\n",
       "      <th>3</th>\n",
       "      <td>9.486018</td>\n",
       "      <td>Gintama.: Shirogane no Tamashii-hen</td>\n",
       "      <td>https://myanimelist.net/anime/36838/Gintama__S...</td>\n",
       "      <td>24</td>\n",
       "    </tr>\n",
       "    <tr>\n",
       "      <th>4</th>\n",
       "      <td>9.304666</td>\n",
       "      <td>Gintama.</td>\n",
       "      <td>https://myanimelist.net/anime/34096/Gintama\\n</td>\n",
       "      <td>10</td>\n",
       "    </tr>\n",
       "    <tr>\n",
       "      <th>...</th>\n",
       "      <td>...</td>\n",
       "      <td>...</td>\n",
       "      <td>...</td>\n",
       "      <td>...</td>\n",
       "    </tr>\n",
       "    <tr>\n",
       "      <th>19113</th>\n",
       "      <td>1.265000</td>\n",
       "      <td>Playground</td>\n",
       "      <td>https://myanimelist.net/anime/23053/Nisou_no_K...</td>\n",
       "      <td>11504</td>\n",
       "    </tr>\n",
       "    <tr>\n",
       "      <th>19114</th>\n",
       "      <td>1.265000</td>\n",
       "      <td>Kakegae no</td>\n",
       "      <td>https://myanimelist.net/anime/31831/Fantasy\\n</td>\n",
       "      <td>11498</td>\n",
       "    </tr>\n",
       "    <tr>\n",
       "      <th>19115</th>\n",
       "      <td>1.265000</td>\n",
       "      <td>Fantasy</td>\n",
       "      <td>https://myanimelist.net/anime/31759/Hakubutsus...</td>\n",
       "      <td>11497</td>\n",
       "    </tr>\n",
       "    <tr>\n",
       "      <th>19116</th>\n",
       "      <td>1.265000</td>\n",
       "      <td>Hakubutsushi</td>\n",
       "      <td>https://myanimelist.net/anime/29395/Fafa_Movie\\n</td>\n",
       "      <td>11496</td>\n",
       "    </tr>\n",
       "    <tr>\n",
       "      <th>19117</th>\n",
       "      <td>1.265000</td>\n",
       "      <td>Odoroki Ban</td>\n",
       "      <td>https://myanimelist.net/anime/4394/Norakuro_Go...</td>\n",
       "      <td>11462</td>\n",
       "    </tr>\n",
       "  </tbody>\n",
       "</table>\n",
       "<p>19118 rows × 4 columns</p>\n",
       "</div>"
      ],
      "text/plain": [
       "          Score:                                       Title:  \\\n",
       "0      12.220339  Gintama: Yorinuki Gintama-san on Theater 2D   \n",
       "1       9.910090                                     Gintama°   \n",
       "2       9.640334                                     Gintama'   \n",
       "3       9.486018          Gintama.: Shirogane no Tamashii-hen   \n",
       "4       9.304666                                     Gintama.   \n",
       "...          ...                                          ...   \n",
       "19113   1.265000                                   Playground   \n",
       "19114   1.265000                                   Kakegae no   \n",
       "19115   1.265000                                      Fantasy   \n",
       "19116   1.265000                                 Hakubutsushi   \n",
       "19117   1.265000                                  Odoroki Ban   \n",
       "\n",
       "                                                    URL:  Rank:  \n",
       "0      https://myanimelist.net/anime/21899/Gintama__Y...    136  \n",
       "1         https://myanimelist.net/anime/28977/Gintama°\\n      1  \n",
       "2           https://myanimelist.net/anime/9969/Gintama\\n      5  \n",
       "3      https://myanimelist.net/anime/36838/Gintama__S...     24  \n",
       "4          https://myanimelist.net/anime/34096/Gintama\\n     10  \n",
       "...                                                  ...    ...  \n",
       "19113  https://myanimelist.net/anime/23053/Nisou_no_K...  11504  \n",
       "19114      https://myanimelist.net/anime/31831/Fantasy\\n  11498  \n",
       "19115  https://myanimelist.net/anime/31759/Hakubutsus...  11497  \n",
       "19116   https://myanimelist.net/anime/29395/Fafa_Movie\\n  11496  \n",
       "19117  https://myanimelist.net/anime/4394/Norakuro_Go...  11462  \n",
       "\n",
       "[19118 rows x 4 columns]"
      ]
     },
     "metadata": {},
     "output_type": "display_data"
    }
   ],
   "source": [
    "title_query=\"Gintama\"\n",
    "type_query=\"TV\"\n",
    "ep_query=51\n",
    "related_query=\"Gintama Movie 2: Kanketsu-hen - Yorozuya yo Eien Nare, Gintama': Enchousen\"\n",
    "description_query=\"Gintoki, Shinpachi, and Kagura return as the fun-loving but broke members of the Yorozuya team! Living in an alternate-reality Edo, where swords are prohibited and alien overlords have conquered Japan, they try to thrive on doing whatever work they can get their hands on. However, Shinpachi and Kagura still haven't been paid... Does Gin-chan really spend all that cash playing pachinko?Meanwhile, when Gintoki drunkenly staggers home one night, an alien spaceship crashes nearby. A fatally injured crew member emerges from the ship and gives Gintoki a strange, clock-shaped device, warning him that it is incredibly powerful and must be safeguarded. Mistaking it for his alarm clock, Gintoki proceeds to smash the device the next morning and suddenly discovers that the world outside his apartment has come to a standstill. With Kagura and Shinpachi at his side, he sets off to get the device fixed; though, as usual, nothing is ever that simple for the Yorozuya team.\"\n",
    "date_query=\"2015-06-21\"\n",
    "voices_query=\"Sugita, Tomokazu Kugimiya, Rie Sakaguchi, Daisuke Ishida, Akira Nakai, Kazuya\"\n",
    "staff_query=\"Fujita, Youichi Director, Storyboard, Planning Miyawaki, Chizuru Director, Storyboard, Key Animation Takamatsu, ShinjiSound Director\"\n",
    "rank_query=2\n",
    "pop_query=337\n",
    "score_query=9.09\n",
    "scores=[]\n",
    "\n",
    "for i in range(len(episodes)):\n",
    "    score1=final_score1(i,type_query,types[i],ep_query,episodes[i],title_query,title[i],related_query,related[i],description_query,description[i],date_query,release[0],voices_query,voices[i],staff_query,staff[i])\n",
    "    score2=final_score2(rank_query,ranks[i],pop_query,popularity[i],score_query,animeScore[i])\n",
    "    score=score1+score2\n",
    "    scores.append([score,i])\n",
    "sorted_scores=sorted(scores, reverse=True)\n",
    "\n",
    "\n",
    "df_score=[]\n",
    "df_title=[]\n",
    "df_urls=[]\n",
    "df_l=[]\n",
    "for i in range(len(episodes)):\n",
    "    df_score.append(sorted_scores[i][0])\n",
    "    df_title.append(title[sorted_scores[i][1]])\n",
    "    df_urls.append(urls[sorted_scores[i][1]])\n",
    "    df_l.append(sorted_scores[i][1])\n",
    "df1 = pd.DataFrame (df_score, columns = ['Score:'])\n",
    "df2 = pd.DataFrame (df_title, columns = ['Title:'])\n",
    "df3 = pd.DataFrame (df_urls, columns = ['URL:'])\n",
    "df4 = pd.DataFrame (df_l, columns = ['Rank:'])\n",
    "pdList = [df1, df2, df3,df4 ]  \n",
    "new_df = pd.concat(pdList, axis=1)\n",
    "display(new_df)"
   ]
  },
  {
   "cell_type": "markdown",
   "id": "77ae6eea-06ca-4049-bd9d-cfe64b2c91bc",
   "metadata": {},
   "source": [
    "# [EX4] BONUS: Understanding the anime's reviews"
   ]
  },
  {
   "cell_type": "code",
   "execution_count": 340,
   "id": "cf661c17-66bd-4330-96d6-94de814a467a",
   "metadata": {},
   "outputs": [],
   "source": [
    "# core libraries\n",
    "import requests\n",
    "from tqdm import tqdm\n",
    "from bs4 import BeautifulSoup\n",
    "import pandas as pd\n",
    "from datetime import datetime\n",
    "import re\n",
    "import vaderSentiment\n",
    "import ast\n",
    "from scipy.stats import pearsonr\n",
    "import matplotlib\n",
    "import matplotlib.pyplot as plt\n",
    "from vaderSentiment.vaderSentiment import SentimentIntensityAnalyzer \n",
    "\n",
    "import os\n",
    "from natsort import natsorted"
   ]
  },
  {
   "cell_type": "markdown",
   "id": "28f4cadf-ca80-4e20-a6fe-2028188ae2f9",
   "metadata": {},
   "source": [
    "The reviews of each anime for a number >3 (we need 5) are under the __./reviews__ site. We need to collect the html of that page."
   ]
  },
  {
   "cell_type": "markdown",
   "id": "bbc9a3eb-f993-4494-b68b-654a21850536",
   "metadata": {},
   "source": [
    "We are now collecting the url of each anime."
   ]
  },
  {
   "cell_type": "code",
   "execution_count": 337,
   "id": "d1e1bfcb-6424-46da-af76-ae1d3449bec8",
   "metadata": {},
   "outputs": [],
   "source": [
    "url_anime = []\n",
    "with open(\"./anime_url.txt\", \"r\",  encoding='utf-8') as f:\n",
    "    for i,line in enumerate(f):\n",
    "        url = line.split(\"\\n\")[0]\n",
    "        url_anime.append(url+\"/reviews\")"
   ]
  },
  {
   "cell_type": "code",
   "execution_count": 312,
   "id": "9b3f23ce-c964-4a38-b341-7a54107283cc",
   "metadata": {},
   "outputs": [
    {
     "name": "stderr",
     "output_type": "stream",
     "text": [
      "100%|██████████████████████████████████████████████████████████████████████████████| 1001/1001 [13:30<00:00,  1.23it/s]\n"
     ]
    }
   ],
   "source": [
    "for url in tqdm(url_anime):\n",
    "    response = requests.get(url)\n",
    "    if response.status_code == 200:\n",
    "        filename = r\"./Anime_reviews\"+\"/anime_\"+str(i+1)+\".html\"\n",
    "        with open(filename,'w', encoding='utf-8') as f:\n",
    "            f.write(response.text)"
   ]
  },
  {
   "cell_type": "markdown",
   "id": "a896610e-bb86-4ee9-9319-0e87fb085489",
   "metadata": {},
   "source": [
    "Grabbing the first 5 reviews of each anime + the \"scarbbing\" of Title, Type, numEpisode and score.\n",
    "\n",
    "I will store them in a dataframe: each row contain the anime and 1 reviews"
   ]
  },
  {
   "cell_type": "code",
   "execution_count": 307,
   "id": "6e6a0c39-2084-4f1b-bb0b-a48b8684c804",
   "metadata": {},
   "outputs": [],
   "source": [
    "def scrabbing(soup,anime_info):\n",
    "    # title\n",
    "    title = soup.find(\"h1\", attrs = {\"class\": \"title-name h1_bold_none\"}).string\n",
    "    # other\n",
    "    for h2 in soup.select('h2:has(+div)'):\n",
    "        # I want the <h2> Information </h2> only\n",
    "        if h2.text == \"Information\" :\n",
    "            # iter over the next 4 <div> of Information, i go this way because\n",
    "            # 1) i want to skip the \"Status\": is the 3th div\n",
    "            # 2) more clear\n",
    "            for inform in h2.find_all_next(\"div\", attrs = {\"class\": \"spaceit_pad\"}, limit = 4):\n",
    "                # Type\n",
    "                if inform.contents[1].string == \"Type:\":\n",
    "                    Type = inform.get_text(separator=\" \", strip=True).split()[-1] \n",
    "                # nEpisodes\n",
    "                try:\n",
    "                    if inform.contents[1].string == \"Episodes:\":\n",
    "                        nEpisodes = int(inform.get_text(separator=\" \", strip=True).split()[-1])\n",
    "                except:\n",
    "                    nEpisodes = None\n",
    "    # score\n",
    "    #animeScore\n",
    "    score = soup.find(\"div\", attrs = {\"class\": \"fl-l score\", \"data-title\": \"score\"})\n",
    "    try:\n",
    "        # is a number\n",
    "        score = float(score.contents[0].string)\n",
    "    except:\n",
    "        # is N/A\n",
    "        score = None\n",
    "        \n",
    "    anime_info.extend((title,Type,nEpisodes))\n",
    "    return anime_info"
   ]
  },
  {
   "cell_type": "code",
   "execution_count": 308,
   "id": "994fd39c-e1a8-415c-86ef-461184f285b4",
   "metadata": {},
   "outputs": [
    {
     "name": "stderr",
     "output_type": "stream",
     "text": [
      "100%|████████████████████████████████████████████████████████████████████████████████| 197/197 [00:51<00:00,  3.85it/s]\n"
     ]
    }
   ],
   "source": [
    "folder = r\"./Anime_reviews/\"\n",
    "folder2 = r\"./tsv_anime/\"\n",
    "# columns of the attributes\n",
    "attrs = [\"animeTitle\", \"animeType\", \"animeNumEpisode\", \"animeScore\", \"animeReviews\"]\n",
    "list_of_anime = []\n",
    "for anime in tqdm(natsorted(os.listdir(folder))):\n",
    "    with open(folder+anime, \"r\",  encoding='utf-8') as fp:\n",
    "        soup = BeautifulSoup(fp, \"html.parser\")\n",
    "    \n",
    "    # put in the right tag\n",
    "    anime_reviews = soup.find_all(\"div\", attrs = {\"class\": \"borderDark\"})\n",
    "    # find if an anime as a number of review >=5, if so I want only the first 5\n",
    "    if len(anime_reviews) >= 5:\n",
    "        anime_reviews = anime_reviews[:5]\n",
    "    \n",
    "    reviews_list = []\n",
    "    # iterate over the reviews\n",
    "    for rev in anime_reviews:\n",
    "        anime_info = []\n",
    "        \n",
    "        # take the anime name\n",
    "        name = re.split(\".html\",anime)\n",
    "        anime_name = str(name[0])\n",
    "        # take the tsv with the anime score\n",
    "        dff = pd.read_csv(folder2+anime_name+\".tsv\", sep = \"\\t\")\n",
    "        df = dff[\"animeScore\"]\n",
    "        # append the various attributes\n",
    "        anime_info + scrabbing(soup, anime_info)\n",
    "        anime_info.append(list(df)[0])\n",
    "        # take the text\n",
    "        text1 = rev.select('div.spaceit.textReadability.word-break.pt8')[0].contents[2].strip()\n",
    "        l1 = len(text1.split())\n",
    "        # 50 words are at least two row of a text (3 row are at least 77)\n",
    "        # counting using line in MyAnimeList space text\n",
    "        # if we aren't enough words (three line) we continue to the next paragraph or we stop if there isn't\n",
    "        if not l1 >= 50:\n",
    "            try:\n",
    "                text2 = rev.select('div.spaceit.textReadability.word-break.pt8')[0].contents[3].text.strip()\n",
    "                maxlen = 77-l1\n",
    "                # take only a total of 3 lines\n",
    "                text1 = text1 + \" \".join(text2.split()[:maxlen])\n",
    "            except:\n",
    "                text1 = text1\n",
    "        anime_info.append(text1)\n",
    "        list_of_anime.append(anime_info)\n",
    "\n"
   ]
  },
  {
   "cell_type": "code",
   "execution_count": 309,
   "id": "8749232f-e6ee-46e5-84c5-f89a68df8323",
   "metadata": {},
   "outputs": [],
   "source": [
    "# Creating the DataFrame\n",
    "df = pd.DataFrame(list_of_anime, columns = attrs)\n",
    "# Creating the tsv file, take the anime number (the id)\n",
    "#name = re.sub(\".html\",\"\",anime)\n",
    "df.to_csv(\"./reviews_anime.csv\", index = False)"
   ]
  },
  {
   "cell_type": "code",
   "execution_count": 311,
   "id": "abe1e60b-d119-4fb7-93fa-374a0f5aa1dd",
   "metadata": {},
   "outputs": [
    {
     "data": {
      "text/html": [
       "<div>\n",
       "<style scoped>\n",
       "    .dataframe tbody tr th:only-of-type {\n",
       "        vertical-align: middle;\n",
       "    }\n",
       "\n",
       "    .dataframe tbody tr th {\n",
       "        vertical-align: top;\n",
       "    }\n",
       "\n",
       "    .dataframe thead th {\n",
       "        text-align: right;\n",
       "    }\n",
       "</style>\n",
       "<table border=\"1\" class=\"dataframe\">\n",
       "  <thead>\n",
       "    <tr style=\"text-align: right;\">\n",
       "      <th></th>\n",
       "      <th>animeTitle</th>\n",
       "      <th>animeType</th>\n",
       "      <th>animeNumEpisode</th>\n",
       "      <th>animeScore</th>\n",
       "      <th>animeReviews</th>\n",
       "    </tr>\n",
       "  </thead>\n",
       "  <tbody>\n",
       "    <tr>\n",
       "      <th>0</th>\n",
       "      <td>Fullmetal Alchemist: Brotherhood</td>\n",
       "      <td>TV</td>\n",
       "      <td>64.0</td>\n",
       "      <td>9.16</td>\n",
       "      <td>First of all, I have seen the original FMA and...</td>\n",
       "    </tr>\n",
       "    <tr>\n",
       "      <th>1</th>\n",
       "      <td>Fullmetal Alchemist: Brotherhood</td>\n",
       "      <td>TV</td>\n",
       "      <td>64.0</td>\n",
       "      <td>9.16</td>\n",
       "      <td>Fullmetal Alchemist: Brotherhood gets an immen...</td>\n",
       "    </tr>\n",
       "    <tr>\n",
       "      <th>2</th>\n",
       "      <td>Fullmetal Alchemist: Brotherhood</td>\n",
       "      <td>TV</td>\n",
       "      <td>64.0</td>\n",
       "      <td>9.16</td>\n",
       "      <td>Adaptations have long been a thorn in the side...</td>\n",
       "    </tr>\n",
       "    <tr>\n",
       "      <th>3</th>\n",
       "      <td>Fullmetal Alchemist: Brotherhood</td>\n",
       "      <td>TV</td>\n",
       "      <td>64.0</td>\n",
       "      <td>9.16</td>\n",
       "      <td>Overview:FMA Brotherhood is an anime that need...</td>\n",
       "    </tr>\n",
       "    <tr>\n",
       "      <th>4</th>\n",
       "      <td>Fullmetal Alchemist: Brotherhood</td>\n",
       "      <td>TV</td>\n",
       "      <td>64.0</td>\n",
       "      <td>9.16</td>\n",
       "      <td>Since I couldn't find any legitimate objective...</td>\n",
       "    </tr>\n",
       "  </tbody>\n",
       "</table>\n",
       "</div>"
      ],
      "text/plain": [
       "                         animeTitle animeType  animeNumEpisode  animeScore  \\\n",
       "0  Fullmetal Alchemist: Brotherhood        TV             64.0        9.16   \n",
       "1  Fullmetal Alchemist: Brotherhood        TV             64.0        9.16   \n",
       "2  Fullmetal Alchemist: Brotherhood        TV             64.0        9.16   \n",
       "3  Fullmetal Alchemist: Brotherhood        TV             64.0        9.16   \n",
       "4  Fullmetal Alchemist: Brotherhood        TV             64.0        9.16   \n",
       "\n",
       "                                        animeReviews  \n",
       "0  First of all, I have seen the original FMA and...  \n",
       "1  Fullmetal Alchemist: Brotherhood gets an immen...  \n",
       "2  Adaptations have long been a thorn in the side...  \n",
       "3  Overview:FMA Brotherhood is an anime that need...  \n",
       "4  Since I couldn't find any legitimate objective...  "
      ]
     },
     "execution_count": 311,
     "metadata": {},
     "output_type": "execute_result"
    }
   ],
   "source": [
    "df[:5]"
   ]
  },
  {
   "cell_type": "markdown",
   "id": "3a8911bc-3da8-4ebd-bdb0-275fd5562dd2",
   "metadata": {},
   "source": [
    "We collect only the first 180 anime reviews due to time problem. Here the results."
   ]
  },
  {
   "cell_type": "markdown",
   "id": "d7f1918d-c147-42f3-9707-f93b9730dc64",
   "metadata": {},
   "source": [
    "In order to make sentiment analysis we calculated the compound value of every review using the vaderSentiment libray and we classified as \"positive\" the reviews that have a compound value greater than 0.05, as \"negative\" the reviews that have a compound value lower than - 0.05, and as \"neutral\" otherwise."
   ]
  },
  {
   "cell_type": "code",
   "execution_count": 7,
   "id": "81618942-48bb-49cd-8792-f51b0829dc83",
   "metadata": {},
   "outputs": [],
   "source": [
    "vs = list()\n",
    "analyzer = SentimentIntensityAnalyzer()\n",
    "for i in range (df.shape[0]):\n",
    "    vs.append(analyzer.polarity_scores(df[\"animeReviews\"][i]))             \n",
    "#[vs.append(analyzer.polarity_scores(df[\"animeReviews\"][i])) for i in range (df.shape[0])]"
   ]
  },
  {
   "cell_type": "code",
   "execution_count": 8,
   "id": "0a52f775-a7c0-49be-97c9-69fa60d8fe8a",
   "metadata": {
    "scrolled": true
   },
   "outputs": [
    {
     "data": {
      "text/html": [
       "<div>\n",
       "<style scoped>\n",
       "    .dataframe tbody tr th:only-of-type {\n",
       "        vertical-align: middle;\n",
       "    }\n",
       "\n",
       "    .dataframe tbody tr th {\n",
       "        vertical-align: top;\n",
       "    }\n",
       "\n",
       "    .dataframe thead th {\n",
       "        text-align: right;\n",
       "    }\n",
       "</style>\n",
       "<table border=\"1\" class=\"dataframe\">\n",
       "  <thead>\n",
       "    <tr style=\"text-align: right;\">\n",
       "      <th></th>\n",
       "      <th>animeTitle</th>\n",
       "      <th>animeType</th>\n",
       "      <th>animeNumEpisode</th>\n",
       "      <th>animeScore</th>\n",
       "      <th>animeReviews</th>\n",
       "      <th>compound</th>\n",
       "    </tr>\n",
       "  </thead>\n",
       "  <tbody>\n",
       "    <tr>\n",
       "      <th>0</th>\n",
       "      <td>Fullmetal Alchemist: Brotherhood</td>\n",
       "      <td>TV</td>\n",
       "      <td>64.0</td>\n",
       "      <td>9.16</td>\n",
       "      <td>First of all, I have seen the original FMA and...</td>\n",
       "      <td>0.5749</td>\n",
       "    </tr>\n",
       "    <tr>\n",
       "      <th>1</th>\n",
       "      <td>Fullmetal Alchemist: Brotherhood</td>\n",
       "      <td>TV</td>\n",
       "      <td>64.0</td>\n",
       "      <td>9.16</td>\n",
       "      <td>Fullmetal Alchemist: Brotherhood gets an immen...</td>\n",
       "      <td>0.9783</td>\n",
       "    </tr>\n",
       "    <tr>\n",
       "      <th>2</th>\n",
       "      <td>Fullmetal Alchemist: Brotherhood</td>\n",
       "      <td>TV</td>\n",
       "      <td>64.0</td>\n",
       "      <td>9.16</td>\n",
       "      <td>Adaptations have long been a thorn in the side...</td>\n",
       "      <td>0.1531</td>\n",
       "    </tr>\n",
       "    <tr>\n",
       "      <th>3</th>\n",
       "      <td>Fullmetal Alchemist: Brotherhood</td>\n",
       "      <td>TV</td>\n",
       "      <td>64.0</td>\n",
       "      <td>9.16</td>\n",
       "      <td>Overview:FMA Brotherhood is an anime that need...</td>\n",
       "      <td>0.4141</td>\n",
       "    </tr>\n",
       "    <tr>\n",
       "      <th>4</th>\n",
       "      <td>Fullmetal Alchemist: Brotherhood</td>\n",
       "      <td>TV</td>\n",
       "      <td>64.0</td>\n",
       "      <td>9.16</td>\n",
       "      <td>Since I couldn't find any legitimate objective...</td>\n",
       "      <td>-0.5023</td>\n",
       "    </tr>\n",
       "  </tbody>\n",
       "</table>\n",
       "</div>"
      ],
      "text/plain": [
       "                         animeTitle animeType  animeNumEpisode  animeScore  \\\n",
       "0  Fullmetal Alchemist: Brotherhood        TV             64.0        9.16   \n",
       "1  Fullmetal Alchemist: Brotherhood        TV             64.0        9.16   \n",
       "2  Fullmetal Alchemist: Brotherhood        TV             64.0        9.16   \n",
       "3  Fullmetal Alchemist: Brotherhood        TV             64.0        9.16   \n",
       "4  Fullmetal Alchemist: Brotherhood        TV             64.0        9.16   \n",
       "\n",
       "                                        animeReviews  compound  \n",
       "0  First of all, I have seen the original FMA and...    0.5749  \n",
       "1  Fullmetal Alchemist: Brotherhood gets an immen...    0.9783  \n",
       "2  Adaptations have long been a thorn in the side...    0.1531  \n",
       "3  Overview:FMA Brotherhood is an anime that need...    0.4141  \n",
       "4  Since I couldn't find any legitimate objective...   -0.5023  "
      ]
     },
     "execution_count": 8,
     "metadata": {},
     "output_type": "execute_result"
    }
   ],
   "source": [
    "vs = pd.DataFrame(vs)\n",
    "df[\"compound\"] = vs[\"compound\"]\n",
    "df.head()"
   ]
  },
  {
   "cell_type": "code",
   "execution_count": 9,
   "id": "b2b95c9a-8887-4779-92c6-7db255d8e04e",
   "metadata": {},
   "outputs": [],
   "source": [
    "def sentimentassignment (compound):\n",
    "    sent = []\n",
    "    for i in range (len(compound)):\n",
    "        if (compound[i] < (-0.05)):\n",
    "            sent.append(\"negative\")\n",
    "        elif (compound[i] > 0.05):\n",
    "            sent.append(\"positive\")\n",
    "        else:\n",
    "            sent.append(\"neutral\")\n",
    "    return sent"
   ]
  },
  {
   "cell_type": "code",
   "execution_count": 10,
   "id": "afa6d173-1f80-4b9e-b5c7-a1474349e488",
   "metadata": {
    "scrolled": true
   },
   "outputs": [
    {
     "data": {
      "text/html": [
       "<div>\n",
       "<style scoped>\n",
       "    .dataframe tbody tr th:only-of-type {\n",
       "        vertical-align: middle;\n",
       "    }\n",
       "\n",
       "    .dataframe tbody tr th {\n",
       "        vertical-align: top;\n",
       "    }\n",
       "\n",
       "    .dataframe thead th {\n",
       "        text-align: right;\n",
       "    }\n",
       "</style>\n",
       "<table border=\"1\" class=\"dataframe\">\n",
       "  <thead>\n",
       "    <tr style=\"text-align: right;\">\n",
       "      <th></th>\n",
       "      <th>animeTitle</th>\n",
       "      <th>animeType</th>\n",
       "      <th>animeNumEpisode</th>\n",
       "      <th>animeScore</th>\n",
       "      <th>animeReviews</th>\n",
       "      <th>compound</th>\n",
       "      <th>sentiment</th>\n",
       "    </tr>\n",
       "  </thead>\n",
       "  <tbody>\n",
       "    <tr>\n",
       "      <th>0</th>\n",
       "      <td>Fullmetal Alchemist: Brotherhood</td>\n",
       "      <td>TV</td>\n",
       "      <td>64.0</td>\n",
       "      <td>9.16</td>\n",
       "      <td>First of all, I have seen the original FMA and...</td>\n",
       "      <td>0.5749</td>\n",
       "      <td>positive</td>\n",
       "    </tr>\n",
       "    <tr>\n",
       "      <th>1</th>\n",
       "      <td>Fullmetal Alchemist: Brotherhood</td>\n",
       "      <td>TV</td>\n",
       "      <td>64.0</td>\n",
       "      <td>9.16</td>\n",
       "      <td>Fullmetal Alchemist: Brotherhood gets an immen...</td>\n",
       "      <td>0.9783</td>\n",
       "      <td>positive</td>\n",
       "    </tr>\n",
       "    <tr>\n",
       "      <th>2</th>\n",
       "      <td>Fullmetal Alchemist: Brotherhood</td>\n",
       "      <td>TV</td>\n",
       "      <td>64.0</td>\n",
       "      <td>9.16</td>\n",
       "      <td>Adaptations have long been a thorn in the side...</td>\n",
       "      <td>0.1531</td>\n",
       "      <td>positive</td>\n",
       "    </tr>\n",
       "    <tr>\n",
       "      <th>3</th>\n",
       "      <td>Fullmetal Alchemist: Brotherhood</td>\n",
       "      <td>TV</td>\n",
       "      <td>64.0</td>\n",
       "      <td>9.16</td>\n",
       "      <td>Overview:FMA Brotherhood is an anime that need...</td>\n",
       "      <td>0.4141</td>\n",
       "      <td>positive</td>\n",
       "    </tr>\n",
       "    <tr>\n",
       "      <th>4</th>\n",
       "      <td>Fullmetal Alchemist: Brotherhood</td>\n",
       "      <td>TV</td>\n",
       "      <td>64.0</td>\n",
       "      <td>9.16</td>\n",
       "      <td>Since I couldn't find any legitimate objective...</td>\n",
       "      <td>-0.5023</td>\n",
       "      <td>negative</td>\n",
       "    </tr>\n",
       "  </tbody>\n",
       "</table>\n",
       "</div>"
      ],
      "text/plain": [
       "                         animeTitle animeType  animeNumEpisode  animeScore  \\\n",
       "0  Fullmetal Alchemist: Brotherhood        TV             64.0        9.16   \n",
       "1  Fullmetal Alchemist: Brotherhood        TV             64.0        9.16   \n",
       "2  Fullmetal Alchemist: Brotherhood        TV             64.0        9.16   \n",
       "3  Fullmetal Alchemist: Brotherhood        TV             64.0        9.16   \n",
       "4  Fullmetal Alchemist: Brotherhood        TV             64.0        9.16   \n",
       "\n",
       "                                        animeReviews  compound sentiment  \n",
       "0  First of all, I have seen the original FMA and...    0.5749  positive  \n",
       "1  Fullmetal Alchemist: Brotherhood gets an immen...    0.9783  positive  \n",
       "2  Adaptations have long been a thorn in the side...    0.1531  positive  \n",
       "3  Overview:FMA Brotherhood is an anime that need...    0.4141  positive  \n",
       "4  Since I couldn't find any legitimate objective...   -0.5023  negative  "
      ]
     },
     "execution_count": 10,
     "metadata": {},
     "output_type": "execute_result"
    }
   ],
   "source": [
    "sentiment = sentimentassignment(df[\"compound\"]) \n",
    "df[\"sentiment\"] = sentiment\n",
    "df.head()"
   ]
  },
  {
   "cell_type": "markdown",
   "id": "4825a39b-7bc8-41d8-977c-176c50611e3c",
   "metadata": {},
   "source": [
    "**1. What Anime Type are the most popular based on your analysis?**"
   ]
  },
  {
   "cell_type": "code",
   "execution_count": 11,
   "id": "f09cf9bb-88ef-4817-aaab-6ab5d564313a",
   "metadata": {},
   "outputs": [
    {
     "data": {
      "text/plain": [
       "TV         512\n",
       "Movie      161\n",
       "ONA         36\n",
       "OVA         26\n",
       "Special     13\n",
       "Music        5\n",
       "Name: animeType, dtype: int64"
      ]
     },
     "execution_count": 11,
     "metadata": {},
     "output_type": "execute_result"
    }
   ],
   "source": [
    "df[df.sentiment == \"positive\"][\"animeType\"].value_counts()"
   ]
  },
  {
   "cell_type": "markdown",
   "id": "3b72af0c-c4af-4e31-bf21-c20159ea5e3f",
   "metadata": {},
   "source": [
    "The most popular Anime Type is **TV**."
   ]
  },
  {
   "cell_type": "markdown",
   "id": "810cdaf0-4528-4ff3-9788-c5d8771f30c4",
   "metadata": {},
   "source": [
    "**2.Does the number of episodes has any impact on the sentiment of the users?**"
   ]
  },
  {
   "cell_type": "code",
   "execution_count": 13,
   "id": "c8f3ace8-567b-4c43-a14f-03828b2de742",
   "metadata": {
    "scrolled": true
   },
   "outputs": [
    {
     "data": {
      "text/plain": [
       "0.03979874058402419"
      ]
     },
     "execution_count": 13,
     "metadata": {},
     "output_type": "execute_result"
    }
   ],
   "source": [
    "df1 = df.dropna()\n",
    "coeff = pearsonr(df1[\"animeNumEpisode\"], df1[\"compound\"])\n",
    "coeff[0]"
   ]
  },
  {
   "cell_type": "code",
   "execution_count": 14,
   "id": "c63afc22-7db7-460c-b362-1bada7a7d270",
   "metadata": {
    "scrolled": true
   },
   "outputs": [
    {
     "data": {
      "image/png": "[encoded data removed]",
      "text/plain": [
       "<Figure size 432x288 with 1 Axes>"
      ]
     },
     "metadata": {
      "needs_background": "light"
     },
     "output_type": "display_data"
    }
   ],
   "source": [
    "plt.scatter(df1[\"animeNumEpisode\"], df1[\"compound\"], alpha=0.5)\n",
    "plt.show()"
   ]
  },
  {
   "cell_type": "markdown",
   "id": "ebb6e843-4b63-46f7-a23a-ec12d3a6d9a4",
   "metadata": {},
   "source": [
    "The Pearson's Correlation Coefficient is equal to 0.03979874058402419, so the number of episodes hasn't any impact on the sentiment of the users. "
   ]
  },
  {
   "cell_type": "markdown",
   "id": "a2b51024-9895-4ba5-a514-b83f8332a437",
   "metadata": {},
   "source": [
    "**3. Is your sentiment analysis in line with the scores of the animes? Explain your conclusions.**"
   ]
  },
  {
   "cell_type": "code",
   "execution_count": 15,
   "id": "b20c93cb-1e31-4de5-a368-29d2496c12f2",
   "metadata": {},
   "outputs": [
    {
     "data": {
      "text/plain": [
       "0.025202294639815187"
      ]
     },
     "execution_count": 15,
     "metadata": {},
     "output_type": "execute_result"
    }
   ],
   "source": [
    "coeff = pearsonr(df1[\"animeScore\"], df1[\"compound\"])\n",
    "coeff[0]"
   ]
  },
  {
   "cell_type": "code",
   "execution_count": 17,
   "id": "740497c3-f6ec-4797-b602-4f4c740af207",
   "metadata": {},
   "outputs": [
    {
     "data": {
      "image/png": "[encoded data removed]",
      "text/plain": [
       "<Figure size 432x288 with 1 Axes>"
      ]
     },
     "metadata": {
      "needs_background": "light"
     },
     "output_type": "display_data"
    }
   ],
   "source": [
    "plt.scatter(df1[\"animeScore\"], df1[\"compound\"], alpha=0.5)\n",
    "plt.show()"
   ]
  },
  {
   "cell_type": "markdown",
   "id": "85dfa4c6-b7cd-44f7-898e-815dc0f686c4",
   "metadata": {},
   "source": [
    "No, there isn't correlation because it's possible that a person’s tastes do not coincide with the overall score of the anime."
   ]
  },
  {
   "cell_type": "markdown",
   "id": "581be956-ad7d-4322-b90a-9090b8f20575",
   "metadata": {},
   "source": [
    "# [EX5] Algorithmic Question"
   ]
  },
  {
   "cell_type": "markdown",
   "id": "224ff7e1-5a47-489a-9308-f2e514340a90",
   "metadata": {},
   "source": [
    "You consult for a personal trainer who has a back-to-back sequence of requests for appointments. A sequence of requests is of the form > **30, 40, 25, 50, 30, 20** where each number is the time that the person who makes the appointment wants to spend. You need to accept some requests, however you need a break between them, so you cannot accept two consecutive requests. For example, **[30, 50, 20]** is an acceptable solution (of duration 100), but **[30, 40, 50, 20]** is not, because 30 and 40 are two consecutive appointments. Your goal is to provide to the personal trainer a schedule that maximizes the total length of the accepted appointments. For example, in the previous instance, the optimal solution is **[40, 50, 20]**, of total duration **110**."
   ]
  },
  {
   "cell_type": "markdown",
   "id": "f86eef70-82f5-4f57-ae15-b55c69801c08",
   "metadata": {},
   "source": [
    "## 5.1. Write an algorithm that computes the acceptable solution with the longest possible duration."
   ]
  },
  {
   "cell_type": "markdown",
   "id": "7c40430b-b42e-484f-aaf7-5ad169270ba1",
   "metadata": {},
   "source": [
    "#### FIRST FUNCTION"
   ]
  },
  {
   "cell_type": "markdown",
   "id": "af92d37c-7580-4988-8e47-7c11a9361431",
   "metadata": {},
   "source": [
    "The first function **isnot_adj** takes in input two arrays:\n",
    "* **possiblesolution** that contains a possible sequence of accepted appointments.\n",
    "* **applist** that contains the total sequence of requests. \n",
    "\n",
    "Considering all pairs of adjacent elements in possiblesolution and all pairs of adjacent elements in applist, if even only a couple of adjacent elements in the possiblesolution list is also contained within the applist the possible solution that we are considering is wrong and the function **isnot_adj** return **False**. If there aren't common couples of adjacent elements the possible solution is not wrong and the function **isnot_adj** return **True**."
   ]
  },
  {
   "cell_type": "markdown",
   "id": "faaf7070-47ec-42e6-9c2c-f7226f6ee691",
   "metadata": {},
   "source": [
    "input : array possiblesolution, array applist\n",
    "\n",
    "def isnot_adj (possiblesolution, applist): {\n",
    "\n",
    "    adj_app = list() empty list\n",
    "    adj_sol = list() empty list\n",
    "    for i in range (len(applist)):\n",
    "        adj_app.append(applist[i], applist[i+1])\n",
    "    for j in range (len(possiblesolution)):\n",
    "        adj_sol.append(possiblesolution[j], possiblesolution[j+1])\n",
    "    for z in range (len(adj_sol)):\n",
    "        if(adj_sol[z] in adj_app):\n",
    "            res.append(\"False\")\n",
    "        else:\n",
    "            res.append(\"True\")\n",
    "    if (\"False\" in res):\n",
    "        return (False)\n",
    "    else:\n",
    "        return (True)}"
   ]
  },
  {
   "cell_type": "markdown",
   "id": "3e9f0418-5e66-4795-baf4-78066b9b38a5",
   "metadata": {},
   "source": [
    "#### SECOND FUNCTION"
   ]
  },
  {
   "cell_type": "markdown",
   "id": "15673f78-d1ae-40b4-b450-5746fdc768dc",
   "metadata": {},
   "source": [
    "The second function **optimalSolution** takes in input:\n",
    "* **applist** that contains the total sequence of requests. \n",
    "\n",
    "the function calculate:\n",
    "* **incl** that is the list that contains the sum including the previous element. The first element of incl is equal to the first element of applist, the i-th elements (considering i different to zero) are equal to the last element of excl list + the i-th element of applist.\n",
    "* **excl** that is the list that contains the sum excluding the previous element. The fist element of excl is equal to zero, the i-th elements (considering i different to zero) are equal to the maximum value between the penultimate element of incl list and the last element of excl list. \n",
    "* **maximum** is calculated after finishing calculating incl and excl for each item in the applist and is equal to the maximum between the last element of incl list and the last element of excl list. This value is the optimal total duration of appointments. \n",
    "* **sol** contains the final solution. The final solution is the combination for which the sum of the list elements is equal to maximum and for which the function isnot_adj returns True."
   ]
  },
  {
   "cell_type": "markdown",
   "id": "22f73aea-2e7f-4057-93a1-5e35892e6ef6",
   "metadata": {},
   "source": [
    "input: array applist\n",
    "\n",
    "def optimalSolution (applist):{\n",
    "\n",
    "    incl, excl, sol: empty lists\n",
    "    for i in range(len(applist)):\n",
    "        if (i == 0):\n",
    "            incl[0] = applist[0]\n",
    "            excl[0] = 0\n",
    "        else:\n",
    "            incl[i] = excl[-1] + applist[i]\n",
    "            excl[i] = max(incl[-2], excl[-1])\n",
    "    maximum = max(excl[-1], incl[-1])\n",
    "    for i in range (len(applist)):\n",
    "        for x in combinations(applist,i):\n",
    "            if(sum(x) == maximum and isnot_adj == True):\n",
    "                sol.append(x)\n",
    "    return maximum, sol}"
   ]
  },
  {
   "cell_type": "markdown",
   "id": "76907f4c-3b00-47f2-ba1f-915b01fbb6a7",
   "metadata": {},
   "source": [
    "## 5.2 Implement a program that given in input an instance in the form given above, gives the optimal solution."
   ]
  },
  {
   "cell_type": "code",
   "execution_count": 4,
   "id": "33b0c0b2-cf44-4944-82ac-4464c40bee36",
   "metadata": {},
   "outputs": [],
   "source": [
    "import numpy as np\n",
    "from more_itertools import pairwise\n",
    "from itertools import combinations"
   ]
  },
  {
   "cell_type": "code",
   "execution_count": 39,
   "id": "a8ca4cce-b7d6-4e54-b98d-c42ccae485b5",
   "metadata": {},
   "outputs": [],
   "source": [
    "def solutions (solution, appointments):\n",
    "    adj_app, adj_sol, res = [], [], []\n",
    "    [adj_app.append([x,y]) for x,y in pairwise(appointments)]\n",
    "    [adj_sol.append([x,y]) for x,y in pairwise(solution)]\n",
    "    for z in range (len(adj_sol)):\n",
    "        if(adj_sol[z] in adj_app):\n",
    "            res.append(\"False\")\n",
    "        else:\n",
    "            res.append(\"True\")\n",
    "    if (\"False\" in res):\n",
    "        return (False)\n",
    "    else:\n",
    "        return (True)"
   ]
  },
  {
   "cell_type": "code",
   "execution_count": 40,
   "id": "a3f70891-bc30-471d-9f86-0ad88daeac7e",
   "metadata": {},
   "outputs": [],
   "source": [
    "def optimal_solution (arr):\n",
    "    incl, excl, sol = [], [], []\n",
    "    for i in range(0,len(arr)):\n",
    "        if (i == 0):\n",
    "            incl.append(arr[0])\n",
    "            excl.append(0)\n",
    "        else:\n",
    "            incl.append(excl[-1]+ arr[i])\n",
    "            excl.append(max(incl[-2],excl[-1]))\n",
    "    mymax = max(incl[-1], excl[-1])\n",
    "    [sol.append(x) for i in range (len(arr)) for x in combinations(arr,i) if sum(x) == mymax and solutions(x, arr) == True]\n",
    "    return mymax, sol"
   ]
  },
  {
   "cell_type": "code",
   "execution_count": 43,
   "id": "92725d94-e8a0-4b2f-8893-9f052c740944",
   "metadata": {},
   "outputs": [
    {
     "name": "stdout",
     "output_type": "stream",
     "text": [
      "The optimal solution is:  [(40, 50, 20)]\n",
      "The total duration is:  110\n"
     ]
    }
   ],
   "source": [
    "appointments = [30, 40, 25, 50, 30, 20]\n",
    "duration, app = optimal_solution(appointments)\n",
    "print (\"The optimal solution is: \", app)\n",
    "print (\"The total duration is: \", duration)"
   ]
  }
 ],
 "metadata": {
  "kernelspec": {
   "display_name": "Python 3 (ipykernel)",
   "language": "python",
   "name": "python3"
  },
  "language_info": {
   "codemirror_mode": {
    "name": "ipython",
    "version": 3
   },
   "file_extension": ".py",
   "mimetype": "text/x-python",
   "name": "python",
   "nbconvert_exporter": "python",
   "pygments_lexer": "ipython3",
   "version": "3.8.8"
  }
 },
 "nbformat": 4,
 "nbformat_minor": 5
}
