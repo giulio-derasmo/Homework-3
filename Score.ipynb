{
 "cells": [
  {
   "cell_type": "code",
   "execution_count": 469,
   "id": "b564fdf8",
   "metadata": {},
   "outputs": [],
   "source": [
    "import requests\n",
    "import pandas as pd\n",
    "import os\n",
    "import re\n",
    "import math\n",
    "from tqdm import tqdm\n",
    "from bs4 import BeautifulSoup\n",
    "from datetime import datetime\n",
    "from collections import Counter\n",
    "from natsort import natsorted"
   ]
  },
  {
   "cell_type": "code",
   "execution_count": 470,
   "id": "c67884c2",
   "metadata": {},
   "outputs": [
    {
     "name": "stderr",
     "output_type": "stream",
     "text": [
      "100%|█████████████████████████████████████████████████████████████████████████████| 1500/1500 [00:03<00:00, 446.82it/s]\n"
     ]
    }
   ],
   "source": [
    "episodes = []\n",
    "title=[]\n",
    "types = []\n",
    "popularity = []\n",
    "description=[]\n",
    "related=[]\n",
    "release=[]\n",
    "animeScore=[]\n",
    "voices=[]\n",
    "staff=[]\n",
    "ranks=[]\n",
    "# positioning\n",
    "folder = r\"./tsv_anime/\"\n",
    "# iter over the file\n",
    "for anime in tqdm(natsorted(os.listdir(folder))):\n",
    "    df = pd.read_csv(folder+anime, sep = \"\\t\")\n",
    "    episodes.append(df[\"animeNumEpisode\"][0])\n",
    "    types.append(df[\"animeType\"][0])\n",
    "    popularity.append(df[\"animePopularity\"][0])\n",
    "    description.append(df[\"animeDescription\"][0])\n",
    "    title.append(df[\"animeTitle\"][0])\n",
    "    related.append(df[\"animeRelated\"][0])\n",
    "    release.append(df[\"releaseDate\"][0])\n",
    "    animeScore.append(df[\"animeScore\"][0])\n",
    "    voices.append(df[\"animeVoices\"][0])\n",
    "    staff.append(df[\"animeStaff\"][0])\n",
    "    ranks.append(df[\"animeRank\"][0])\n",
    "    "
   ]
  },
  {
   "cell_type": "code",
   "execution_count": 471,
   "id": "0cec70b0",
   "metadata": {
    "scrolled": false
   },
   "outputs": [
    {
     "data": {
      "text/html": [
       "<div>\n",
       "<style scoped>\n",
       "    .dataframe tbody tr th:only-of-type {\n",
       "        vertical-align: middle;\n",
       "    }\n",
       "\n",
       "    .dataframe tbody tr th {\n",
       "        vertical-align: top;\n",
       "    }\n",
       "\n",
       "    .dataframe thead th {\n",
       "        text-align: right;\n",
       "    }\n",
       "</style>\n",
       "<table border=\"1\" class=\"dataframe\">\n",
       "  <thead>\n",
       "    <tr style=\"text-align: right;\">\n",
       "      <th></th>\n",
       "      <th>animeTitle</th>\n",
       "      <th>animeType</th>\n",
       "      <th>animeNumEpisode</th>\n",
       "      <th>releaseDate</th>\n",
       "      <th>endDate</th>\n",
       "      <th>animeNumMembers</th>\n",
       "      <th>animeScore</th>\n",
       "      <th>animeUsers</th>\n",
       "      <th>animeRank</th>\n",
       "      <th>animePopularity</th>\n",
       "      <th>animeDescription</th>\n",
       "      <th>animeRelated</th>\n",
       "      <th>animeCharacters</th>\n",
       "      <th>animeVoices</th>\n",
       "      <th>animeStaff</th>\n",
       "    </tr>\n",
       "  </thead>\n",
       "  <tbody>\n",
       "    <tr>\n",
       "      <th>0</th>\n",
       "      <td>Konjiki no Gash Bell!!</td>\n",
       "      <td>TV</td>\n",
       "      <td>150</td>\n",
       "      <td>2003-04-06</td>\n",
       "      <td>2006-03-26</td>\n",
       "      <td>107912</td>\n",
       "      <td>7.54</td>\n",
       "      <td>46265</td>\n",
       "      <td>1499</td>\n",
       "      <td>1519</td>\n",
       "      <td>Takamine Kiyomaro, a depressed don't-care-abou...</td>\n",
       "      <td>['Konjiki no Gash!!', 'Konjiki no Gash Bell!!:...</td>\n",
       "      <td>['Bell, Gash', 'Takamine, Kiyomaro', 'Folgore,...</td>\n",
       "      <td>['Ootani, IkueJapanese', 'Sakurai, TakahiroJap...</td>\n",
       "      <td>[[['Hamano, Takatoshi', 'Producer'], ['Kaizawa...</td>\n",
       "    </tr>\n",
       "  </tbody>\n",
       "</table>\n",
       "</div>"
      ],
      "text/plain": [
       "               animeTitle animeType  animeNumEpisode releaseDate     endDate  \\\n",
       "0  Konjiki no Gash Bell!!        TV              150  2003-04-06  2006-03-26   \n",
       "\n",
       "   animeNumMembers  animeScore  animeUsers  animeRank  animePopularity  \\\n",
       "0           107912        7.54       46265       1499             1519   \n",
       "\n",
       "                                    animeDescription  \\\n",
       "0  Takamine Kiyomaro, a depressed don't-care-abou...   \n",
       "\n",
       "                                        animeRelated  \\\n",
       "0  ['Konjiki no Gash!!', 'Konjiki no Gash Bell!!:...   \n",
       "\n",
       "                                     animeCharacters  \\\n",
       "0  ['Bell, Gash', 'Takamine, Kiyomaro', 'Folgore,...   \n",
       "\n",
       "                                         animeVoices  \\\n",
       "0  ['Ootani, IkueJapanese', 'Sakurai, TakahiroJap...   \n",
       "\n",
       "                                          animeStaff  \n",
       "0  [[['Hamano, Takatoshi', 'Producer'], ['Kaizawa...  "
      ]
     },
     "execution_count": 471,
     "metadata": {},
     "output_type": "execute_result"
    }
   ],
   "source": [
    "df"
   ]
  },
  {
   "cell_type": "markdown",
   "id": "42bb80e0",
   "metadata": {},
   "source": [
    "## Change datatypes "
   ]
  },
  {
   "cell_type": "markdown",
   "id": "073b5960",
   "metadata": {},
   "source": [
    "change title[316] datatype to string"
   ]
  },
  {
   "cell_type": "code",
   "execution_count": 472,
   "id": "fb028ec0",
   "metadata": {
    "scrolled": false
   },
   "outputs": [
    {
     "name": "stdout",
     "output_type": "stream",
     "text": [
      "<class 'numpy.int64'>\n",
      "<class 'int'>\n",
      "<class 'str'>\n"
     ]
    }
   ],
   "source": [
    "import numpy as np\n",
    "print(type(title[316]))\n",
    "title[316]=title[316].item()\n",
    "print(type(title[316]))\n",
    "title[316]=str(title[316])\n",
    "print(type(title[316]))"
   ]
  },
  {
   "cell_type": "code",
   "execution_count": 473,
   "id": "14d63d41",
   "metadata": {
    "scrolled": true
   },
   "outputs": [],
   "source": [
    "for i in range(len(staff)):\n",
    "    if(type(staff[i])!=str):\n",
    "        staff[i]=staff[i].item()\n",
    "        staff[i]=str(staff[i])\n",
    "    #print(type(staff[i]))"
   ]
  },
  {
   "cell_type": "code",
   "execution_count": 474,
   "id": "7022edf5",
   "metadata": {
    "scrolled": true
   },
   "outputs": [],
   "source": [
    "for i in range(len(voices)):\n",
    "    if(type(voices[i])!=str):\n",
    "        voices[i]=voices[i].item()\n",
    "        voices[i]=str(voices[i])\n",
    "    #print(type(staff[i]))"
   ]
  },
  {
   "cell_type": "code",
   "execution_count": 475,
   "id": "6a3d4803",
   "metadata": {},
   "outputs": [],
   "source": [
    "for i in range(len(ranks)):\n",
    "    ranks[i]=ranks[i].item()"
   ]
  },
  {
   "cell_type": "markdown",
   "id": "71c40401",
   "metadata": {},
   "source": [
    "### We used cosine to determine  how similar the documents are irrespective of their size is to the entered query.Does the text match each other? : (Description,AnimeStaff,Voices)"
   ]
  },
  {
   "cell_type": "code",
   "execution_count": 476,
   "id": "2a858bc8",
   "metadata": {},
   "outputs": [],
   "source": [
    "WORD = re.compile(r\"\\w+\")"
   ]
  },
  {
   "cell_type": "code",
   "execution_count": 477,
   "id": "60d99d45",
   "metadata": {},
   "outputs": [],
   "source": [
    "def cosine_text(input_text,comparison_text):\n",
    "    if input_text == \"\":\n",
    "        return 0\n",
    "    else:\n",
    "        intersection = set(input_text.keys()) & set(comparison_text.keys())\n",
    "        numerator = sum([input_text[x] * comparison_text[x] for x in intersection])\n",
    "        sum1 = sum([input_text[x] ** 2 for x in list(input_text.keys())])\n",
    "        sum2 = sum([input_text[x] ** 2 for x in list(comparison_text.keys())])\n",
    "        denominator = math.sqrt(sum1) * math.sqrt(sum2)\n",
    "        if not denominator:\n",
    "            return 0.0\n",
    "        else:\n",
    "            return float(numerator) / denominator  "
   ]
  },
  {
   "cell_type": "code",
   "execution_count": 478,
   "id": "8fa07c46",
   "metadata": {},
   "outputs": [],
   "source": [
    "def text_to_vector(text):\n",
    "    words = WORD.findall(text)\n",
    "    return Counter(words)"
   ]
  },
  {
   "cell_type": "code",
   "execution_count": 479,
   "id": "bf6bbf98",
   "metadata": {},
   "outputs": [],
   "source": [
    "def cosine(input_text,comparison_text):\n",
    "    vector1 = text_to_vector(input_text)\n",
    "    vector2 = text_to_vector(comparison_text)\n",
    "    cosine = cosine_text(vector1, vector2)\n",
    "    return(cosine)"
   ]
  },
  {
   "cell_type": "markdown",
   "id": "c1a3a4dc",
   "metadata": {},
   "source": [
    "### How to text similar:Type"
   ]
  },
  {
   "cell_type": "code",
   "execution_count": 480,
   "id": "e7ee2b40",
   "metadata": {},
   "outputs": [],
   "source": [
    "from difflib import SequenceMatcher\n",
    "def similar(a, b):\n",
    "    if(a==\"\"):\n",
    "        return 0\n",
    "    else:\n",
    "        return SequenceMatcher(None, a, b).ratio()"
   ]
  },
  {
   "cell_type": "markdown",
   "id": "7d4d20b6",
   "metadata": {},
   "source": [
    "### For num_episode variable, we have classified the amount of anime into 4 categories:\n",
    "##### 0 is film\n",
    "##### 1 is short\n",
    "##### 2 is medium\n",
    "##### 3 is large\n"
   ]
  },
  {
   "cell_type": "markdown",
   "id": "9eb2618f",
   "metadata": {},
   "source": [
    "First we define the category of the input data"
   ]
  },
  {
   "cell_type": "code",
   "execution_count": 488,
   "id": "e030d495",
   "metadata": {},
   "outputs": [],
   "source": [
    "def identify_category(input_eps,next_eps):\n",
    "    if(type(next_eps) == str):\n",
    "        return 0\n",
    "    else:\n",
    "        #Input_eps\n",
    "        if(input_eps==1):\n",
    "            category1=0\n",
    "        elif(input_eps<25 and input_eps>=8):\n",
    "            category1=1\n",
    "        elif(input_eps<65 and input_eps>=25):\n",
    "            category1=2\n",
    "        else:\n",
    "            category=3\n",
    "       #Next_eps \n",
    "        if(next_eps==1):\n",
    "            category2=0\n",
    "        elif(next_eps<25 and input_eps>=8):\n",
    "            category2=1\n",
    "        elif(next_eps<65 and input_eps>=25):\n",
    "            category2=2\n",
    "        else:\n",
    "            category2=3\n",
    "        return(category1,category2)"
   ]
  },
  {
   "cell_type": "markdown",
   "id": "f66bae0b",
   "metadata": {},
   "source": [
    "Calculated their differences. Depending on the number of episodes, we will be able to determine the greatest suitable anime by length"
   ]
  },
  {
   "cell_type": "code",
   "execution_count": 489,
   "id": "f73a82f7",
   "metadata": {},
   "outputs": [],
   "source": [
    "def episode_score(input_eps,next_eps):\n",
    "    if(input_eps==0 or type(next_eps)==str):\n",
    "        return 0\n",
    "    else:\n",
    "        category=(identify_category(input_eps,next_eps))\n",
    "        if(category[0]==category[1]):\n",
    "            return 1\n",
    "        elif(abs(category[0]-category[1])==1):\n",
    "            return 0.66\n",
    "        elif(abs(category[0]-category[1])>1):\n",
    "            return 0.33\n",
    "        else:\n",
    "            return 0"
   ]
  },
  {
   "cell_type": "markdown",
   "id": "9972cf7f",
   "metadata": {},
   "source": [
    "## Rank"
   ]
  },
  {
   "cell_type": "markdown",
   "id": "a908a8c1",
   "metadata": {},
   "source": [
    "The logic of ranking metric is that we push away from the request, if the query anime was given to us by the top 100 anime, we of course are looking for a suitable one from the top 100 or from the top 1000"
   ]
  },
  {
   "cell_type": "code",
   "execution_count": 490,
   "id": "a886edbe",
   "metadata": {},
   "outputs": [],
   "source": [
    "def ranking(input_rank,next_rank):\n",
    "    if input_rank == 0:\n",
    "        return 0\n",
    "    else:\n",
    "        diff=abs(input_rank-next_rank)\n",
    "        if(diff<=100):\n",
    "            return 1\n",
    "        elif(diff>100 and diff<=1000):\n",
    "            return 0.66\n",
    "        else:\n",
    "            return 0.33"
   ]
  },
  {
   "cell_type": "markdown",
   "id": "23d350e8",
   "metadata": {},
   "source": [
    "### Date"
   ]
  },
  {
   "cell_type": "markdown",
   "id": "e1d266cd",
   "metadata": {},
   "source": [
    "We created a date metric to determine how late and newer the anime is with the query being compared."
   ]
  },
  {
   "cell_type": "code",
   "execution_count": 503,
   "id": "88521298",
   "metadata": {
    "scrolled": true
   },
   "outputs": [
    {
     "name": "stdout",
     "output_type": "stream",
     "text": [
      "0\n"
     ]
    }
   ],
   "source": [
    "def date(input_date,releaseDate):\n",
    "    if(input_date==0 or input_date==\"\"):\n",
    "        return 0\n",
    "    else:\n",
    "        diff = (abs(datetime.strptime(input_date,'%Y-%m-%d')-datetime.strptime(releaseDate,'%Y-%m-%d')))\n",
    "        days = diff.days\n",
    "        #Anime came out in the same season\n",
    "        if(days>0 and days<=100):\n",
    "            return 1\n",
    "        #Differences in 1 year\n",
    "        elif(days>100 and days<=300):\n",
    "            return 0.5\n",
    "        return(0)\n",
    "\n",
    "print(date(date_query,release[0]))"
   ]
  },
  {
   "cell_type": "markdown",
   "id": "caf73820",
   "metadata": {},
   "source": [
    "## Popularity metric"
   ]
  },
  {
   "cell_type": "markdown",
   "id": "906bea11",
   "metadata": {},
   "source": [
    "The logic of this metric is similar to the rank metric."
   ]
  },
  {
   "cell_type": "code",
   "execution_count": 492,
   "id": "b418d306",
   "metadata": {},
   "outputs": [],
   "source": [
    "def score_pop(input_pop,next_pop):\n",
    "    if input_pop == 0:\n",
    "        return 0\n",
    "    else:\n",
    "        diff=abs(input_pop-next_pop)\n",
    "        if(input_pop<=100 and diff<=100):\n",
    "            return 0.66\n",
    "        elif(input_pop > 100 and input_pop <= 1000 and diff > 100):\n",
    "            return 0.44\n",
    "        else:\n",
    "            return 0.22"
   ]
  },
  {
   "cell_type": "markdown",
   "id": "54ff7728",
   "metadata": {},
   "source": [
    "## animeScore metric"
   ]
  },
  {
   "cell_type": "markdown",
   "id": "98801bab",
   "metadata": {},
   "source": [
    "We also categorized the anime by a rating, like metric number episodes\n",
    "#### 1 High  \n",
    "#### 2 Average \n",
    "#### 3 Low"
   ]
  },
  {
   "cell_type": "code",
   "execution_count": 493,
   "id": "cb9b9719",
   "metadata": {},
   "outputs": [],
   "source": [
    "def identify_s(input_s,next_s):\n",
    "    if(input_s>=8):\n",
    "        category1=1\n",
    "    elif(input_s<8 and input_s>=5):\n",
    "        category1=2\n",
    "    else:\n",
    "        category1=3\n",
    "       \n",
    "    if(next_s>=8):\n",
    "        category2=1\n",
    "    elif(next_s<8 and next_s>=5):\n",
    "        category2=2\n",
    "    else:\n",
    "        category2=3\n",
    "    return(category1,category2)"
   ]
  },
  {
   "cell_type": "code",
   "execution_count": 494,
   "id": "1e153106",
   "metadata": {},
   "outputs": [],
   "source": [
    "def score_s(input_s,next_s):\n",
    "    if input_s == 0:\n",
    "        return 0\n",
    "    else:\n",
    "        category = identify_s(input_s,next_s)\n",
    "        if(category[0]==category[1]):\n",
    "            return 1\n",
    "        elif(abs(category[0]-category[1])==1):\n",
    "            return 0.66\n",
    "        elif(abs(category[0]-category[1])>1):\n",
    "            return 0.33\n",
    "        else:\n",
    "            return 0"
   ]
  },
  {
   "cell_type": "code",
   "execution_count": 316,
   "id": "39bbd200",
   "metadata": {},
   "outputs": [],
   "source": [
    "#for i in range(len(popularity)):\n",
    "    #print(popularity[i])"
   ]
  },
  {
   "cell_type": "markdown",
   "id": "1ac3c231",
   "metadata": {},
   "source": [
    "### Final score metric"
   ]
  },
  {
   "cell_type": "code",
   "execution_count": 510,
   "id": "2e82954f",
   "metadata": {},
   "outputs": [],
   "source": [
    "def final_score1(i,input_type,next_type,input_eps,next_eps,input_title,next_title,input_related,next_related,input_description,next_description,input_date,next_date,input_voice,next_voice,input_staff,next_staff):\n",
    "    #print(i)\n",
    "    #Type variable\n",
    "    #print(title[i])\n",
    "    score1=cosine(input_type,next_type)\n",
    "    #print(\"Type_score\",score1)\n",
    "    #Episodes variable\n",
    "    score2=episode_score(input_eps,next_eps)\n",
    "    #print(\"Episode_score\",score2)\n",
    "    #Title variable\n",
    "    score3=cosine(input_title,next_title)\n",
    "    #print(\"Title_score\",score3)\n",
    "    #Related anime variable\n",
    "    score4=similar(input_related,next_related)\n",
    "    #print(\"Related_score\",score4)\n",
    "    #Description variable\n",
    "    score5=cosine(input_description,next_description)\n",
    "    #print(\"Description_score\",score5)\n",
    "    #Season date variable\n",
    "    score6=date(input_date,next_date)\n",
    "    #print(\"Season_score\",score6)\n",
    "    #Voices variable\n",
    "    score7=cosine(input_voice,next_voice)\n",
    "    #print(\"Voice\",score7)\n",
    "    #Staff  variable\n",
    "    score8=cosine(input_staff,next_staff)\n",
    "    #print(\"Staff\",score8)\n",
    "    return(score1*0.5+score2*0.5+score3*4+score4+score5*1.5+score6*0.5+score7*0.3+score8*0.3)"
   ]
  },
  {
   "cell_type": "code",
   "execution_count": 511,
   "id": "36ad8c36",
   "metadata": {},
   "outputs": [],
   "source": [
    "def final_score2(input_rank,next_rank,input_pop,next_pop,input_s,next_s):\n",
    "    #Rank\n",
    "    score9 = ranking(input_rank,next_rank)\n",
    "    #print(\"Rank\",score9)\n",
    "    #Popularity\n",
    "    score10=score_pop(input_pop,next_pop)\n",
    "    #print(\"Popular\",score10)\n",
    "    #animeScore\n",
    "    score11=score_s(input_s,next_s)\n",
    "    #print(\"animeScore\",score11)\n",
    "    return(score9+score10+score11)\n"
   ]
  },
  {
   "cell_type": "code",
   "execution_count": 497,
   "id": "875c79b0",
   "metadata": {},
   "outputs": [],
   "source": [
    "with open(\"./anime_url.txt\", \"r\", encoding = \"utf-8\") as f:\n",
    "    urls = f.readlines()"
   ]
  },
  {
   "cell_type": "code",
   "execution_count": 512,
   "id": "fa7fc553",
   "metadata": {
    "scrolled": true
   },
   "outputs": [
    {
     "data": {
      "text/html": [
       "<div>\n",
       "<style scoped>\n",
       "    .dataframe tbody tr th:only-of-type {\n",
       "        vertical-align: middle;\n",
       "    }\n",
       "\n",
       "    .dataframe tbody tr th {\n",
       "        vertical-align: top;\n",
       "    }\n",
       "\n",
       "    .dataframe thead th {\n",
       "        text-align: right;\n",
       "    }\n",
       "</style>\n",
       "<table border=\"1\" class=\"dataframe\">\n",
       "  <thead>\n",
       "    <tr style=\"text-align: right;\">\n",
       "      <th></th>\n",
       "      <th>Score:</th>\n",
       "      <th>Title:</th>\n",
       "      <th>URL:</th>\n",
       "      <th>Rank:</th>\n",
       "    </tr>\n",
       "  </thead>\n",
       "  <tbody>\n",
       "    <tr>\n",
       "      <th>0</th>\n",
       "      <td>8.330127</td>\n",
       "      <td>Naruto: Shippuuden Movie 6 - Road to Ninja</td>\n",
       "      <td>https://myanimelist.net/anime/13667/Naruto__Sh...</td>\n",
       "      <td>1124</td>\n",
       "    </tr>\n",
       "    <tr>\n",
       "      <th>1</th>\n",
       "      <td>6.449490</td>\n",
       "      <td>Naruto</td>\n",
       "      <td>https://myanimelist.net/anime/20/Naruto\\n</td>\n",
       "      <td>607</td>\n",
       "    </tr>\n",
       "    <tr>\n",
       "      <th>2</th>\n",
       "      <td>5.837117</td>\n",
       "      <td>Naruto: Shippuuden</td>\n",
       "      <td>https://myanimelist.net/anime/1735/Naruto__Shi...</td>\n",
       "      <td>298</td>\n",
       "    </tr>\n",
       "    <tr>\n",
       "      <th>3</th>\n",
       "      <td>5.530931</td>\n",
       "      <td>The Last: Naruto the Movie</td>\n",
       "      <td>https://myanimelist.net/anime/16870/The_Last__...</td>\n",
       "      <td>909</td>\n",
       "    </tr>\n",
       "    <tr>\n",
       "      <th>4</th>\n",
       "      <td>4.898979</td>\n",
       "      <td>Cardcaptor Sakura: Clear Card-hen</td>\n",
       "      <td>https://myanimelist.net/anime/33354/Cardcaptor...</td>\n",
       "      <td>1179</td>\n",
       "    </tr>\n",
       "    <tr>\n",
       "      <th>...</th>\n",
       "      <td>...</td>\n",
       "      <td>...</td>\n",
       "      <td>...</td>\n",
       "      <td>...</td>\n",
       "    </tr>\n",
       "    <tr>\n",
       "      <th>1495</th>\n",
       "      <td>0.000000</td>\n",
       "      <td>Fruits Basket: The Final</td>\n",
       "      <td>https://myanimelist.net/anime/42938/Fruits_Bas...</td>\n",
       "      <td>4</td>\n",
       "    </tr>\n",
       "    <tr>\n",
       "      <th>1496</th>\n",
       "      <td>0.000000</td>\n",
       "      <td>Steins;Gate</td>\n",
       "      <td>https://myanimelist.net/anime/9253/Steins_Gate\\n</td>\n",
       "      <td>3</td>\n",
       "    </tr>\n",
       "    <tr>\n",
       "      <th>1497</th>\n",
       "      <td>0.000000</td>\n",
       "      <td>Shingeki no Kyojin Season 3 Part 2</td>\n",
       "      <td>https://myanimelist.net/anime/38524/Shingeki_n...</td>\n",
       "      <td>2</td>\n",
       "    </tr>\n",
       "    <tr>\n",
       "      <th>1498</th>\n",
       "      <td>0.000000</td>\n",
       "      <td>Gintama°</td>\n",
       "      <td>https://myanimelist.net/anime/28977/Gintama°\\n</td>\n",
       "      <td>1</td>\n",
       "    </tr>\n",
       "    <tr>\n",
       "      <th>1499</th>\n",
       "      <td>0.000000</td>\n",
       "      <td>Fullmetal Alchemist: Brotherhood</td>\n",
       "      <td>https://myanimelist.net/anime/5114/Fullmetal_A...</td>\n",
       "      <td>0</td>\n",
       "    </tr>\n",
       "  </tbody>\n",
       "</table>\n",
       "<p>1500 rows × 4 columns</p>\n",
       "</div>"
      ],
      "text/plain": [
       "        Score:                                      Title:  \\\n",
       "0     8.330127  Naruto: Shippuuden Movie 6 - Road to Ninja   \n",
       "1     6.449490                                      Naruto   \n",
       "2     5.837117                          Naruto: Shippuuden   \n",
       "3     5.530931                  The Last: Naruto the Movie   \n",
       "4     4.898979           Cardcaptor Sakura: Clear Card-hen   \n",
       "...        ...                                         ...   \n",
       "1495  0.000000                    Fruits Basket: The Final   \n",
       "1496  0.000000                                 Steins;Gate   \n",
       "1497  0.000000          Shingeki no Kyojin Season 3 Part 2   \n",
       "1498  0.000000                                    Gintama°   \n",
       "1499  0.000000            Fullmetal Alchemist: Brotherhood   \n",
       "\n",
       "                                                   URL:  Rank:  \n",
       "0     https://myanimelist.net/anime/13667/Naruto__Sh...   1124  \n",
       "1             https://myanimelist.net/anime/20/Naruto\\n    607  \n",
       "2     https://myanimelist.net/anime/1735/Naruto__Shi...    298  \n",
       "3     https://myanimelist.net/anime/16870/The_Last__...    909  \n",
       "4     https://myanimelist.net/anime/33354/Cardcaptor...   1179  \n",
       "...                                                 ...    ...  \n",
       "1495  https://myanimelist.net/anime/42938/Fruits_Bas...      4  \n",
       "1496   https://myanimelist.net/anime/9253/Steins_Gate\\n      3  \n",
       "1497  https://myanimelist.net/anime/38524/Shingeki_n...      2  \n",
       "1498     https://myanimelist.net/anime/28977/Gintama°\\n      1  \n",
       "1499  https://myanimelist.net/anime/5114/Fullmetal_A...      0  \n",
       "\n",
       "[1500 rows x 4 columns]"
      ]
     },
     "metadata": {},
     "output_type": "display_data"
    }
   ],
   "source": [
    "title_query=\"Naruto\"\n",
    "type_query=\"\"\n",
    "ep_query=0\n",
    "related_query=\"\"\n",
    "description_query=\"Naruto Shipudden Konoha Saske Sakura Ninja \"\n",
    "date_query=0\n",
    "voices_query=\"\"\n",
    "staff_query=\"\"\n",
    "rank_query=0\n",
    "pop_query=0\n",
    "score_query=0\n",
    "scores=[]\n",
    "\n",
    "for i in range(len(episodes)):\n",
    "    score1=final_score1(i,type_query,types[i],ep_query,episodes[i],title_query,title[i],related_query,related[i],description_query,description[i],date_query,release[0],voices_query,voices[i],staff_query,staff[i])\n",
    "    score2=final_score2(rank_query,ranks[i],pop_query,popularity[i],score_query,animeScore[i])\n",
    "    score=score1+score2\n",
    "    scores.append([score,i])\n",
    "sorted_scores=sorted(scores, reverse=True)\n",
    "\n",
    "\n",
    "df_score=[]\n",
    "df_title=[]\n",
    "df_urls=[]\n",
    "df_l=[]\n",
    "for i in range(len(episodes)):\n",
    "    df_score.append(sorted_scores[i][0])\n",
    "    df_title.append(title[sorted_scores[i][1]])\n",
    "    df_urls.append(urls[sorted_scores[i][1]])\n",
    "    df_l.append(sorted_scores[i][1])\n",
    "df1 = pd.DataFrame (df_score, columns = ['Score:'])\n",
    "df2 = pd.DataFrame (df_title, columns = ['Title:'])\n",
    "df3 = pd.DataFrame (df_urls, columns = ['URL:'])\n",
    "df4 = pd.DataFrame (df_l, columns = ['Rank:'])\n",
    "pdList = [df1, df2, df3,df4 ]  \n",
    "new_df = pd.concat(pdList, axis=1)\n",
    "display(new_df)"
   ]
  },
  {
   "cell_type": "code",
   "execution_count": 513,
   "id": "58750873",
   "metadata": {},
   "outputs": [
    {
     "data": {
      "text/html": [
       "<div>\n",
       "<style scoped>\n",
       "    .dataframe tbody tr th:only-of-type {\n",
       "        vertical-align: middle;\n",
       "    }\n",
       "\n",
       "    .dataframe tbody tr th {\n",
       "        vertical-align: top;\n",
       "    }\n",
       "\n",
       "    .dataframe thead th {\n",
       "        text-align: right;\n",
       "    }\n",
       "</style>\n",
       "<table border=\"1\" class=\"dataframe\">\n",
       "  <thead>\n",
       "    <tr style=\"text-align: right;\">\n",
       "      <th></th>\n",
       "      <th>Score:</th>\n",
       "      <th>Title:</th>\n",
       "      <th>URL:</th>\n",
       "      <th>Rank:</th>\n",
       "    </tr>\n",
       "  </thead>\n",
       "  <tbody>\n",
       "    <tr>\n",
       "      <th>0</th>\n",
       "      <td>12.258075</td>\n",
       "      <td>Gintama: Yorinuki Gintama-san on Theater 2D</td>\n",
       "      <td>https://myanimelist.net/anime/21899/Gintama__Y...</td>\n",
       "      <td>136</td>\n",
       "    </tr>\n",
       "    <tr>\n",
       "      <th>1</th>\n",
       "      <td>9.910090</td>\n",
       "      <td>Gintama°</td>\n",
       "      <td>https://myanimelist.net/anime/28977/Gintama°\\n</td>\n",
       "      <td>1</td>\n",
       "    </tr>\n",
       "    <tr>\n",
       "      <th>2</th>\n",
       "      <td>9.510157</td>\n",
       "      <td>Gintama'</td>\n",
       "      <td>https://myanimelist.net/anime/9969/Gintama\\n</td>\n",
       "      <td>5</td>\n",
       "    </tr>\n",
       "    <tr>\n",
       "      <th>3</th>\n",
       "      <td>9.486018</td>\n",
       "      <td>Gintama.: Shirogane no Tamashii-hen</td>\n",
       "      <td>https://myanimelist.net/anime/36838/Gintama__S...</td>\n",
       "      <td>24</td>\n",
       "    </tr>\n",
       "    <tr>\n",
       "      <th>4</th>\n",
       "      <td>9.305943</td>\n",
       "      <td>Gintama': Enchousen</td>\n",
       "      <td>https://myanimelist.net/anime/15417/Gintama__E...</td>\n",
       "      <td>8</td>\n",
       "    </tr>\n",
       "    <tr>\n",
       "      <th>...</th>\n",
       "      <td>...</td>\n",
       "      <td>...</td>\n",
       "      <td>...</td>\n",
       "      <td>...</td>\n",
       "    </tr>\n",
       "    <tr>\n",
       "      <th>1495</th>\n",
       "      <td>1.748950</td>\n",
       "      <td>Heikousen</td>\n",
       "      <td>https://myanimelist.net/anime/47402/Heikousen\\n</td>\n",
       "      <td>1090</td>\n",
       "    </tr>\n",
       "    <tr>\n",
       "      <th>1496</th>\n",
       "      <td>1.719413</td>\n",
       "      <td>Ruru-chan no Jisatsu Haishin</td>\n",
       "      <td>https://myanimelist.net/anime/41164/Ruru-chan_...</td>\n",
       "      <td>1375</td>\n",
       "    </tr>\n",
       "    <tr>\n",
       "      <th>1497</th>\n",
       "      <td>1.692791</td>\n",
       "      <td>Yoru wa Honoka</td>\n",
       "      <td>https://myanimelist.net/anime/48876/Yoru_wa_Ho...</td>\n",
       "      <td>1277</td>\n",
       "    </tr>\n",
       "    <tr>\n",
       "      <th>1498</th>\n",
       "      <td>1.675640</td>\n",
       "      <td>Yuuseiboushi</td>\n",
       "      <td>https://myanimelist.net/anime/49838/Yuuseibous...</td>\n",
       "      <td>1387</td>\n",
       "    </tr>\n",
       "    <tr>\n",
       "      <th>1499</th>\n",
       "      <td>1.595000</td>\n",
       "      <td>Puparia</td>\n",
       "      <td>https://myanimelist.net/anime/44059/Puparia\\n</td>\n",
       "      <td>1315</td>\n",
       "    </tr>\n",
       "  </tbody>\n",
       "</table>\n",
       "<p>1500 rows × 4 columns</p>\n",
       "</div>"
      ],
      "text/plain": [
       "         Score:                                       Title:  \\\n",
       "0     12.258075  Gintama: Yorinuki Gintama-san on Theater 2D   \n",
       "1      9.910090                                     Gintama°   \n",
       "2      9.510157                                     Gintama'   \n",
       "3      9.486018          Gintama.: Shirogane no Tamashii-hen   \n",
       "4      9.305943                          Gintama': Enchousen   \n",
       "...         ...                                          ...   \n",
       "1495   1.748950                                    Heikousen   \n",
       "1496   1.719413                 Ruru-chan no Jisatsu Haishin   \n",
       "1497   1.692791                               Yoru wa Honoka   \n",
       "1498   1.675640                                 Yuuseiboushi   \n",
       "1499   1.595000                                      Puparia   \n",
       "\n",
       "                                                   URL:  Rank:  \n",
       "0     https://myanimelist.net/anime/21899/Gintama__Y...    136  \n",
       "1        https://myanimelist.net/anime/28977/Gintama°\\n      1  \n",
       "2          https://myanimelist.net/anime/9969/Gintama\\n      5  \n",
       "3     https://myanimelist.net/anime/36838/Gintama__S...     24  \n",
       "4     https://myanimelist.net/anime/15417/Gintama__E...      8  \n",
       "...                                                 ...    ...  \n",
       "1495    https://myanimelist.net/anime/47402/Heikousen\\n   1090  \n",
       "1496  https://myanimelist.net/anime/41164/Ruru-chan_...   1375  \n",
       "1497  https://myanimelist.net/anime/48876/Yoru_wa_Ho...   1277  \n",
       "1498  https://myanimelist.net/anime/49838/Yuuseibous...   1387  \n",
       "1499      https://myanimelist.net/anime/44059/Puparia\\n   1315  \n",
       "\n",
       "[1500 rows x 4 columns]"
      ]
     },
     "metadata": {},
     "output_type": "display_data"
    }
   ],
   "source": [
    "title_query=\"Gintama\"\n",
    "type_query=\"TV\"\n",
    "ep_query=51\n",
    "related_query=\"Gintama Movie 2: Kanketsu-hen - Yorozuya yo Eien Nare, Gintama': Enchousen\"\n",
    "description_query=\"Gintoki, Shinpachi, and Kagura return as the fun-loving but broke members of the Yorozuya team! Living in an alternate-reality Edo, where swords are prohibited and alien overlords have conquered Japan, they try to thrive on doing whatever work they can get their hands on. However, Shinpachi and Kagura still haven't been paid... Does Gin-chan really spend all that cash playing pachinko?Meanwhile, when Gintoki drunkenly staggers home one night, an alien spaceship crashes nearby. A fatally injured crew member emerges from the ship and gives Gintoki a strange, clock-shaped device, warning him that it is incredibly powerful and must be safeguarded. Mistaking it for his alarm clock, Gintoki proceeds to smash the device the next morning and suddenly discovers that the world outside his apartment has come to a standstill. With Kagura and Shinpachi at his side, he sets off to get the device fixed; though, as usual, nothing is ever that simple for the Yorozuya team.\"\n",
    "date_query=\"2015-06-21\"\n",
    "voices_query=\"Sugita, Tomokazu Kugimiya, Rie Sakaguchi, Daisuke Ishida, Akira Nakai, Kazuya\"\n",
    "staff_query=\"Fujita, Youichi Director, Storyboard, Planning Miyawaki, Chizuru Director, Storyboard, Key Animation Takamatsu, ShinjiSound Director\"\n",
    "rank_query=2\n",
    "pop_query=337\n",
    "score_query=9.09\n",
    "scores=[]\n",
    "\n",
    "for i in range(len(episodes)):\n",
    "    score1=final_score1(i,type_query,types[i],ep_query,episodes[i],title_query,title[i],related_query,related[i],description_query,description[i],date_query,release[0],voices_query,voices[i],staff_query,staff[i])\n",
    "    score2=final_score2(rank_query,ranks[i],pop_query,popularity[i],score_query,animeScore[i])\n",
    "    score=score1+score2\n",
    "    scores.append([score,i])\n",
    "sorted_scores=sorted(scores, reverse=True)\n",
    "\n",
    "\n",
    "df_score=[]\n",
    "df_title=[]\n",
    "df_urls=[]\n",
    "df_l=[]\n",
    "for i in range(len(episodes)):\n",
    "    df_score.append(sorted_scores[i][0])\n",
    "    df_title.append(title[sorted_scores[i][1]])\n",
    "    df_urls.append(urls[sorted_scores[i][1]])\n",
    "    df_l.append(sorted_scores[i][1])\n",
    "df1 = pd.DataFrame (df_score, columns = ['Score:'])\n",
    "df2 = pd.DataFrame (df_title, columns = ['Title:'])\n",
    "df3 = pd.DataFrame (df_urls, columns = ['URL:'])\n",
    "df4 = pd.DataFrame (df_l, columns = ['Rank:'])\n",
    "pdList = [df1, df2, df3,df4 ]  \n",
    "new_df = pd.concat(pdList, axis=1)\n",
    "display(new_df)"
   ]
  }
 ],
 "metadata": {
  "kernelspec": {
   "display_name": "Python 3",
   "language": "python",
   "name": "python3"
  },
  "language_info": {
   "codemirror_mode": {
    "name": "ipython",
    "version": 3
   },
   "file_extension": ".py",
   "mimetype": "text/x-python",
   "name": "python",
   "nbconvert_exporter": "python",
   "pygments_lexer": "ipython3",
   "version": "3.8.8"
  }
 },
 "nbformat": 4,
 "nbformat_minor": 5
}
