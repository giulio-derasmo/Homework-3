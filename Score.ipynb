{
 "cells": [
  {
   "cell_type": "code",
   "execution_count": 278,
   "id": "b564fdf8",
   "metadata": {},
   "outputs": [],
   "source": [
    "import requests\n",
    "import pandas as pd\n",
    "import os\n",
    "import re\n",
    "import math\n",
    "from tqdm import tqdm\n",
    "from bs4 import BeautifulSoup\n",
    "from datetime import datetime\n",
    "from collections import Counter\n",
    "from natsort import natsorted"
   ]
  },
  {
   "cell_type": "code",
   "execution_count": 286,
   "id": "c67884c2",
   "metadata": {},
   "outputs": [
    {
     "name": "stderr",
     "output_type": "stream",
     "text": [
      "100%|█████████████████████████████████████████████████████████████████████████████| 1500/1500 [00:03<00:00, 446.61it/s]\n"
     ]
    }
   ],
   "source": [
    "episodes = []\n",
    "title=[]\n",
    "types = []\n",
    "popularity = []\n",
    "description=[]\n",
    "related=[]\n",
    "release=[]\n",
    "animeScore=[]\n",
    "voices=[]\n",
    "staff=[]\n",
    "ranks=[]\n",
    "# positioning\n",
    "folder = r\"./tsv_anime/\"\n",
    "# iter over the file\n",
    "for anime in tqdm(natsorted(os.listdir(folder))):\n",
    "    df = pd.read_csv(folder+anime, sep = \"\\t\")\n",
    "    episodes.append(df[\"animeNumEpisode\"][0])\n",
    "    types.append(df[\"animeType\"][0])\n",
    "    popularity.append(df[\"animePopularity\"][0])\n",
    "    description.append(df[\"animeDescription\"][0])\n",
    "    title.append(df[\"animeTitle\"][0])\n",
    "    related.append(df[\"animeRelated\"][0])\n",
    "    release.append(df[\"releaseDate\"][0])\n",
    "    animeScore.append(df[\"animeScore\"][0])\n",
    "    voices.append(df[\"animeVoices\"][0])\n",
    "    staff.append(df[\"animeStaff\"][0])\n",
    "    ranks.append(df[\"animeRank\"][0])\n",
    "    "
   ]
  },
  {
   "cell_type": "code",
   "execution_count": 287,
   "id": "0cec70b0",
   "metadata": {
    "scrolled": false
   },
   "outputs": [
    {
     "data": {
      "text/html": [
       "<div>\n",
       "<style scoped>\n",
       "    .dataframe tbody tr th:only-of-type {\n",
       "        vertical-align: middle;\n",
       "    }\n",
       "\n",
       "    .dataframe tbody tr th {\n",
       "        vertical-align: top;\n",
       "    }\n",
       "\n",
       "    .dataframe thead th {\n",
       "        text-align: right;\n",
       "    }\n",
       "</style>\n",
       "<table border=\"1\" class=\"dataframe\">\n",
       "  <thead>\n",
       "    <tr style=\"text-align: right;\">\n",
       "      <th></th>\n",
       "      <th>animeTitle</th>\n",
       "      <th>animeType</th>\n",
       "      <th>animeNumEpisode</th>\n",
       "      <th>releaseDate</th>\n",
       "      <th>endDate</th>\n",
       "      <th>animeNumMembers</th>\n",
       "      <th>animeScore</th>\n",
       "      <th>animeUsers</th>\n",
       "      <th>animeRank</th>\n",
       "      <th>animePopularity</th>\n",
       "      <th>animeDescription</th>\n",
       "      <th>animeRelated</th>\n",
       "      <th>animeCharacters</th>\n",
       "      <th>animeVoices</th>\n",
       "      <th>animeStaff</th>\n",
       "    </tr>\n",
       "  </thead>\n",
       "  <tbody>\n",
       "    <tr>\n",
       "      <th>0</th>\n",
       "      <td>Konjiki no Gash Bell!!</td>\n",
       "      <td>TV</td>\n",
       "      <td>150</td>\n",
       "      <td>2003-04-06</td>\n",
       "      <td>2006-03-26</td>\n",
       "      <td>107912</td>\n",
       "      <td>7.54</td>\n",
       "      <td>46265</td>\n",
       "      <td>1499</td>\n",
       "      <td>1519</td>\n",
       "      <td>Takamine Kiyomaro, a depressed don't-care-abou...</td>\n",
       "      <td>['Konjiki no Gash!!', 'Konjiki no Gash Bell!!:...</td>\n",
       "      <td>['Bell, Gash', 'Takamine, Kiyomaro', 'Folgore,...</td>\n",
       "      <td>['Ootani, IkueJapanese', 'Sakurai, TakahiroJap...</td>\n",
       "      <td>[[['Hamano, Takatoshi', 'Producer'], ['Kaizawa...</td>\n",
       "    </tr>\n",
       "  </tbody>\n",
       "</table>\n",
       "</div>"
      ],
      "text/plain": [
       "               animeTitle animeType  animeNumEpisode releaseDate     endDate  \\\n",
       "0  Konjiki no Gash Bell!!        TV              150  2003-04-06  2006-03-26   \n",
       "\n",
       "   animeNumMembers  animeScore  animeUsers  animeRank  animePopularity  \\\n",
       "0           107912        7.54       46265       1499             1519   \n",
       "\n",
       "                                    animeDescription  \\\n",
       "0  Takamine Kiyomaro, a depressed don't-care-abou...   \n",
       "\n",
       "                                        animeRelated  \\\n",
       "0  ['Konjiki no Gash!!', 'Konjiki no Gash Bell!!:...   \n",
       "\n",
       "                                     animeCharacters  \\\n",
       "0  ['Bell, Gash', 'Takamine, Kiyomaro', 'Folgore,...   \n",
       "\n",
       "                                         animeVoices  \\\n",
       "0  ['Ootani, IkueJapanese', 'Sakurai, TakahiroJap...   \n",
       "\n",
       "                                          animeStaff  \n",
       "0  [[['Hamano, Takatoshi', 'Producer'], ['Kaizawa...  "
      ]
     },
     "execution_count": 287,
     "metadata": {},
     "output_type": "execute_result"
    }
   ],
   "source": [
    "df"
   ]
  },
  {
   "cell_type": "markdown",
   "id": "e8326a63",
   "metadata": {},
   "source": [
    "## Change datatypes "
   ]
  },
  {
   "cell_type": "markdown",
   "id": "0a824278",
   "metadata": {},
   "source": [
    "change title[316] datatype to string"
   ]
  },
  {
   "cell_type": "code",
   "execution_count": 288,
   "id": "482b013a",
   "metadata": {
    "scrolled": false
   },
   "outputs": [
    {
     "name": "stdout",
     "output_type": "stream",
     "text": [
      "<class 'numpy.int64'>\n",
      "<class 'int'>\n",
      "<class 'str'>\n"
     ]
    }
   ],
   "source": [
    "import numpy as np\n",
    "print(type(title[316]))\n",
    "title[316]=title[316].item()\n",
    "print(type(title[316]))\n",
    "title[316]=str(title[316])\n",
    "print(type(title[316]))"
   ]
  },
  {
   "cell_type": "code",
   "execution_count": 289,
   "id": "d0e38223",
   "metadata": {
    "scrolled": true
   },
   "outputs": [],
   "source": [
    "for i in range(len(staff)):\n",
    "    if(type(staff[i])!=str):\n",
    "        staff[i]=staff[i].item()\n",
    "        staff[i]=str(staff[i])\n",
    "    #print(type(staff[i]))"
   ]
  },
  {
   "cell_type": "code",
   "execution_count": 290,
   "id": "1b66a7b5",
   "metadata": {
    "scrolled": true
   },
   "outputs": [],
   "source": [
    "for i in range(len(voices)):\n",
    "    if(type(voices[i])!=str):\n",
    "        voices[i]=voices[i].item()\n",
    "        voices[i]=str(voices[i])\n",
    "    #print(type(staff[i]))"
   ]
  },
  {
   "cell_type": "code",
   "execution_count": 292,
   "id": "e926ea64",
   "metadata": {},
   "outputs": [],
   "source": [
    "for i in range(len(ranks)):\n",
    "    ranks[i]=ranks[i].item()"
   ]
  },
  {
   "cell_type": "markdown",
   "id": "50e90ddb",
   "metadata": {},
   "source": [
    "### We used cosine to determine  how similar the documents are irrespective of their size is to the entered query.Does the text match each other? : (Description,AnimeStaff,Voices)"
   ]
  },
  {
   "cell_type": "code",
   "execution_count": 156,
   "id": "c89ad79d",
   "metadata": {},
   "outputs": [],
   "source": [
    "WORD = re.compile(r\"\\w+\")"
   ]
  },
  {
   "cell_type": "code",
   "execution_count": 116,
   "id": "60d99d45",
   "metadata": {},
   "outputs": [],
   "source": [
    "def cosine_text(input_text,comparison_text):\n",
    "    intersection = set(input_text.keys()) & set(comparison_text.keys())\n",
    "    numerator = sum([input_text[x] * comparison_text[x] for x in intersection])\n",
    "    sum1 = sum([input_text[x] ** 2 for x in list(input_text.keys())])\n",
    "    sum2 = sum([input_text[x] ** 2 for x in list(comparison_text.keys())])\n",
    "    denominator = math.sqrt(sum1) * math.sqrt(sum2)\n",
    "    if not denominator:\n",
    "        return 0.0\n",
    "    else:\n",
    "        return float(numerator) / denominator  "
   ]
  },
  {
   "cell_type": "code",
   "execution_count": 117,
   "id": "8fa07c46",
   "metadata": {},
   "outputs": [],
   "source": [
    "def text_to_vector(text):\n",
    "    words = WORD.findall(text)\n",
    "    return Counter(words)"
   ]
  },
  {
   "cell_type": "code",
   "execution_count": 118,
   "id": "bf6bbf98",
   "metadata": {},
   "outputs": [],
   "source": [
    "def cosine(input_text,comparison_text):\n",
    "    vector1 = text_to_vector(input_text)\n",
    "    vector2 = text_to_vector(comparison_text)\n",
    "    cosine = cosine_text(vector1, vector2)\n",
    "    return(cosine)"
   ]
  },
  {
   "cell_type": "markdown",
   "id": "4c66c7d0",
   "metadata": {},
   "source": [
    "### How to text similar:Type"
   ]
  },
  {
   "cell_type": "code",
   "execution_count": 205,
   "id": "1965dcde",
   "metadata": {},
   "outputs": [],
   "source": [
    "from difflib import SequenceMatcher\n",
    "def similar(a, b):\n",
    "    return SequenceMatcher(None, a, b).ratio()"
   ]
  },
  {
   "cell_type": "markdown",
   "id": "d1d0c8ae",
   "metadata": {},
   "source": [
    "### For num_episode variable, we have classified the amount of anime into 4 categories:\n",
    "##### 0 is film\n",
    "##### 1 is short\n",
    "##### 2 is medium\n",
    "##### 3 is large\n"
   ]
  },
  {
   "cell_type": "markdown",
   "id": "135176b6",
   "metadata": {},
   "source": [
    "First we define the category of the input data"
   ]
  },
  {
   "cell_type": "code",
   "execution_count": 119,
   "id": "e030d495",
   "metadata": {},
   "outputs": [],
   "source": [
    "def identify_category(input_eps,next_eps):\n",
    "    if(type(next_eps) == str):\n",
    "        return 0\n",
    "    score=0\n",
    "    if(input_eps==1):\n",
    "        category=0\n",
    "    elif(input_eps<25 and input_eps>=8):\n",
    "        category=1\n",
    "    elif(input_eps<65 and input_eps>=25):\n",
    "        category=2\n",
    "    else:\n",
    "        category=3\n",
    "        \n",
    "    if(next_eps==1):\n",
    "        category1=0\n",
    "    elif(next_eps<25 and input_eps>=8):\n",
    "        category1=1\n",
    "    elif(next_eps<65 and input_eps>=25):\n",
    "        category1=2\n",
    "    else:\n",
    "        category1=3\n",
    "    return(category,category1)"
   ]
  },
  {
   "cell_type": "markdown",
   "id": "ddc4d6dd",
   "metadata": {},
   "source": [
    "Calculated their differences. Depending on the number of episodes, we will be able to determine the greatest suitable anime by length"
   ]
  },
  {
   "cell_type": "code",
   "execution_count": 120,
   "id": "f73a82f7",
   "metadata": {},
   "outputs": [],
   "source": [
    "def episode_score(input_eps,next_eps):\n",
    "    if(type(next_eps)==str):\n",
    "        return 0\n",
    "    category=(identify_category(input_eps,next_eps))\n",
    "    #print(category)\n",
    "    if(category[0]==category[1]):\n",
    "        return 1\n",
    "    elif(abs(category[0]-category[1])==1):\n",
    "        return 0.66\n",
    "    elif(abs(category[0]-category[1])>1):\n",
    "        return 0.33\n",
    "    else:\n",
    "        return 0"
   ]
  },
  {
   "cell_type": "markdown",
   "id": "397eb0fa",
   "metadata": {},
   "source": [
    "## Rank"
   ]
  },
  {
   "cell_type": "markdown",
   "id": "940077d9",
   "metadata": {},
   "source": [
    "The logic of ranking metric is that we push away from the request, if the query anime was given to us by the top 100 anime, we of course are looking for a suitable one from the top 100 or from the top 1000"
   ]
  },
  {
   "cell_type": "code",
   "execution_count": 298,
   "id": "d46133ba",
   "metadata": {},
   "outputs": [],
   "source": [
    "def ranking(input_rank,next_rank):\n",
    "    diff=abs(input_rank-next_rank)\n",
    "    if(diff<=100):\n",
    "        return 1\n",
    "    elif(diff>100 and diff<=1000):\n",
    "        return 0.66\n",
    "    else:\n",
    "        return 0.33"
   ]
  },
  {
   "cell_type": "markdown",
   "id": "97ac2b82",
   "metadata": {},
   "source": [
    "### Date"
   ]
  },
  {
   "cell_type": "markdown",
   "id": "515034ee",
   "metadata": {},
   "source": [
    "We created a date metric to determine how late and newer the anime is with the query being compared."
   ]
  },
  {
   "cell_type": "code",
   "execution_count": 207,
   "id": "21011309",
   "metadata": {
    "scrolled": true
   },
   "outputs": [
    {
     "name": "stdout",
     "output_type": "stream",
     "text": [
      "0.5\n"
     ]
    }
   ],
   "source": [
    "def date(input_date,releaseDate):\n",
    "    diff = (abs(datetime.strptime(input_date,'%Y-%m-%d')-datetime.strptime(releaseDate,'%Y-%m-%d')))\n",
    "    days = diff.days\n",
    "    #Anime came out in the same season\n",
    "    if(days>0 and days<=100):\n",
    "        return 1\n",
    "    #Differences in 1 year\n",
    "    elif(days>100 and days<=300):\n",
    "        return 0.5\n",
    "    return(0)\n",
    "\n",
    "print(date(date_query,release[0]))"
   ]
  },
  {
   "cell_type": "markdown",
   "id": "693bf86a",
   "metadata": {},
   "source": [
    "## Popularity metric"
   ]
  },
  {
   "cell_type": "markdown",
   "id": "3324a1b2",
   "metadata": {},
   "source": [
    "The logic of this metric is similar to the rank metric."
   ]
  },
  {
   "cell_type": "code",
   "execution_count": 330,
   "id": "808a2d2f",
   "metadata": {},
   "outputs": [],
   "source": [
    "def score_pop(input_pop,next_pop):\n",
    "    diff=abs(input_pop-next_pop)\n",
    "    if(input_pop<=100 and diff<=100):\n",
    "        return 0.66\n",
    "    elif(input_pop>100 and pop<=1000 and diff>100):\n",
    "        return 0.44\n",
    "    else:\n",
    "        return 0.22"
   ]
  },
  {
   "cell_type": "markdown",
   "id": "2e19c5b4",
   "metadata": {},
   "source": [
    "## animeScore metric"
   ]
  },
  {
   "cell_type": "markdown",
   "id": "0d974733",
   "metadata": {},
   "source": [
    "We also categorized the anime by a rating, like metric number episodes\n",
    "#### 1 High  \n",
    "#### 2 Average \n",
    "#### 3 Low"
   ]
  },
  {
   "cell_type": "code",
   "execution_count": 337,
   "id": "d0d099c6",
   "metadata": {},
   "outputs": [],
   "source": [
    "def identify_s(input_s,next_s):\n",
    "    if(input_s>=8):\n",
    "        category=1\n",
    "    elif(input_s<8 and input_s>=5):\n",
    "        category=2\n",
    "    else:\n",
    "        category=3\n",
    "       \n",
    "    if(next_s>=8):\n",
    "        category1=1\n",
    "    elif(next_s<8 and next_s>=5):\n",
    "        category1=2\n",
    "    else:\n",
    "        category1=3\n",
    "    return(category,category1)"
   ]
  },
  {
   "cell_type": "code",
   "execution_count": 341,
   "id": "9b62b8ef",
   "metadata": {},
   "outputs": [],
   "source": [
    "def score_s(input_s,next_s):\n",
    "    category = identify_s(input_s,next_s)\n",
    "    #print(category)\n",
    "    if(category[0]==category[1]):\n",
    "        return 1\n",
    "    elif(abs(category[0]-category[1])==1):\n",
    "        return 0.66\n",
    "    elif(abs(category[0]-category[1])>1):\n",
    "        return 0.33\n",
    "    else:\n",
    "        return 0"
   ]
  },
  {
   "cell_type": "code",
   "execution_count": 316,
   "id": "ecee1f6f",
   "metadata": {},
   "outputs": [],
   "source": [
    "#for i in range(len(popularity)):\n",
    "    #print(popularity[i])"
   ]
  },
  {
   "cell_type": "markdown",
   "id": "01f31460",
   "metadata": {},
   "source": [
    "### Final score metric"
   ]
  },
  {
   "cell_type": "code",
   "execution_count": 349,
   "id": "2e82954f",
   "metadata": {},
   "outputs": [],
   "source": [
    "def final_score1(i,input_type,next_type,input_eps,next_eps,input_title,next_title,input_related,next_related,input_description,next_description,input_date,next_date,input_voice,next_voice,input_staff,next_staff):\n",
    "    #Type variable\n",
    "    #print(title[i])\n",
    "    score1=similar(input_type,next_type)\n",
    "    #print(\"Type_score\",score1)\n",
    "    #Episodes variable\n",
    "    score2=episode_score(input_eps,next_eps)\n",
    "    #print(\"Episode_score\",score2)\n",
    "    #Title variable\n",
    "    score3=cosine(input_title,next_title)\n",
    "    #print(\"Title_score\",score3)\n",
    "    #Related anime variable\n",
    "    score4=cosine(input_related,next_related)\n",
    "    #print(\"Related_score\",score4)\n",
    "    #Description variable\n",
    "    score5=cosine(input_description,next_description)\n",
    "    #print(\"Description_score\",score5)\n",
    "    #Season date variable\n",
    "    score6=date(input_date,next_date)\n",
    "    #print(\"Season_score\",score6)\n",
    "    #Voices variable\n",
    "    score7=cosine(input_voice,next_voice)\n",
    "    #Staff  variable\n",
    "    score8=cosine(input_staff,next_staff)\n",
    "    return(score1+score2+score3+score4+score5+score6+score7+score8)"
   ]
  },
  {
   "cell_type": "code",
   "execution_count": 331,
   "id": "ae5a7d47",
   "metadata": {},
   "outputs": [],
   "source": [
    "def final_score2(input_rank,next_rank,input_pop,next_pop,input_s,next_s):\n",
    "    #Rank\n",
    "    score9 = ranking(input_rank,next_rank)\n",
    "    #Popularity\n",
    "    score10=score_pop(input_pop,next_pop)\n",
    "    #animeScore\n",
    "    score11=score_s(input_s,next_s)\n",
    "    return(score9+score10+score11)\n"
   ]
  },
  {
   "cell_type": "code",
   "execution_count": 143,
   "id": "412e9390",
   "metadata": {},
   "outputs": [],
   "source": [
    "with open(\"./anime_url.txt\", \"r\", encoding = \"utf-8\") as f:\n",
    "    urls = f.readlines()"
   ]
  },
  {
   "cell_type": "code",
   "execution_count": 350,
   "id": "fa7fc553",
   "metadata": {},
   "outputs": [
    {
     "data": {
      "text/html": [
       "<div>\n",
       "<style scoped>\n",
       "    .dataframe tbody tr th:only-of-type {\n",
       "        vertical-align: middle;\n",
       "    }\n",
       "\n",
       "    .dataframe tbody tr th {\n",
       "        vertical-align: top;\n",
       "    }\n",
       "\n",
       "    .dataframe thead th {\n",
       "        text-align: right;\n",
       "    }\n",
       "</style>\n",
       "<table border=\"1\" class=\"dataframe\">\n",
       "  <thead>\n",
       "    <tr style=\"text-align: right;\">\n",
       "      <th></th>\n",
       "      <th>Score:</th>\n",
       "      <th>Title:</th>\n",
       "      <th>URL:</th>\n",
       "    </tr>\n",
       "  </thead>\n",
       "  <tbody>\n",
       "    <tr>\n",
       "      <th>0</th>\n",
       "      <td>10.017335</td>\n",
       "      <td>Death Note</td>\n",
       "      <td>https://myanimelist.net/anime/1535/Death_Note\\n</td>\n",
       "    </tr>\n",
       "    <tr>\n",
       "      <th>1</th>\n",
       "      <td>6.890816</td>\n",
       "      <td>Death Parade</td>\n",
       "      <td>https://myanimelist.net/anime/28223/Death_Para...</td>\n",
       "    </tr>\n",
       "    <tr>\n",
       "      <th>2</th>\n",
       "      <td>6.825852</td>\n",
       "      <td>Aoi Bungaku Series</td>\n",
       "      <td>https://myanimelist.net/anime/7193/Aoi_Bungaku...</td>\n",
       "    </tr>\n",
       "    <tr>\n",
       "      <th>3</th>\n",
       "      <td>6.718537</td>\n",
       "      <td>Fullmetal Alchemist: Brotherhood</td>\n",
       "      <td>https://myanimelist.net/anime/5114/Fullmetal_A...</td>\n",
       "    </tr>\n",
       "    <tr>\n",
       "      <th>4</th>\n",
       "      <td>6.704780</td>\n",
       "      <td>Kimetsu no Yaiba</td>\n",
       "      <td>https://myanimelist.net/anime/38000/Kimetsu_no...</td>\n",
       "    </tr>\n",
       "    <tr>\n",
       "      <th>...</th>\n",
       "      <td>...</td>\n",
       "      <td>...</td>\n",
       "      <td>...</td>\n",
       "    </tr>\n",
       "    <tr>\n",
       "      <th>1495</th>\n",
       "      <td>1.590943</td>\n",
       "      <td>Detective Conan: Conan vs. Kid - Shark &amp; Jewel</td>\n",
       "      <td>https://myanimelist.net/anime/9785/Detective_C...</td>\n",
       "    </tr>\n",
       "    <tr>\n",
       "      <th>1496</th>\n",
       "      <td>1.589411</td>\n",
       "      <td>Afro Samurai Movie</td>\n",
       "      <td>https://myanimelist.net/anime/13709/Afro_Samur...</td>\n",
       "    </tr>\n",
       "    <tr>\n",
       "      <th>1497</th>\n",
       "      <td>1.589411</td>\n",
       "      <td>Date A Bullet: Nightmare or Queen</td>\n",
       "      <td>https://myanimelist.net/anime/42423/Date_A_Bul...</td>\n",
       "    </tr>\n",
       "    <tr>\n",
       "      <th>1498</th>\n",
       "      <td>1.578433</td>\n",
       "      <td>Yuuseiboushi</td>\n",
       "      <td>https://myanimelist.net/anime/49838/Yuuseibous...</td>\n",
       "    </tr>\n",
       "    <tr>\n",
       "      <th>1499</th>\n",
       "      <td>1.578433</td>\n",
       "      <td>Puparia</td>\n",
       "      <td>https://myanimelist.net/anime/44059/Puparia\\n</td>\n",
       "    </tr>\n",
       "  </tbody>\n",
       "</table>\n",
       "<p>1500 rows × 3 columns</p>\n",
       "</div>"
      ],
      "text/plain": [
       "         Score:                                          Title:  \\\n",
       "0     10.017335                                      Death Note   \n",
       "1      6.890816                                    Death Parade   \n",
       "2      6.825852                              Aoi Bungaku Series   \n",
       "3      6.718537                Fullmetal Alchemist: Brotherhood   \n",
       "4      6.704780                                Kimetsu no Yaiba   \n",
       "...         ...                                             ...   \n",
       "1495   1.590943  Detective Conan: Conan vs. Kid - Shark & Jewel   \n",
       "1496   1.589411                              Afro Samurai Movie   \n",
       "1497   1.589411               Date A Bullet: Nightmare or Queen   \n",
       "1498   1.578433                                    Yuuseiboushi   \n",
       "1499   1.578433                                         Puparia   \n",
       "\n",
       "                                                   URL:  \n",
       "0       https://myanimelist.net/anime/1535/Death_Note\\n  \n",
       "1     https://myanimelist.net/anime/28223/Death_Para...  \n",
       "2     https://myanimelist.net/anime/7193/Aoi_Bungaku...  \n",
       "3     https://myanimelist.net/anime/5114/Fullmetal_A...  \n",
       "4     https://myanimelist.net/anime/38000/Kimetsu_no...  \n",
       "...                                                 ...  \n",
       "1495  https://myanimelist.net/anime/9785/Detective_C...  \n",
       "1496  https://myanimelist.net/anime/13709/Afro_Samur...  \n",
       "1497  https://myanimelist.net/anime/42423/Date_A_Bul...  \n",
       "1498  https://myanimelist.net/anime/49838/Yuuseibous...  \n",
       "1499      https://myanimelist.net/anime/44059/Puparia\\n  \n",
       "\n",
       "[1500 rows x 3 columns]"
      ]
     },
     "metadata": {},
     "output_type": "display_data"
    }
   ],
   "source": [
    "title_query=\"Death Note\"\n",
    "type_query=\"TV\"\n",
    "ep_query=36\n",
    "related_query=\"Death Note: Rewrite\"\n",
    "description_query=\"A shinigami, as a god of death, can kill any person—provided they see their victim's face and write their victim's name in a notebook called a Death Note. One day, Ryuk, bored by the shinigami lifestyle and interested in seeing how a human would use a Death Note, drops one into the human realm.High school student and prodigy Light Yagami stumbles upon the Death Note and—since he deplores the state of the world—tests the deadly notebook by writing a criminal's name in it. When the criminal dies immediately following his experiment with the Death Note, Light is greatly surprised and quickly recognizes how devastating the power that has fallen into his hands could be.With this divine capability, Light decides to extinguish all criminals in order to build a new world where crime does not exist and people worship him as a god. Police, however, quickly discover that a serial killer is targeting criminals and, consequently, try to apprehend the culprit. To do this, the Japanese investigators count on the assistance of the best detective in the world: a young and eccentric man known only by the name of L.\"\n",
    "date_query=\"2006-08-07\"\n",
    "voices_query=\"Yamaguchi, Kappei,Miyano, Mamoru,Nakamura, Shidou\"\n",
    "staff_query=\"Maruyama, Masao Producer Tamura, Manabu Produceru Araki, Tetsurou Director, Episode Director, Storyboard, Theme Song LyricsYamada, ChiakiSound Director\"\n",
    "rank_query=66\n",
    "pop_query=1\n",
    "score_query=9.1\n",
    "scores=[]\n",
    "for i in range(len(episodes)):\n",
    "    score1=final_score1(i,type_query,types[i],ep_query,episodes[i],title_query,title[i],related_query,related[i],description_query,description[i],date_query,release[0],voices_query,voices[i],staff_query,staff[i])\n",
    "    score2=final_score2(rank_query,ranks[i],pop_query,popularity[i],score_query,animeScore[i])\n",
    "    score=score1+score2\n",
    "    scores.append([score,i])\n",
    "sorted_scores=sorted(scores, reverse=True)\n",
    "\n",
    "\n",
    "df_score=[]\n",
    "df_title=[]\n",
    "df_urls=[]\n",
    "for i in range(len(episodes)):\n",
    "    df_score.append(sorted_scores[i][0])\n",
    "    df_title.append(title[sorted_scores[i][1]])\n",
    "    df_urls.append(urls[sorted_scores[i][1]])\n",
    "df1 = pd.DataFrame (df_score, columns = ['Score:'])\n",
    "df2 = pd.DataFrame (df_title, columns = ['Title:'])\n",
    "df3 = pd.DataFrame (df_urls, columns = ['URL:'])\n",
    "pdList = [df1, df2, df3 ]  \n",
    "new_df = pd.concat(pdList, axis=1)\n",
    "display(new_df)"
   ]
  },
  {
   "cell_type": "code",
   "execution_count": null,
   "id": "0815b36e",
   "metadata": {},
   "outputs": [],
   "source": []
  }
 ],
 "metadata": {
  "kernelspec": {
   "display_name": "Python 3",
   "language": "python",
   "name": "python3"
  },
  "language_info": {
   "codemirror_mode": {
    "name": "ipython",
    "version": 3
   },
   "file_extension": ".py",
   "mimetype": "text/x-python",
   "name": "python",
   "nbconvert_exporter": "python",
   "pygments_lexer": "ipython3",
   "version": "3.8.8"
  }
 },
 "nbformat": 4,
 "nbformat_minor": 5
}
